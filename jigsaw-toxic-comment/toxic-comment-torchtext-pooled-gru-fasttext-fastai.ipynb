{
 "cells": [
  {
   "cell_type": "code",
   "execution_count": 1,
   "metadata": {},
   "outputs": [],
   "source": [
    "%reload_ext autoreload\n",
    "%autoreload 2\n",
    "%matplotlib inline"
   ]
  },
  {
   "cell_type": "code",
   "execution_count": 2,
   "metadata": {},
   "outputs": [],
   "source": [
    "import pdb\n",
    "import os\n",
    "\n",
    "import numpy as np\n",
    "import pandas as pd \n",
    "import matplotlib.pyplot as plt\n",
    "import seaborn as sns\n",
    "\n",
    "from pandas_summary import DataFrameSummary\n",
    "\n",
    "from fastai.model import *\n",
    "from fastai.dataset import *\n",
    "from fastai.lm_rnn import *\n",
    "from fastai.sgdr import *\n",
    "from fastai.rnn_reg import EmbeddingDropout, WeightDrop, LockedDropout\n",
    "from fastai.torch_imports import *\n",
    "\n",
    "import torchtext\n",
    "from torchtext import vocab, data\n",
    "\n",
    "from sklearn.model_selection import train_test_split, StratifiedShuffleSplit\n",
    "from sklearn.linear_model import LinearRegression\n",
    "from sklearn.feature_extraction.text import CountVectorizer, TfidfVectorizer\n",
    "\n",
    "import spacy\n",
    "from spacy.lang.en.stop_words import STOP_WORDS as spacy_STOPWORDS\n",
    "spacy_en = spacy.load('en')\n",
    "\n",
    "from wordcloud import WordCloud, STOPWORDS\n",
    "\n",
    "# pandas and plotting config\n",
    "pd.set_option('display.max_rows', 500)\n",
    "pd.set_option('display.max_columns', 500)\n",
    "pd.set_option('display.max_colwidth', -1)"
   ]
  },
  {
   "cell_type": "code",
   "execution_count": 3,
   "metadata": {},
   "outputs": [],
   "source": [
    "PATH = 'data'\n",
    "\n",
    "os.makedirs(f'{PATH}/models', exist_ok=True)\n",
    "os.makedirs(f'{PATH}/tmp', exist_ok=True)\n",
    "os.makedirs(f'{PATH}/submissions', exist_ok=True)"
   ]
  },
  {
   "cell_type": "markdown",
   "metadata": {},
   "source": [
    "Load data and define labels (ordering is important for competition submission!)\n",
    "\n",
    "*Note: We are also adding a \"None\" column"
   ]
  },
  {
   "cell_type": "code",
   "execution_count": 4,
   "metadata": {},
   "outputs": [],
   "source": [
    "raw_train_df = pd.read_csv(f'{PATH}/train_preproc.csv')\n",
    "test_df = pd.read_csv(f'{PATH}/test_preproc.csv')\n",
    "sample_subm_df = pd.read_csv(f'{PATH}/sample_submission.csv')\n",
    "\n",
    "txt_col = 'comment_text_cleaned'\n",
    "\n",
    "label_cols = ['toxic', 'severe_toxic', 'obscene', 'threat', 'insult', 'identity_hate']\n",
    "raw_train_df['none'] = 1 - raw_train_df[label_cols].max(axis=1)\n",
    "\n",
    "model_cols = ['id', txt_col] + label_cols + ['none']"
   ]
  },
  {
   "cell_type": "code",
   "execution_count": 5,
   "metadata": {},
   "outputs": [],
   "source": [
    "n_folds = 10\n",
    "n_trn = len(raw_train_df)\n",
    "n_examples_per_fold = n_trn // n_folds\n",
    "\n",
    "# n_examples_per_fold"
   ]
  },
  {
   "cell_type": "markdown",
   "metadata": {},
   "source": [
    "## Prepare Data\n",
    "\n",
    "*Note: Only need to run 1x (or as desired to regenerate these .csv files)"
   ]
  },
  {
   "cell_type": "markdown",
   "metadata": {},
   "source": [
    "Build cross-validation datasets"
   ]
  },
  {
   "cell_type": "code",
   "execution_count": 6,
   "metadata": {},
   "outputs": [],
   "source": [
    "raw_train_df_rand = raw_train_df.sample(frac=1, random_state=9) # frac=1 = return all rows in random order"
   ]
  },
  {
   "cell_type": "code",
   "execution_count": 7,
   "metadata": {},
   "outputs": [],
   "source": [
    "val_dfs = []\n",
    "\n",
    "for i in range(0, n_folds):\n",
    "    start = i * n_examples_per_fold\n",
    "    end = n_examples_per_fold + start if (i + 1 < n_folds) else None\n",
    "    val_dfs.append(raw_train_df_rand[start:end])\n",
    "    \n",
    "# [ print(idx,len(d)) for idx, d in enumerate(val_dfs) ]"
   ]
  },
  {
   "cell_type": "code",
   "execution_count": 8,
   "metadata": {},
   "outputs": [],
   "source": [
    "trn_dfs = []\n",
    "\n",
    "for idx, df in enumerate(val_dfs):\n",
    "    trn_dfs.append(pd.concat([ val_df for val_idx, val_df in enumerate(val_dfs) if val_idx != idx]))\n",
    "    \n",
    "# [ print(idx,len(d)) for idx, d in enumerate(trn_dfs) ]"
   ]
  },
  {
   "cell_type": "code",
   "execution_count": 9,
   "metadata": {},
   "outputs": [
    {
     "name": "stdout",
     "output_type": "stream",
     "text": [
      "0 143614 15957\n",
      "1 143614 15957\n",
      "2 143614 15957\n",
      "3 143614 15957\n",
      "4 143614 15957\n",
      "5 143614 15957\n",
      "6 143614 15957\n",
      "7 143614 15957\n",
      "8 143614 15957\n",
      "9 143613 15958\n"
     ]
    }
   ],
   "source": [
    "for idx, [trn_df, val_df] in enumerate(zip(trn_dfs, val_dfs)):\n",
    "    print(idx, len(trn_df), len(val_df))\n",
    "    \n",
    "    trn_df[model_cols].to_csv(f'{PATH}/train_ds_{idx}_of_{n_folds}.csv', index=None)\n",
    "    val_df[model_cols].to_csv(f'{PATH}/valid_ds_{idx}_of_{n_folds}.csv', index=None)"
   ]
  },
  {
   "cell_type": "markdown",
   "metadata": {},
   "source": [
    "Use the below if you want to create a single training and cv dataset"
   ]
  },
  {
   "cell_type": "code",
   "execution_count": 10,
   "metadata": {},
   "outputs": [
    {
     "name": "stdout",
     "output_type": "stream",
     "text": [
      "151592 7979 15417 808\n"
     ]
    }
   ],
   "source": [
    "# split the training data into a train and validatin dataset\n",
    "trn, val = train_test_split(raw_train_df, test_size=0.05, random_state=9)\n",
    "print(len(trn), len(val), len(trn[trn.none != 1]), len(val[val.none != 1]))\n",
    "\n",
    "# save train, val, and test datasets for torchtext\n",
    "trn[model_cols].to_csv(f'{PATH}/train_ds.csv', index=None)\n",
    "val[model_cols].to_csv(f'{PATH}/valid_ds.csv', index=None)\n",
    "\n",
    "# save full cleaned datasets (train+valid and test) as well\n",
    "raw_train_df[model_cols].to_csv(f'{PATH}/full_train_ds.csv', index=None)\n",
    "test_df[['id', txt_col]].to_csv(f'{PATH}/test_ds.csv', index=None)"
   ]
  },
  {
   "cell_type": "code",
   "execution_count": 11,
   "metadata": {},
   "outputs": [
    {
     "data": {
      "text/html": [
       "<div>\n",
       "<style scoped>\n",
       "    .dataframe tbody tr th:only-of-type {\n",
       "        vertical-align: middle;\n",
       "    }\n",
       "\n",
       "    .dataframe tbody tr th {\n",
       "        vertical-align: top;\n",
       "    }\n",
       "\n",
       "    .dataframe thead th {\n",
       "        text-align: right;\n",
       "    }\n",
       "</style>\n",
       "<table border=\"1\" class=\"dataframe\">\n",
       "  <thead>\n",
       "    <tr style=\"text-align: right;\">\n",
       "      <th></th>\n",
       "      <th>id</th>\n",
       "      <th>comment_text_cleaned</th>\n",
       "      <th>toxic</th>\n",
       "      <th>severe_toxic</th>\n",
       "      <th>obscene</th>\n",
       "      <th>threat</th>\n",
       "      <th>insult</th>\n",
       "      <th>identity_hate</th>\n",
       "      <th>none</th>\n",
       "    </tr>\n",
       "  </thead>\n",
       "  <tbody>\n",
       "    <tr>\n",
       "      <th>0</th>\n",
       "      <td>0000997932d777bf</td>\n",
       "      <td>explanation why the edits made under my username hardcore metallica fan were reverted? they were not vandalisms, just closure on some gas after i voted at new york dolls fac. and please do not remove the template from the talk page since i am retired now.</td>\n",
       "      <td>0</td>\n",
       "      <td>0</td>\n",
       "      <td>0</td>\n",
       "      <td>0</td>\n",
       "      <td>0</td>\n",
       "      <td>0</td>\n",
       "      <td>1</td>\n",
       "    </tr>\n",
       "    <tr>\n",
       "      <th>1</th>\n",
       "      <td>000103f0d9cfb60f</td>\n",
       "      <td>d'aww! he matches this background colour i am seemingly stuck with. thanks. (talk) 21:51, january 11, 2016 (utc)</td>\n",
       "      <td>0</td>\n",
       "      <td>0</td>\n",
       "      <td>0</td>\n",
       "      <td>0</td>\n",
       "      <td>0</td>\n",
       "      <td>0</td>\n",
       "      <td>1</td>\n",
       "    </tr>\n",
       "  </tbody>\n",
       "</table>\n",
       "</div>"
      ],
      "text/plain": [
       "                 id  \\\n",
       "0  0000997932d777bf   \n",
       "1  000103f0d9cfb60f   \n",
       "\n",
       "                                                                                                                                                                                                                                              comment_text_cleaned  \\\n",
       "0  explanation why the edits made under my username hardcore metallica fan were reverted? they were not vandalisms, just closure on some gas after i voted at new york dolls fac. and please do not remove the template from the talk page since i am retired now.   \n",
       "1  d'aww! he matches this background colour i am seemingly stuck with. thanks. (talk) 21:51, january 11, 2016 (utc)                                                                                                                                                  \n",
       "\n",
       "   toxic  severe_toxic  obscene  threat  insult  identity_hate  none  \n",
       "0  0      0             0        0       0       0              1     \n",
       "1  0      0             0        0       0       0              1     "
      ]
     },
     "metadata": {},
     "output_type": "display_data"
    },
    {
     "data": {
      "text/html": [
       "<div>\n",
       "<style scoped>\n",
       "    .dataframe tbody tr th:only-of-type {\n",
       "        vertical-align: middle;\n",
       "    }\n",
       "\n",
       "    .dataframe tbody tr th {\n",
       "        vertical-align: top;\n",
       "    }\n",
       "\n",
       "    .dataframe thead th {\n",
       "        text-align: right;\n",
       "    }\n",
       "</style>\n",
       "<table border=\"1\" class=\"dataframe\">\n",
       "  <thead>\n",
       "    <tr style=\"text-align: right;\">\n",
       "      <th></th>\n",
       "      <th>id</th>\n",
       "      <th>comment_text_cleaned</th>\n",
       "    </tr>\n",
       "  </thead>\n",
       "  <tbody>\n",
       "    <tr>\n",
       "      <th>0</th>\n",
       "      <td>00001cee341fdb12</td>\n",
       "      <td>yo bitch ja rule is more succesful then you will ever be whats up with you and hating you sad mofuckas...i should bitch slap ur pethedic white faces and get you to kiss my ass you guys sicken me. ja rule is about pride in da music man. dont diss that shit on him. and nothin is wrong bein like tupac he was a brother too...fuckin white boys get things right next time.,</td>\n",
       "    </tr>\n",
       "    <tr>\n",
       "      <th>1</th>\n",
       "      <td>0000247867823ef7</td>\n",
       "      <td>== from rfc == the title is fine as it is, imo.</td>\n",
       "    </tr>\n",
       "  </tbody>\n",
       "</table>\n",
       "</div>"
      ],
      "text/plain": [
       "                 id  \\\n",
       "0  00001cee341fdb12   \n",
       "1  0000247867823ef7   \n",
       "\n",
       "                                                                                                                                                                                                                                                                                                                                                                comment_text_cleaned  \n",
       "0  yo bitch ja rule is more succesful then you will ever be whats up with you and hating you sad mofuckas...i should bitch slap ur pethedic white faces and get you to kiss my ass you guys sicken me. ja rule is about pride in da music man. dont diss that shit on him. and nothin is wrong bein like tupac he was a brother too...fuckin white boys get things right next time.,  \n",
       "1  == from rfc == the title is fine as it is, imo.                                                                                                                                                                                                                                                                                                                                    "
      ]
     },
     "metadata": {},
     "output_type": "display_data"
    }
   ],
   "source": [
    "display(pd.read_csv(\"data/full_train_ds.csv\").head(2))\n",
    "display(pd.read_csv(\"data/test_ds.csv\").head(2))"
   ]
  },
  {
   "cell_type": "markdown",
   "metadata": {},
   "source": [
    "## Build Datasets and DataLoaders\n",
    "\n",
    "Define hyperparameters and column that holds text data"
   ]
  },
  {
   "cell_type": "code",
   "execution_count": 6,
   "metadata": {},
   "outputs": [],
   "source": [
    "max_features = 100000 #30000\n",
    "min_freq = 10 #0\n",
    "max_len = 175 #100\n",
    "\n",
    "pretrained_vectors = None #'fasttext.en.300d'\n",
    "\n",
    "batch_sizes = (64,64,64)"
   ]
  },
  {
   "cell_type": "markdown",
   "metadata": {},
   "source": [
    "Configure how we are going to process text and label fields"
   ]
  },
  {
   "cell_type": "code",
   "execution_count": 7,
   "metadata": {},
   "outputs": [],
   "source": [
    "import re, string\n",
    "\n",
    "re_tok = re.compile(f'([{string.punctuation}“”¨«»®´·º½¾¿¡§£₤‘’])')\n",
    "def tokenize(s): return re_tok.sub(r' \\1 ', s).split()"
   ]
  },
  {
   "cell_type": "code",
   "execution_count": 8,
   "metadata": {},
   "outputs": [],
   "source": [
    "TEXT_fld = data.Field(sequential=True, tokenize=tokenize, lower=True, fix_length=max_len)\n",
    "LABEL_fld = data.Field(sequential=False, use_vocab=False, tensor_type=torch.cuda.ByteTensor)"
   ]
  },
  {
   "cell_type": "markdown",
   "metadata": {},
   "source": [
    "There are various built-in Datasets in torchtext that handle common use cases. **For csv/tsv files, the TabularDataset class** is convenient. Here’s how we would read data from a csv file using the TabularDataset:"
   ]
  },
  {
   "cell_type": "code",
   "execution_count": 9,
   "metadata": {},
   "outputs": [
    {
     "name": "stdout",
     "output_type": "stream",
     "text": [
      "CPU times: user 40.4 s, sys: 1.32 s, total: 41.7 s\n",
      "Wall time: 41.8 s\n"
     ]
    }
   ],
   "source": [
    "%%time\n",
    "\n",
    "# train/validation\n",
    "train_datafields = [(\"id\", None), # we won't be needing the id, so we pass in None as the field\n",
    "                    (txt_col, TEXT_fld),\n",
    "                    (\"toxic\", LABEL_fld), (\"severe_toxic\", LABEL_fld), (\"obscene\", LABEL_fld),\n",
    "                    (\"threat\", LABEL_fld), (\"insult\", LABEL_fld), (\"identity_hate\", LABEL_fld), (\"none\", None)]\n",
    "\n",
    "train_ds, valid_ds = data.TabularDataset.splits(PATH, train='train_ds.csv', validation='valid_ds.csv',\n",
    "                                          format='csv', skip_header=True, fields=train_datafields)\n",
    "\n",
    "# test\n",
    "test_datafields = [(\"id\", None), (txt_col, TEXT_fld)]\n",
    "\n",
    "test_ds = data.TabularDataset(f'{PATH}/test_ds.csv', format='csv', skip_header=True, fields=test_datafields)\n",
    "\n",
    "# train+val\n",
    "full_train_ds = data.TabularDataset(f'{PATH}/full_train_ds.csv', \n",
    "                                    format='csv', skip_header=True, fields=train_datafields)"
   ]
  },
  {
   "cell_type": "code",
   "execution_count": 10,
   "metadata": {},
   "outputs": [
    {
     "data": {
      "text/plain": [
       "<torchtext.data.example.Example at 0x7fce0e36b470>"
      ]
     },
     "metadata": {},
     "output_type": "display_data"
    },
    {
     "data": {
      "text/plain": [
       "dict_keys(['comment_text_cleaned', 'toxic', 'severe_toxic', 'obscene', 'threat', 'insult', 'identity_hate'])"
      ]
     },
     "metadata": {},
     "output_type": "display_data"
    },
    {
     "data": {
      "text/plain": [
       "['you', 'cunt']"
      ]
     },
     "metadata": {},
     "output_type": "display_data"
    }
   ],
   "source": [
    "display(train_ds[0])\n",
    "display(train_ds[0].__dict__.keys())\n",
    "display(train_ds[1].comment_text_cleaned[:5])"
   ]
  },
  {
   "cell_type": "markdown",
   "metadata": {},
   "source": [
    "Build vocab on *full* training data"
   ]
  },
  {
   "cell_type": "code",
   "execution_count": 11,
   "metadata": {},
   "outputs": [],
   "source": [
    "TEXT_fld.build_vocab(full_train_ds, min_freq=min_freq, max_size=max_features, vectors=pretrained_vectors)"
   ]
  },
  {
   "cell_type": "code",
   "execution_count": 12,
   "metadata": {},
   "outputs": [
    {
     "data": {
      "text/plain": [
       "[('.', 645337),\n",
       " ('the', 496748),\n",
       " (',', 473218),\n",
       " ('\"', 392156),\n",
       " ('to', 297318),\n",
       " ('i', 240305),\n",
       " ('of', 224837),\n",
       " ('and', 224115),\n",
       " ('is', 222448),\n",
       " ('you', 221861)]"
      ]
     },
     "execution_count": 12,
     "metadata": {},
     "output_type": "execute_result"
    }
   ],
   "source": [
    "# The vocab.freqs is a collections.Counter object, so we can take a look at the most frequent words.\n",
    "TEXT_fld.vocab.freqs.most_common(10)"
   ]
  },
  {
   "cell_type": "code",
   "execution_count": 13,
   "metadata": {},
   "outputs": [],
   "source": [
    "train_iter, val_iter = data.BucketIterator.splits(\n",
    "    (train_ds, valid_ds), # we pass in the datasets we want the iterator to draw data from\n",
    "    batch_sizes=(batch_sizes[0], batch_sizes[1]),\n",
    "    device=0, # if you want to use the GPU, specify the GPU number here\n",
    "    sort_key=lambda x: len(x.comment_text_cleaned), # the BucketIterator needs to be told what function it should use to group the data.\n",
    "    sort_within_batch=False,\n",
    "    repeat=False # we pass repeat=False because we want to wrap this Iterator layer.\n",
    ")"
   ]
  },
  {
   "cell_type": "code",
   "execution_count": 14,
   "metadata": {},
   "outputs": [
    {
     "data": {
      "text/plain": [
       "<torchtext.data.batch.Batch at 0x7fceae8ec7f0>"
      ]
     },
     "metadata": {},
     "output_type": "display_data"
    },
    {
     "data": {
      "text/plain": [
       "dict_keys(['batch_size', 'dataset', 'train', 'comment_text_cleaned', 'toxic', 'severe_toxic', 'obscene', 'threat', 'insult', 'identity_hate'])"
      ]
     },
     "metadata": {},
     "output_type": "display_data"
    }
   ],
   "source": [
    "batch = next(train_iter.__iter__()); \n",
    "\n",
    "display(batch)\n",
    "display(batch.__dict__.keys())"
   ]
  },
  {
   "cell_type": "markdown",
   "metadata": {},
   "source": [
    "For the test set, we don't want the data to be shuffled. This is why we'll be using a standard Iterator."
   ]
  },
  {
   "cell_type": "code",
   "execution_count": 15,
   "metadata": {},
   "outputs": [],
   "source": [
    "test_iter = data.Iterator(test_ds, batch_size=batch_sizes[2], device=0, train=False, \n",
    "                          shuffle=False, sort=False, sort_within_batch=False, repeat=False)"
   ]
  },
  {
   "cell_type": "code",
   "execution_count": 16,
   "metadata": {},
   "outputs": [],
   "source": [
    "class BatchWrapper:\n",
    "    def __init__(self, dl, x_var, y_vars):\n",
    "        self.dl, self.x_var, self.y_vars = dl, x_var, y_vars # we pass in the list of attributes for x and y\n",
    "    \n",
    "    def __iter__(self):\n",
    "        for batch in self.dl:\n",
    "            x = getattr(batch, self.x_var) # we assume only one input in this wrapper\n",
    "            \n",
    "            if self.y_vars is not None: # we will concatenate y into a single tensor\n",
    "                y = torch.cat([ getattr(batch, feat).unsqueeze(1) for feat in self.y_vars ], dim=1).float()\n",
    "            else:\n",
    "                y = torch.zeros((1))\n",
    "\n",
    "            yield (x, y)\n",
    "    \n",
    "    def __len__(self):\n",
    "        return len(self.dl)"
   ]
  },
  {
   "cell_type": "code",
   "execution_count": 17,
   "metadata": {},
   "outputs": [],
   "source": [
    "train_dl = BatchWrapper(train_iter, txt_col, label_cols)\n",
    "valid_dl = BatchWrapper(val_iter, txt_col, label_cols)\n",
    "test_dl = BatchWrapper(test_iter, txt_col, None)"
   ]
  },
  {
   "cell_type": "markdown",
   "metadata": {},
   "source": [
    "Construct a fastai ModelData"
   ]
  },
  {
   "cell_type": "code",
   "execution_count": 18,
   "metadata": {},
   "outputs": [],
   "source": [
    "md = ModelData(PATH, trn_dl=train_dl, val_dl=valid_dl, test_dl=test_dl)"
   ]
  },
  {
   "cell_type": "markdown",
   "metadata": {},
   "source": [
    "## Define the Model\n",
    "\n",
    "Define a simple GRU"
   ]
  },
  {
   "cell_type": "code",
   "execution_count": 19,
   "metadata": {},
   "outputs": [],
   "source": [
    "class SimpleGru(nn.Module):\n",
    "    def __init__(self, vocab_sz, emb_sz=300, n_rnn_hidden=256, n_rnn_layers=1, bi_dir=True, out_sz=1, bsz=64,\n",
    "                 linears=[512], linear_drops=[0.1],\n",
    "                 dropouth=0.3, dropouti=0.4, dropoute=0.1, wdrop=0.05, use_bn=False):\n",
    "        \n",
    "        super().__init__() \n",
    "        \n",
    "        self.bsz = bsz\n",
    "               \n",
    "        # configure embeddings layer\n",
    "        self.dropoute = dropoute\n",
    "        self.dropouti = LockedDropout(dropouti)\n",
    "        \n",
    "        self.emb = nn.Embedding(vocab_sz, emb_sz)\n",
    "        self.emb.data = train_ds.fields[txt_col].vocab.vectors # to use the pretrained vectors\n",
    "        #self.emb.weight.requires_grad=False\n",
    "        self.emb_with_drop = EmbeddingDropout(self.emb)\n",
    "        \n",
    "        # configure rnns\n",
    "        self.n_rnn_hidden, self.n_rnn_layers, self.n_dirs = n_rnn_hidden, n_rnn_layers, 2 if bi_dir else 1\n",
    "        self.rnn = nn.GRU(emb_sz, self.n_rnn_hidden, self.n_rnn_layers, bidirectional=bi_dir, dropout=dropouth)\n",
    "        if wdrop: self.rnn = WeightDrop(self.rnn, wdrop)\n",
    "      \n",
    "        # configure optional FC layers (3 because we are concat 3 outputs of bsz*n_rnn_hidden into first FC);\n",
    "        # if not concatentatin outp[-1], then make this 2\n",
    "        linears = [n_rnn_hidden * 2 * self.n_dirs] + linears\n",
    "        self.use_bn = use_bn\n",
    "        \n",
    "        self.linears = nn.ModuleList([\n",
    "            nn.Linear(linears[idx], linears[idx + 1]) for idx in range(len(linears) - 1)\n",
    "        ])\n",
    "        self.linear_bns = nn.ModuleList([\n",
    "            nn.BatchNorm1d(sz) for sz in linears[1:]\n",
    "        ])\n",
    "        self.linear_drops = nn.ModuleList([\n",
    "            nn.Dropout(drop) for drop in linear_drops\n",
    "        ])\n",
    "        \n",
    "        self.outp = nn.Linear(linears[-1], out_sz)\n",
    "        \n",
    "        # initialize weights\n",
    "        for o in self.linears: kaiming_normal(o.weight.data)\n",
    "        kaiming_normal(self.outp.weight.data)\n",
    "        \n",
    "        # init hidden\n",
    "        self.init_hidden(self.bsz)\n",
    "    \n",
    "    def forward(self, seq):\n",
    "        bsz = seq.size(1)\n",
    "        if (self.hidden[0].size(1) != bsz): self.init_hidden(bsz)\n",
    "        \n",
    "        x = self.emb_with_drop(seq, dropout=self.dropoute if self.training else 0)\n",
    "        x = self.dropouti(x)\n",
    "        \n",
    "        #pdb.set_trace()\n",
    "        output, h = self.rnn(x, self.hidden)        \n",
    "        self.hidden = repackage_var(h)\n",
    "        \n",
    "        sl, bs, _ = output.size()\n",
    "  \n",
    "        avg_pool = F.adaptive_avg_pool1d(output.permute(1,2,0), (1,)).view(bs,-1)   \n",
    "        max_pool = F.adaptive_max_pool1d(output.permute(1,2,0), (1,)).view(bs,-1) \n",
    "        \n",
    "        x = torch.cat([avg_pool, max_pool], dim=1)\n",
    "        \n",
    "        for l, d, b in zip (self.linears, self.linear_drops, self.linear_bns):\n",
    "            x = F.relu(l(x))\n",
    "            if(self.use_bn): x = b(x)\n",
    "            x = d(x)\n",
    "        \n",
    "        outp = F.sigmoid(self.outp(x))\n",
    "        return outp\n",
    "\n",
    "    def init_hidden(self, bsz):\n",
    "        self.hidden = V(torch.zeros(self.n_dirs * self.n_rnn_layers, bsz, self.n_rnn_hidden))"
   ]
  },
  {
   "cell_type": "code",
   "execution_count": 20,
   "metadata": {},
   "outputs": [],
   "source": [
    "class SimpleLstm(nn.Module):\n",
    "    def __init__(self, vocab_sz, emb_sz=300, n_rnn_hidden=256, n_rnn_layers=1, bi_dir=True, out_sz=1, bsz=64,\n",
    "                 linears=[512], linear_drops=[0.1],\n",
    "                 dropouth=0.3, dropouti=0.4, dropoute=0.1, wdrop=0.05, use_bn=False):\n",
    "        \n",
    "        super().__init__() \n",
    "        \n",
    "        self.bsz = bsz\n",
    "               \n",
    "        # configure embeddings layer\n",
    "        self.dropoute = dropoute\n",
    "        self.dropouti = LockedDropout(dropouti)\n",
    "        \n",
    "        self.emb = nn.Embedding(vocab_sz, emb_sz)\n",
    "        self.emb.data = train_ds.fields[txt_col].vocab.vectors # to use the pretrained vectors\n",
    "        #self.emb.weight.requires_grad=False\n",
    "        self.emb_with_drop = EmbeddingDropout(self.emb)\n",
    "        \n",
    "        # configure rnns\n",
    "        self.n_rnn_hidden, self.n_rnn_layers, self.n_dirs = n_rnn_hidden, n_rnn_layers, 2 if bi_dir else 1\n",
    "        self.rnn = nn.LSTM(emb_sz, self.n_rnn_hidden, self.n_rnn_layers, bidirectional=bi_dir, dropout=dropouth)\n",
    "        if wdrop: self.rnn = WeightDrop(self.rnn, wdrop)\n",
    "      \n",
    "        # configure optional FC layers (3 because we are concat 3 outputs of bsz*n_rnn_hidden into first FC);\n",
    "        # if not concatentatin outp[-1], then make this 2\n",
    "        linears = [n_rnn_hidden * 2 * self.n_dirs] + linears\n",
    "        self.use_bn = use_bn\n",
    "        \n",
    "        self.linears = nn.ModuleList([\n",
    "            nn.Linear(linears[idx], linears[idx + 1]) for idx in range(len(linears) - 1)\n",
    "        ])\n",
    "        self.linear_bns = nn.ModuleList([\n",
    "            nn.BatchNorm1d(sz) for sz in linears[1:]\n",
    "        ])\n",
    "        self.linear_drops = nn.ModuleList([\n",
    "            nn.Dropout(drop) for drop in linear_drops\n",
    "        ])\n",
    "        \n",
    "        self.outp = nn.Linear(linears[-1], out_sz)\n",
    "        \n",
    "        # initialize weights\n",
    "        for o in self.linears: kaiming_normal(o.weight.data)\n",
    "        kaiming_normal(self.outp.weight.data)\n",
    "        \n",
    "        # init hidden\n",
    "        self.init_hidden(self.bsz)\n",
    "    \n",
    "    def forward(self, seq):\n",
    "        bsz = seq.size(1)\n",
    "        if (self.hidden[0].size(1) != bsz): self.init_hidden(bsz)\n",
    "        \n",
    "        x = self.emb_with_drop(seq, dropout=self.dropoute if self.training else 0)\n",
    "        x = self.dropouti(x)\n",
    "        \n",
    "        #pdb.set_trace()\n",
    "        output, h = self.rnn(x, self.hidden)        \n",
    "        self.hidden = repackage_var(h)\n",
    "        \n",
    "        sl, bs, _ = output.size()\n",
    "  \n",
    "        avg_pool = F.adaptive_avg_pool1d(output.permute(1,2,0), (1,)).view(bs,-1)   \n",
    "        max_pool = F.adaptive_max_pool1d(output.permute(1,2,0), (1,)).view(bs,-1) \n",
    "        \n",
    "        x = torch.cat([avg_pool, max_pool], dim=1)\n",
    "        \n",
    "        for l, d, b in zip (self.linears, self.linear_drops, self.linear_bns):\n",
    "            x = F.relu(l(x))\n",
    "            if(self.use_bn): x = b(x)\n",
    "            x = d(x)\n",
    "        \n",
    "        outp = F.sigmoid(self.outp(x))\n",
    "        return outp\n",
    "\n",
    "    def init_hidden(self, bsz):\n",
    "        self.hidden = (V(torch.zeros(self.n_dirs * self.n_rnn_layers, bsz, self.n_rnn_hidden)),\n",
    "                       V(torch.zeros(self.n_dirs * self.n_rnn_layers, bsz, self.n_rnn_hidden)))"
   ]
  },
  {
   "cell_type": "code",
   "execution_count": 25,
   "metadata": {},
   "outputs": [
    {
     "data": {
      "text/plain": [
       "SimpleLstm(\n",
       "  (dropouti): LockedDropout(\n",
       "  )\n",
       "  (emb): Embedding(26970, 300)\n",
       "  (emb_with_drop): EmbeddingDropout(\n",
       "    (embed): Embedding(26970, 300)\n",
       "  )\n",
       "  (rnn): WeightDrop(\n",
       "    (module): LSTM(300, 128, dropout=0.3, bidirectional=True)\n",
       "  )\n",
       "  (linears): ModuleList(\n",
       "  )\n",
       "  (linear_bns): ModuleList(\n",
       "  )\n",
       "  (linear_drops): ModuleList(\n",
       "  )\n",
       "  (outp): Linear(in_features=512, out_features=6, bias=True)\n",
       ")"
      ]
     },
     "execution_count": 25,
     "metadata": {},
     "output_type": "execute_result"
    }
   ],
   "source": [
    "vocab_sz = len(TEXT_fld.vocab)\n",
    "emb_sz = 300\n",
    "\n",
    "n_rnn_hidden = 128\n",
    "n_rnn_layers = 1\n",
    "bi_dir = True\n",
    "\n",
    "out_sz = 6\n",
    "linears = []; linear_drops = []; use_bn = False\n",
    "\n",
    "model = SimpleLstm(vocab_sz, emb_sz, n_rnn_hidden, n_rnn_layers, True, out_sz, bsz=batch_sizes[0],\n",
    "                             linears=linears, linear_drops=linear_drops, use_bn=use_bn)\n",
    "\n",
    "model.cuda()"
   ]
  },
  {
   "cell_type": "code",
   "execution_count": 82,
   "metadata": {},
   "outputs": [],
   "source": [
    "class ConvLstm(nn.Module):\n",
    "    def __init__(self, vocab_sz, emb_sz=300, n_rnn_hidden=256, n_rnn_layers=1, bi_dir=True, out_sz=1, bsz=64,\n",
    "                 dropouth=0.3, dropouti=0.4, dropoute=0.1, wdrop=0.05):\n",
    "        \n",
    "        super().__init__() \n",
    "        \n",
    "        self.bsz = bsz\n",
    "               \n",
    "        # configure embeddings layer\n",
    "        self.dropoute = dropoute\n",
    "        self.dropouti = LockedDropout(dropouti)\n",
    "        \n",
    "        self.emb = nn.Embedding(vocab_sz, emb_sz)\n",
    "        self.emb.data = train_ds.fields[txt_col].vocab.vectors # to use the pretrained vectors\n",
    "        #self.emb.weight.requires_grad=False\n",
    "        self.emb_with_drop = EmbeddingDropout(self.emb)\n",
    "        \n",
    "        # configure rnns\n",
    "        self.n_rnn_hidden, self.n_rnn_layers, self.n_dirs = n_rnn_hidden, n_rnn_layers, 2 if bi_dir else 1\n",
    "        self.rnn = nn.LSTM(emb_sz, self.n_rnn_hidden, self.n_rnn_layers, bidirectional=bi_dir, dropout=dropouth)\n",
    "        if wdrop: self.rnn = WeightDrop(self.rnn, wdrop)\n",
    "            \n",
    "        self.conv = nn.Conv1d(n_rnn_hidden * self.n_dirs, 64, 4)\n",
    "      \n",
    "        self.outp = nn.Linear(64 * 2, out_sz)\n",
    "        \n",
    "        # initialize weights\n",
    "        kaiming_normal(self.outp.weight.data)\n",
    "        \n",
    "        # init hidden\n",
    "        self.init_hidden(self.bsz)\n",
    "    \n",
    "    def forward(self, seq):\n",
    "        bsz = seq.size(1)\n",
    "        if (self.hidden[0].size(1) != bsz): self.init_hidden(bsz)\n",
    "        \n",
    "        x = self.emb_with_drop(seq, dropout=self.dropoute if self.training else 0)\n",
    "        x = self.dropouti(x)\n",
    "        \n",
    "        #pdb.set_trace()\n",
    "        output, h = self.rnn(x, self.hidden)        \n",
    "        self.hidden = repackage_var(h)\n",
    "     \n",
    "        sl, bs, _ = output.size()\n",
    "        x = F.relu(self.conv(output.permute(1,2,0)))\n",
    "  \n",
    "        avg_pool = F.adaptive_avg_pool1d(x, (1,)).view(bs,-1)   \n",
    "        max_pool = F.adaptive_max_pool1d(x, (1,)).view(bs,-1) \n",
    "        \n",
    "        x = torch.cat([avg_pool, max_pool], dim=1)\n",
    "\n",
    "        outp = F.sigmoid(self.outp(x))\n",
    "        return outp\n",
    "\n",
    "    def init_hidden(self, bsz):\n",
    "        self.hidden = (V(torch.zeros(self.n_dirs * self.n_rnn_layers, bsz, self.n_rnn_hidden)),\n",
    "                       V(torch.zeros(self.n_dirs * self.n_rnn_layers, bsz, self.n_rnn_hidden)))"
   ]
  },
  {
   "cell_type": "code",
   "execution_count": 83,
   "metadata": {},
   "outputs": [
    {
     "data": {
      "text/plain": [
       "ConvLstm(\n",
       "  (dropouti): LockedDropout(\n",
       "  )\n",
       "  (emb): Embedding(26970, 300)\n",
       "  (emb_with_drop): EmbeddingDropout(\n",
       "    (embed): Embedding(26970, 300)\n",
       "  )\n",
       "  (rnn): WeightDrop(\n",
       "    (module): LSTM(300, 128, dropout=0.3, bidirectional=True)\n",
       "  )\n",
       "  (conv): Conv1d(256, 64, kernel_size=(4,), stride=(1,))\n",
       "  (outp): Linear(in_features=128, out_features=6, bias=True)\n",
       ")"
      ]
     },
     "execution_count": 83,
     "metadata": {},
     "output_type": "execute_result"
    }
   ],
   "source": [
    "vocab_sz = len(TEXT_fld.vocab)\n",
    "emb_sz = 300\n",
    "\n",
    "n_rnn_hidden = 128\n",
    "n_rnn_layers = 1\n",
    "bi_dir = True\n",
    "\n",
    "out_sz = 6\n",
    "\n",
    "model = ConvLstm(vocab_sz, emb_sz, n_rnn_hidden, n_rnn_layers, True, out_sz, bsz=batch_sizes[0])\n",
    "\n",
    "model.cuda()"
   ]
  },
  {
   "cell_type": "markdown",
   "metadata": {},
   "source": [
    "## Train Model"
   ]
  },
  {
   "cell_type": "code",
   "execution_count": 84,
   "metadata": {},
   "outputs": [],
   "source": [
    "lo = LayerOptimizer(optim.Adam, model, 1e-2, 1e-5)"
   ]
  },
  {
   "cell_type": "code",
   "execution_count": 85,
   "metadata": {},
   "outputs": [],
   "source": [
    "on_end = lambda sched, cycle: save_model(model, f'{PATH}/models/lstm_fit_1_cyc_{cycle}')"
   ]
  },
  {
   "cell_type": "code",
   "execution_count": 86,
   "metadata": {},
   "outputs": [],
   "source": [
    "cb = [CosAnneal(lo, len(md.trn_dl), cycle_mult=2, on_cycle_end=on_end)]"
   ]
  },
  {
   "cell_type": "code",
   "execution_count": 87,
   "metadata": {},
   "outputs": [
    {
     "data": {
      "application/vnd.jupyter.widget-view+json": {
       "model_id": "86a36faa86214cd7be0b4a4fd8c561d6",
       "version_major": 2,
       "version_minor": 0
      },
      "text/html": [
       "<p>Failed to display Jupyter Widget of type <code>HBox</code>.</p>\n",
       "<p>\n",
       "  If you're reading this message in the Jupyter Notebook or JupyterLab Notebook, it may mean\n",
       "  that the widgets JavaScript is still loading. If this message persists, it\n",
       "  likely means that the widgets JavaScript library is either not installed or\n",
       "  not enabled. See the <a href=\"https://ipywidgets.readthedocs.io/en/stable/user_install.html\">Jupyter\n",
       "  Widgets Documentation</a> for setup instructions.\n",
       "</p>\n",
       "<p>\n",
       "  If you're reading this message in another frontend (for example, a static\n",
       "  rendering on GitHub or <a href=\"https://nbviewer.jupyter.org/\">NBViewer</a>),\n",
       "  it may mean that your frontend doesn't currently support widgets.\n",
       "</p>\n"
      ],
      "text/plain": [
       "HBox(children=(IntProgress(value=0, description='Epoch', max=15), HTML(value='')))"
      ]
     },
     "metadata": {},
     "output_type": "display_data"
    },
    {
     "name": "stdout",
     "output_type": "stream",
     "text": [
      "  0%|          | 1/2369 [00:00<14:12,  2.78it/s, loss=0.752]"
     ]
    },
    {
     "name": "stderr",
     "output_type": "stream",
     "text": [
      "/home/ubuntu/anaconda3/envs/fastai/lib/python3.6/site-packages/torch/nn/modules/module.py:357: UserWarning: RNN module weights are not part of single contiguous chunk of memory. This means they need to be compacted at every call, possibly greatly increasing memory usage. To compact weights again call flatten_parameters().\n",
      "  result = self.forward(*input, **kwargs)\n"
     ]
    },
    {
     "name": "stdout",
     "output_type": "stream",
     "text": [
      "                                                                \r"
     ]
    },
    {
     "name": "stderr",
     "output_type": "stream",
     "text": [
      "/home/ubuntu/anaconda3/envs/fastai/lib/python3.6/site-packages/ipykernel_launcher.py:6: DeprecationWarning: generator 'Iterator.__iter__' raised StopIteration\n",
      "  \n"
     ]
    },
    {
     "name": "stdout",
     "output_type": "stream",
     "text": [
      "epoch      trn_loss   val_loss   \n",
      "    0      0.051143   0.045428  \n",
      "    1      0.052452   0.048086                                  \n",
      "    2      0.048935   0.042793                                  \n",
      "    3      0.057762   0.053487                                  \n",
      "    4      0.050881   0.046729                                  \n",
      "    5      0.049764   0.043361                                  \n",
      "    6      0.045766   0.041723                                  \n",
      "    7      0.060439   0.052335                                  \n",
      "    8      0.060282   0.052392                                  \n",
      "    9      0.061376   0.049558                                  \n",
      "    10     0.052035   0.045024                                  \n",
      "    11     0.050743   0.045635                                  \n",
      "    12     0.050397   0.042907                                  \n",
      "    13     0.045974   0.042163                                  \n",
      "    14     0.04428    0.042109                                  \n",
      "\n"
     ]
    },
    {
     "data": {
      "text/plain": [
       "[0.042109344]"
      ]
     },
     "execution_count": 87,
     "metadata": {},
     "output_type": "execute_result"
    }
   ],
   "source": [
    "fit(model, md, 2**4-1, lo.opt, F.binary_cross_entropy, callbacks=cb)"
   ]
  },
  {
   "cell_type": "code",
   "execution_count": 97,
   "metadata": {},
   "outputs": [],
   "source": [
    "model.load_state_dict(torch.load(f'{PATH}/models/lstm_fit_1_cyc_3'))"
   ]
  },
  {
   "cell_type": "code",
   "execution_count": 98,
   "metadata": {},
   "outputs": [],
   "source": [
    "# cb[0].plot_lr()\n",
    "# cb[0].plot_loss()"
   ]
  },
  {
   "cell_type": "code",
   "execution_count": 103,
   "metadata": {},
   "outputs": [
    {
     "data": {
      "application/vnd.jupyter.widget-view+json": {
       "model_id": "bf11421e2e4e46f5a45c9775b4a83729",
       "version_major": 2,
       "version_minor": 0
      },
      "text/html": [
       "<p>Failed to display Jupyter Widget of type <code>HBox</code>.</p>\n",
       "<p>\n",
       "  If you're reading this message in the Jupyter Notebook or JupyterLab Notebook, it may mean\n",
       "  that the widgets JavaScript is still loading. If this message persists, it\n",
       "  likely means that the widgets JavaScript library is either not installed or\n",
       "  not enabled. See the <a href=\"https://ipywidgets.readthedocs.io/en/stable/user_install.html\">Jupyter\n",
       "  Widgets Documentation</a> for setup instructions.\n",
       "</p>\n",
       "<p>\n",
       "  If you're reading this message in another frontend (for example, a static\n",
       "  rendering on GitHub or <a href=\"https://nbviewer.jupyter.org/\">NBViewer</a>),\n",
       "  it may mean that your frontend doesn't currently support widgets.\n",
       "</p>\n"
      ],
      "text/plain": [
       "HBox(children=(IntProgress(value=0, description='Epoch', max=20), HTML(value='')))"
      ]
     },
     "metadata": {},
     "output_type": "display_data"
    },
    {
     "name": "stdout",
     "output_type": "stream",
     "text": [
      "  0%|          | 1/2369 [00:00<12:26,  3.17it/s, loss=0.0313]"
     ]
    },
    {
     "name": "stderr",
     "output_type": "stream",
     "text": [
      "/home/ubuntu/anaconda3/envs/fastai/lib/python3.6/site-packages/torch/nn/modules/module.py:357: UserWarning: RNN module weights are not part of single contiguous chunk of memory. This means they need to be compacted at every call, possibly greatly increasing memory usage. To compact weights again call flatten_parameters().\n",
      "  result = self.forward(*input, **kwargs)\n"
     ]
    },
    {
     "name": "stdout",
     "output_type": "stream",
     "text": [
      "                                                                \r"
     ]
    },
    {
     "name": "stderr",
     "output_type": "stream",
     "text": [
      "/home/ubuntu/anaconda3/envs/fastai/lib/python3.6/site-packages/ipykernel_launcher.py:6: DeprecationWarning: generator 'Iterator.__iter__' raised StopIteration\n",
      "  \n"
     ]
    },
    {
     "name": "stdout",
     "output_type": "stream",
     "text": [
      "epoch      trn_loss   val_loss   \n",
      "    0      0.047446   0.042326  \n",
      "    1      0.060109   0.052738                                  \n",
      "    2      0.061474   0.052812                                  \n",
      "    3      0.052966   0.051033                                  \n",
      "    4      0.053826   0.052875                                  \n",
      "    5      0.052001   0.048456                                  \n",
      "    6      0.056809   0.048939                                  \n",
      "    7      0.058547   0.049012                                  \n",
      "    8      0.055328   0.045812                                  \n",
      "    9      0.053131   0.04595                                   \n",
      "    10     0.053966   0.045393                                  \n",
      "    11     0.051473   0.045612                                  \n",
      "    12     0.047847   0.046206                                  \n",
      "    13     0.051698   0.043556                                  \n",
      "    14     0.048082   0.043449                                  \n",
      "    15     0.043666   0.042684                                  \n",
      "    16     0.045495   0.041769                                  \n",
      "    17     0.045065   0.041702                                  \n",
      "    18     0.043052   0.041511                                  \n",
      "    19     0.039245   0.041532                                  \n",
      "\n"
     ]
    },
    {
     "data": {
      "text/plain": [
       "[0.041532446]"
      ]
     },
     "execution_count": 103,
     "metadata": {},
     "output_type": "execute_result"
    }
   ],
   "source": [
    "on_end = lambda sched, cycle: save_model(model, f'{PATH}/models/lstm_fit_2_cyc_{cycle}')\n",
    "\n",
    "lo = LayerOptimizer(optim.Adam, model, 1e-2, 1e-5)\n",
    "\n",
    "cb = [CosAnneal(lo, (len(md.trn_dl) * 20), on_cycle_end=on_end)]\n",
    "\n",
    "fit(model, md, 20, lo.opt, F.binary_cross_entropy, callbacks=cb)"
   ]
  },
  {
   "cell_type": "code",
   "execution_count": 104,
   "metadata": {},
   "outputs": [],
   "source": [
    "# cb[0].plot_lr()\n",
    "# cb[0].plot_loss()"
   ]
  },
  {
   "cell_type": "code",
   "execution_count": 105,
   "metadata": {},
   "outputs": [],
   "source": [
    "# it = iter(md.trn_dl)\n",
    "# *xs,yts = next(it)\n",
    "# t = model(*V(xs))\n",
    "\n",
    "# xs[0].size(), yts.size()"
   ]
  },
  {
   "cell_type": "code",
   "execution_count": 106,
   "metadata": {},
   "outputs": [],
   "source": [
    "# opt = optim.Adam(model.parameters(), 1e-2)\n",
    "# fit(model, md, 2, opt, F.binary_cross_entropy)\n",
    "# set_lrs(opt, 1e-3)\n",
    "# fit(model, md, 3, opt, F.binary_cross_entropy)"
   ]
  },
  {
   "cell_type": "markdown",
   "metadata": {},
   "source": [
    "## Predictions"
   ]
  },
  {
   "cell_type": "code",
   "execution_count": 107,
   "metadata": {
    "scrolled": true
   },
   "outputs": [
    {
     "name": "stderr",
     "output_type": "stream",
     "text": [
      "/home/ubuntu/anaconda3/envs/fastai/lib/python3.6/site-packages/torch/nn/modules/module.py:357: UserWarning: RNN module weights are not part of single contiguous chunk of memory. This means they need to be compacted at every call, possibly greatly increasing memory usage. To compact weights again call flatten_parameters().\n",
      "  result = self.forward(*input, **kwargs)\n",
      "/home/ubuntu/anaconda3/envs/fastai/lib/python3.6/site-packages/ipykernel_launcher.py:6: DeprecationWarning: generator 'Iterator.__iter__' raised StopIteration\n",
      "  \n"
     ]
    },
    {
     "data": {
      "text/plain": [
       "(153164, 6)"
      ]
     },
     "execution_count": 107,
     "metadata": {},
     "output_type": "execute_result"
    }
   ],
   "source": [
    "preds = predict(model, test_dl)\n",
    "preds.shape"
   ]
  },
  {
   "cell_type": "markdown",
   "metadata": {},
   "source": [
    "## Prepare submission"
   ]
  },
  {
   "cell_type": "code",
   "execution_count": 108,
   "metadata": {},
   "outputs": [
    {
     "data": {
      "text/html": [
       "<div>\n",
       "<style scoped>\n",
       "    .dataframe tbody tr th:only-of-type {\n",
       "        vertical-align: middle;\n",
       "    }\n",
       "\n",
       "    .dataframe tbody tr th {\n",
       "        vertical-align: top;\n",
       "    }\n",
       "\n",
       "    .dataframe thead th {\n",
       "        text-align: right;\n",
       "    }\n",
       "</style>\n",
       "<table border=\"1\" class=\"dataframe\">\n",
       "  <thead>\n",
       "    <tr style=\"text-align: right;\">\n",
       "      <th></th>\n",
       "      <th>id</th>\n",
       "      <th>comment_text</th>\n",
       "      <th>toxic</th>\n",
       "      <th>severe_toxic</th>\n",
       "      <th>obscene</th>\n",
       "      <th>threat</th>\n",
       "      <th>insult</th>\n",
       "      <th>identity_hate</th>\n",
       "    </tr>\n",
       "  </thead>\n",
       "  <tbody>\n",
       "    <tr>\n",
       "      <th>0</th>\n",
       "      <td>00001cee341fdb12</td>\n",
       "      <td>Yo bitch Ja Rule is more succesful then you'll ever be whats up with you and hating you sad mofuckas...i should bitch slap ur pethedic white faces and get you to kiss my ass you guys sicken me. Ja rule is about pride in da music man. dont diss that shit on him. and nothin is wrong bein like tupac he was a brother too...fuckin white boys get things right next time.,</td>\n",
       "      <td>0.998924</td>\n",
       "      <td>0.333234</td>\n",
       "      <td>0.969354</td>\n",
       "      <td>0.054596</td>\n",
       "      <td>0.945446</td>\n",
       "      <td>0.271051</td>\n",
       "    </tr>\n",
       "    <tr>\n",
       "      <th>1</th>\n",
       "      <td>0000247867823ef7</td>\n",
       "      <td>== From RfC == \\n\\n The title is fine as it is, IMO.</td>\n",
       "      <td>0.002046</td>\n",
       "      <td>0.000065</td>\n",
       "      <td>0.000780</td>\n",
       "      <td>0.000029</td>\n",
       "      <td>0.000780</td>\n",
       "      <td>0.000138</td>\n",
       "    </tr>\n",
       "  </tbody>\n",
       "</table>\n",
       "</div>"
      ],
      "text/plain": [
       "                 id  \\\n",
       "0  00001cee341fdb12   \n",
       "1  0000247867823ef7   \n",
       "\n",
       "                                                                                                                                                                                                                                                                                                                                                                      comment_text  \\\n",
       "0  Yo bitch Ja Rule is more succesful then you'll ever be whats up with you and hating you sad mofuckas...i should bitch slap ur pethedic white faces and get you to kiss my ass you guys sicken me. Ja rule is about pride in da music man. dont diss that shit on him. and nothin is wrong bein like tupac he was a brother too...fuckin white boys get things right next time.,   \n",
       "1  == From RfC == \\n\\n The title is fine as it is, IMO.                                                                                                                                                                                                                                                                                                                              \n",
       "\n",
       "      toxic  severe_toxic   obscene    threat    insult  identity_hate  \n",
       "0  0.998924  0.333234      0.969354  0.054596  0.945446  0.271051       \n",
       "1  0.002046  0.000065      0.000780  0.000029  0.000780  0.000138       "
      ]
     },
     "execution_count": 108,
     "metadata": {},
     "output_type": "execute_result"
    }
   ],
   "source": [
    "subm_df = pd.read_csv(\"data/test.csv\")\n",
    "\n",
    "for i, col in enumerate([\"toxic\", \"severe_toxic\", \"obscene\", \"threat\", \"insult\", \"identity_hate\"]):\n",
    "    subm_df[col] = preds[:, i]\n",
    "\n",
    "subm_df.head(2)"
   ]
  },
  {
   "cell_type": "code",
   "execution_count": 109,
   "metadata": {},
   "outputs": [],
   "source": [
    "# if you want to write the submission file to disk, uncomment and run the below code\n",
    "subm_df.drop(['comment_text'], axis=1).to_csv(f'{PATH}/submissions/lstm+conv_subm_20180319.csv', index=False)"
   ]
  },
  {
   "cell_type": "markdown",
   "metadata": {},
   "source": [
    "## K-Fold Cross Validation"
   ]
  },
  {
   "cell_type": "code",
   "execution_count": 49,
   "metadata": {},
   "outputs": [
    {
     "name": "stdout",
     "output_type": "stream",
     "text": [
      "----------\n",
      "Fold 0 ....\n"
     ]
    },
    {
     "data": {
      "application/vnd.jupyter.widget-view+json": {
       "model_id": "c8352fdffe6f46fab1d5a76f2fa9fb05",
       "version_major": 2,
       "version_minor": 0
      },
      "text/html": [
       "<p>Failed to display Jupyter Widget of type <code>HBox</code>.</p>\n",
       "<p>\n",
       "  If you're reading this message in the Jupyter Notebook or JupyterLab Notebook, it may mean\n",
       "  that the widgets JavaScript is still loading. If this message persists, it\n",
       "  likely means that the widgets JavaScript library is either not installed or\n",
       "  not enabled. See the <a href=\"https://ipywidgets.readthedocs.io/en/stable/user_install.html\">Jupyter\n",
       "  Widgets Documentation</a> for setup instructions.\n",
       "</p>\n",
       "<p>\n",
       "  If you're reading this message in another frontend (for example, a static\n",
       "  rendering on GitHub or <a href=\"https://nbviewer.jupyter.org/\">NBViewer</a>),\n",
       "  it may mean that your frontend doesn't currently support widgets.\n",
       "</p>\n"
      ],
      "text/plain": [
       "HBox(children=(IntProgress(value=0, description='Epoch', max=15), HTML(value='')))"
      ]
     },
     "metadata": {},
     "output_type": "display_data"
    },
    {
     "name": "stdout",
     "output_type": "stream",
     "text": [
      "  0%|          | 1/2244 [00:00<12:44,  2.93it/s, loss=0.593]"
     ]
    },
    {
     "name": "stderr",
     "output_type": "stream",
     "text": [
      "/home/ubuntu/anaconda3/envs/fastai/lib/python3.6/site-packages/torch/nn/modules/module.py:357: UserWarning: RNN module weights are not part of single contiguous chunk of memory. This means they need to be compacted at every call, possibly greatly increasing memory usage. To compact weights again call flatten_parameters().\n",
      "  result = self.forward(*input, **kwargs)\n"
     ]
    },
    {
     "name": "stdout",
     "output_type": "stream",
     "text": [
      "                                                                \r"
     ]
    },
    {
     "name": "stderr",
     "output_type": "stream",
     "text": [
      "/home/ubuntu/anaconda3/envs/fastai/lib/python3.6/site-packages/ipykernel_launcher.py:6: DeprecationWarning: generator 'Iterator.__iter__' raised StopIteration\n",
      "  \n"
     ]
    },
    {
     "name": "stdout",
     "output_type": "stream",
     "text": [
      "epoch      trn_loss   val_loss   \n",
      "    0      0.045258   0.046109  \n",
      "    1      0.058406   0.049222                                  \n",
      "    2      0.049904   0.042761                                  \n",
      "    3      0.056364   0.061599                                  \n",
      "    4      0.052477   0.047066                                  \n",
      "    5      0.050293   0.042976                                  \n",
      "    6      0.042117   0.041887                                  \n",
      "    7      0.053778   0.058154                                  \n",
      "    8      0.057674   0.052213                                  \n",
      "    9      0.056211   0.047922                                  \n",
      "    10     0.049906   0.046597                                  \n",
      "    11     0.050576   0.045229                                  \n",
      "    12     0.05148    0.0425                                    \n",
      "    13     0.045406   0.041833                                  \n",
      "    14     0.04314    0.041853                                  \n",
      "\n"
     ]
    },
    {
     "data": {
      "application/vnd.jupyter.widget-view+json": {
       "model_id": "87e8214975aa4c7ea66d28b1b0627933",
       "version_major": 2,
       "version_minor": 0
      },
      "text/html": [
       "<p>Failed to display Jupyter Widget of type <code>HBox</code>.</p>\n",
       "<p>\n",
       "  If you're reading this message in the Jupyter Notebook or JupyterLab Notebook, it may mean\n",
       "  that the widgets JavaScript is still loading. If this message persists, it\n",
       "  likely means that the widgets JavaScript library is either not installed or\n",
       "  not enabled. See the <a href=\"https://ipywidgets.readthedocs.io/en/stable/user_install.html\">Jupyter\n",
       "  Widgets Documentation</a> for setup instructions.\n",
       "</p>\n",
       "<p>\n",
       "  If you're reading this message in another frontend (for example, a static\n",
       "  rendering on GitHub or <a href=\"https://nbviewer.jupyter.org/\">NBViewer</a>),\n",
       "  it may mean that your frontend doesn't currently support widgets.\n",
       "</p>\n"
      ],
      "text/plain": [
       "HBox(children=(IntProgress(value=0, description='Epoch', max=6), HTML(value='')))"
      ]
     },
     "metadata": {},
     "output_type": "display_data"
    },
    {
     "name": "stdout",
     "output_type": "stream",
     "text": [
      "epoch      trn_loss   val_loss                                  \n",
      "    0      0.04807    0.042009  \n",
      "    1      0.043071   0.042385                                  \n",
      "    2      0.041938   0.041669                                  \n",
      "    3      0.039948   0.041536                                  \n",
      "    4      0.040798   0.041548                                  \n",
      "    5      0.041751   0.04168                                   \n",
      "\n",
      "----------\n",
      "Fold 1 ....\n"
     ]
    },
    {
     "data": {
      "application/vnd.jupyter.widget-view+json": {
       "model_id": "cf5bc1638e7941799e4887aa90fbeed9",
       "version_major": 2,
       "version_minor": 0
      },
      "text/html": [
       "<p>Failed to display Jupyter Widget of type <code>HBox</code>.</p>\n",
       "<p>\n",
       "  If you're reading this message in the Jupyter Notebook or JupyterLab Notebook, it may mean\n",
       "  that the widgets JavaScript is still loading. If this message persists, it\n",
       "  likely means that the widgets JavaScript library is either not installed or\n",
       "  not enabled. See the <a href=\"https://ipywidgets.readthedocs.io/en/stable/user_install.html\">Jupyter\n",
       "  Widgets Documentation</a> for setup instructions.\n",
       "</p>\n",
       "<p>\n",
       "  If you're reading this message in another frontend (for example, a static\n",
       "  rendering on GitHub or <a href=\"https://nbviewer.jupyter.org/\">NBViewer</a>),\n",
       "  it may mean that your frontend doesn't currently support widgets.\n",
       "</p>\n"
      ],
      "text/plain": [
       "HBox(children=(IntProgress(value=0, description='Epoch', max=15), HTML(value='')))"
      ]
     },
     "metadata": {},
     "output_type": "display_data"
    },
    {
     "name": "stdout",
     "output_type": "stream",
     "text": [
      "epoch      trn_loss   val_loss                                  \n",
      "    0      0.0469     0.044532  \n",
      "    1      0.053637   0.046548                                  \n",
      "    2      0.04584    0.041699                                  \n",
      "    3      0.055985   0.052053                                  \n",
      "    4      0.052709   0.048491                                  \n",
      "    5      0.047826   0.042662                                  \n",
      "    6      0.042924   0.041063                                  \n",
      "    7      0.056542   0.052626                                  \n",
      "    8      0.057511   0.049231                                  \n",
      "    9      0.055543   0.048936                                  \n",
      "    10     0.052002   0.045256                                  \n",
      "    11     0.052559   0.043447                                  \n",
      "    12     0.050953   0.042409                                  \n",
      "    13     0.046146   0.04074                                   \n",
      "    14     0.042522   0.040535                                  \n",
      "\n"
     ]
    },
    {
     "data": {
      "application/vnd.jupyter.widget-view+json": {
       "model_id": "0a47c32abe1f4b8fbf4dd497ab778d65",
       "version_major": 2,
       "version_minor": 0
      },
      "text/html": [
       "<p>Failed to display Jupyter Widget of type <code>HBox</code>.</p>\n",
       "<p>\n",
       "  If you're reading this message in the Jupyter Notebook or JupyterLab Notebook, it may mean\n",
       "  that the widgets JavaScript is still loading. If this message persists, it\n",
       "  likely means that the widgets JavaScript library is either not installed or\n",
       "  not enabled. See the <a href=\"https://ipywidgets.readthedocs.io/en/stable/user_install.html\">Jupyter\n",
       "  Widgets Documentation</a> for setup instructions.\n",
       "</p>\n",
       "<p>\n",
       "  If you're reading this message in another frontend (for example, a static\n",
       "  rendering on GitHub or <a href=\"https://nbviewer.jupyter.org/\">NBViewer</a>),\n",
       "  it may mean that your frontend doesn't currently support widgets.\n",
       "</p>\n"
      ],
      "text/plain": [
       "HBox(children=(IntProgress(value=0, description='Epoch', max=6), HTML(value='')))"
      ]
     },
     "metadata": {},
     "output_type": "display_data"
    },
    {
     "name": "stdout",
     "output_type": "stream",
     "text": [
      "epoch      trn_loss   val_loss                                  \n",
      "    0      0.048078   0.041007  \n",
      "    1      0.044074   0.040757                                  \n",
      "    2      0.041425   0.040185                                  \n",
      "    3      0.039798   0.040258                                  \n",
      "    4      0.040758   0.04013                                   \n",
      "    5      0.04134    0.040319                                  \n",
      "\n",
      "----------\n",
      "Fold 2 ....\n"
     ]
    },
    {
     "data": {
      "application/vnd.jupyter.widget-view+json": {
       "model_id": "fe0a00157e6a4b21888701eb73caea68",
       "version_major": 2,
       "version_minor": 0
      },
      "text/html": [
       "<p>Failed to display Jupyter Widget of type <code>HBox</code>.</p>\n",
       "<p>\n",
       "  If you're reading this message in the Jupyter Notebook or JupyterLab Notebook, it may mean\n",
       "  that the widgets JavaScript is still loading. If this message persists, it\n",
       "  likely means that the widgets JavaScript library is either not installed or\n",
       "  not enabled. See the <a href=\"https://ipywidgets.readthedocs.io/en/stable/user_install.html\">Jupyter\n",
       "  Widgets Documentation</a> for setup instructions.\n",
       "</p>\n",
       "<p>\n",
       "  If you're reading this message in another frontend (for example, a static\n",
       "  rendering on GitHub or <a href=\"https://nbviewer.jupyter.org/\">NBViewer</a>),\n",
       "  it may mean that your frontend doesn't currently support widgets.\n",
       "</p>\n"
      ],
      "text/plain": [
       "HBox(children=(IntProgress(value=0, description='Epoch', max=15), HTML(value='')))"
      ]
     },
     "metadata": {},
     "output_type": "display_data"
    },
    {
     "name": "stdout",
     "output_type": "stream",
     "text": [
      "epoch      trn_loss   val_loss                                  \n",
      "    0      0.046211   0.046232  \n",
      "    1      0.054699   0.049172                                  \n",
      "    2      0.047717   0.043116                                  \n",
      "    3      0.056392   0.0542                                    \n",
      "    4      0.050505   0.051808                                  \n",
      "    5      0.050483   0.046325                                  \n",
      "    6      0.04397    0.042497                                  \n",
      "    7      0.057687   0.052988                                  \n",
      "    8      0.057719   0.052651                                  \n",
      "    9      0.05681    0.05001                                   \n",
      "    10     0.051583   0.045737                                  \n",
      "    11     0.050292   0.046601                                  \n",
      "    12     0.04866    0.043947                                  \n",
      "    13     0.047621   0.04177                                   \n",
      "    14     0.038589   0.041778                                  \n",
      "\n"
     ]
    },
    {
     "data": {
      "application/vnd.jupyter.widget-view+json": {
       "model_id": "b4036b17a3694aa6a89a91d1ef3eae9d",
       "version_major": 2,
       "version_minor": 0
      },
      "text/html": [
       "<p>Failed to display Jupyter Widget of type <code>HBox</code>.</p>\n",
       "<p>\n",
       "  If you're reading this message in the Jupyter Notebook or JupyterLab Notebook, it may mean\n",
       "  that the widgets JavaScript is still loading. If this message persists, it\n",
       "  likely means that the widgets JavaScript library is either not installed or\n",
       "  not enabled. See the <a href=\"https://ipywidgets.readthedocs.io/en/stable/user_install.html\">Jupyter\n",
       "  Widgets Documentation</a> for setup instructions.\n",
       "</p>\n",
       "<p>\n",
       "  If you're reading this message in another frontend (for example, a static\n",
       "  rendering on GitHub or <a href=\"https://nbviewer.jupyter.org/\">NBViewer</a>),\n",
       "  it may mean that your frontend doesn't currently support widgets.\n",
       "</p>\n"
      ],
      "text/plain": [
       "HBox(children=(IntProgress(value=0, description='Epoch', max=6), HTML(value='')))"
      ]
     },
     "metadata": {},
     "output_type": "display_data"
    },
    {
     "name": "stdout",
     "output_type": "stream",
     "text": [
      "epoch      trn_loss   val_loss                                  \n",
      "    0      0.047435   0.042207  \n",
      "    1      0.044574   0.04222                                   \n",
      "    2      0.041033   0.04163                                   \n",
      "    3      0.041096   0.041483                                  \n",
      "    4      0.038985   0.041551                                  \n",
      "    5      0.039009   0.041655                                  \n",
      "\n",
      "----------\n",
      "Fold 3 ....\n"
     ]
    },
    {
     "data": {
      "application/vnd.jupyter.widget-view+json": {
       "model_id": "af3370ab752843fb95f433e26c34549b",
       "version_major": 2,
       "version_minor": 0
      },
      "text/html": [
       "<p>Failed to display Jupyter Widget of type <code>HBox</code>.</p>\n",
       "<p>\n",
       "  If you're reading this message in the Jupyter Notebook or JupyterLab Notebook, it may mean\n",
       "  that the widgets JavaScript is still loading. If this message persists, it\n",
       "  likely means that the widgets JavaScript library is either not installed or\n",
       "  not enabled. See the <a href=\"https://ipywidgets.readthedocs.io/en/stable/user_install.html\">Jupyter\n",
       "  Widgets Documentation</a> for setup instructions.\n",
       "</p>\n",
       "<p>\n",
       "  If you're reading this message in another frontend (for example, a static\n",
       "  rendering on GitHub or <a href=\"https://nbviewer.jupyter.org/\">NBViewer</a>),\n",
       "  it may mean that your frontend doesn't currently support widgets.\n",
       "</p>\n"
      ],
      "text/plain": [
       "HBox(children=(IntProgress(value=0, description='Epoch', max=15), HTML(value='')))"
      ]
     },
     "metadata": {},
     "output_type": "display_data"
    },
    {
     "name": "stdout",
     "output_type": "stream",
     "text": [
      "epoch      trn_loss   val_loss                                  \n",
      "    0      0.045842   0.044461  \n",
      "    1      0.054112   0.046143                                  \n",
      "    2      0.045601   0.041891                                  \n",
      "    3      0.057592   0.055015                                  \n",
      "    4      0.048375   0.047729                                  \n",
      "    5      0.048961   0.042708                                  \n",
      "    6      0.043502   0.041123                                  \n",
      "    7      0.058658   0.050482                                  \n",
      "    8      0.056168   0.059926                                  \n",
      "    9      0.05659    0.048221                                  \n",
      "    10     0.050267   0.045249                                  \n",
      "    11     0.052742   0.044252                                  \n",
      "    12     0.047401   0.041722                                  \n",
      "    13     0.047722   0.040836                                  \n",
      "    14     0.039114   0.04065                                   \n",
      "\n"
     ]
    },
    {
     "data": {
      "application/vnd.jupyter.widget-view+json": {
       "model_id": "3645b2f302da4e648052768e05d32917",
       "version_major": 2,
       "version_minor": 0
      },
      "text/html": [
       "<p>Failed to display Jupyter Widget of type <code>HBox</code>.</p>\n",
       "<p>\n",
       "  If you're reading this message in the Jupyter Notebook or JupyterLab Notebook, it may mean\n",
       "  that the widgets JavaScript is still loading. If this message persists, it\n",
       "  likely means that the widgets JavaScript library is either not installed or\n",
       "  not enabled. See the <a href=\"https://ipywidgets.readthedocs.io/en/stable/user_install.html\">Jupyter\n",
       "  Widgets Documentation</a> for setup instructions.\n",
       "</p>\n",
       "<p>\n",
       "  If you're reading this message in another frontend (for example, a static\n",
       "  rendering on GitHub or <a href=\"https://nbviewer.jupyter.org/\">NBViewer</a>),\n",
       "  it may mean that your frontend doesn't currently support widgets.\n",
       "</p>\n"
      ],
      "text/plain": [
       "HBox(children=(IntProgress(value=0, description='Epoch', max=6), HTML(value='')))"
      ]
     },
     "metadata": {},
     "output_type": "display_data"
    },
    {
     "name": "stdout",
     "output_type": "stream",
     "text": [
      "epoch      trn_loss   val_loss                                  \n",
      "    0      0.048837   0.041079  \n",
      "    1      0.043232   0.04098                                   \n",
      "    2      0.042975   0.040517                                  \n",
      "    3      0.043268   0.040325                                  \n",
      "    4      0.039741   0.040574                                  \n",
      "    5      0.038668   0.040645                                  \n",
      "\n",
      "----------\n",
      "Fold 4 ....\n"
     ]
    },
    {
     "data": {
      "application/vnd.jupyter.widget-view+json": {
       "model_id": "b4b72659a59549cbac24d250e18fae23",
       "version_major": 2,
       "version_minor": 0
      },
      "text/html": [
       "<p>Failed to display Jupyter Widget of type <code>HBox</code>.</p>\n",
       "<p>\n",
       "  If you're reading this message in the Jupyter Notebook or JupyterLab Notebook, it may mean\n",
       "  that the widgets JavaScript is still loading. If this message persists, it\n",
       "  likely means that the widgets JavaScript library is either not installed or\n",
       "  not enabled. See the <a href=\"https://ipywidgets.readthedocs.io/en/stable/user_install.html\">Jupyter\n",
       "  Widgets Documentation</a> for setup instructions.\n",
       "</p>\n",
       "<p>\n",
       "  If you're reading this message in another frontend (for example, a static\n",
       "  rendering on GitHub or <a href=\"https://nbviewer.jupyter.org/\">NBViewer</a>),\n",
       "  it may mean that your frontend doesn't currently support widgets.\n",
       "</p>\n"
      ],
      "text/plain": [
       "HBox(children=(IntProgress(value=0, description='Epoch', max=15), HTML(value='')))"
      ]
     },
     "metadata": {},
     "output_type": "display_data"
    },
    {
     "name": "stdout",
     "output_type": "stream",
     "text": [
      "epoch      trn_loss   val_loss                                  \n",
      "    0      0.047394   0.044547  \n",
      "    1      0.054482   0.047049                                  \n",
      "    2      0.043276   0.04153                                   \n",
      "    3      0.056433   0.051465                                  \n",
      "    4      0.04939    0.048894                                  \n",
      "    5      0.047884   0.042169                                  \n",
      "    6      0.044711   0.040562                                  \n",
      "    7      0.059609   0.051617                                  \n",
      "    8      0.052984   0.052207                                  \n",
      "    9      0.054231   0.047272                                  \n",
      "    10     0.051272   0.045369                                  \n",
      "    11     0.05297    0.043546                                  \n",
      "    12     0.048185   0.041898                                  \n",
      "    13     0.048386   0.040756                                  \n",
      "    14     0.040677   0.040414                                  \n",
      "\n"
     ]
    },
    {
     "data": {
      "application/vnd.jupyter.widget-view+json": {
       "model_id": "da07ef137dd449939fbc2f053a942976",
       "version_major": 2,
       "version_minor": 0
      },
      "text/html": [
       "<p>Failed to display Jupyter Widget of type <code>HBox</code>.</p>\n",
       "<p>\n",
       "  If you're reading this message in the Jupyter Notebook or JupyterLab Notebook, it may mean\n",
       "  that the widgets JavaScript is still loading. If this message persists, it\n",
       "  likely means that the widgets JavaScript library is either not installed or\n",
       "  not enabled. See the <a href=\"https://ipywidgets.readthedocs.io/en/stable/user_install.html\">Jupyter\n",
       "  Widgets Documentation</a> for setup instructions.\n",
       "</p>\n",
       "<p>\n",
       "  If you're reading this message in another frontend (for example, a static\n",
       "  rendering on GitHub or <a href=\"https://nbviewer.jupyter.org/\">NBViewer</a>),\n",
       "  it may mean that your frontend doesn't currently support widgets.\n",
       "</p>\n"
      ],
      "text/plain": [
       "HBox(children=(IntProgress(value=0, description='Epoch', max=6), HTML(value='')))"
      ]
     },
     "metadata": {},
     "output_type": "display_data"
    },
    {
     "name": "stdout",
     "output_type": "stream",
     "text": [
      "epoch      trn_loss   val_loss                                  \n",
      "    0      0.045067   0.040743  \n",
      "    1      0.042674   0.040583                                  \n",
      "    2      0.038848   0.040784                                  \n",
      "    3      0.040375   0.040044                                  \n",
      "    4      0.04045    0.040178                                  \n",
      "    5      0.036137   0.040224                                  \n",
      "\n",
      "----------\n",
      "Fold 5 ....\n"
     ]
    },
    {
     "data": {
      "application/vnd.jupyter.widget-view+json": {
       "model_id": "6a6e1fc1c3ff489d9945b175dea0315a",
       "version_major": 2,
       "version_minor": 0
      },
      "text/html": [
       "<p>Failed to display Jupyter Widget of type <code>HBox</code>.</p>\n",
       "<p>\n",
       "  If you're reading this message in the Jupyter Notebook or JupyterLab Notebook, it may mean\n",
       "  that the widgets JavaScript is still loading. If this message persists, it\n",
       "  likely means that the widgets JavaScript library is either not installed or\n",
       "  not enabled. See the <a href=\"https://ipywidgets.readthedocs.io/en/stable/user_install.html\">Jupyter\n",
       "  Widgets Documentation</a> for setup instructions.\n",
       "</p>\n",
       "<p>\n",
       "  If you're reading this message in another frontend (for example, a static\n",
       "  rendering on GitHub or <a href=\"https://nbviewer.jupyter.org/\">NBViewer</a>),\n",
       "  it may mean that your frontend doesn't currently support widgets.\n",
       "</p>\n"
      ],
      "text/plain": [
       "HBox(children=(IntProgress(value=0, description='Epoch', max=15), HTML(value='')))"
      ]
     },
     "metadata": {},
     "output_type": "display_data"
    },
    {
     "name": "stdout",
     "output_type": "stream",
     "text": [
      "epoch      trn_loss   val_loss                                  \n",
      "    0      0.046817   0.047256  \n",
      "    1      0.054021   0.050298                                  \n",
      "    2      0.044163   0.043861                                  \n",
      "    3      0.054303   0.052147                                  \n",
      "    4      0.051907   0.04782                                   \n",
      "    5      0.04641    0.044826                                  \n",
      "    6      0.045651   0.04293                                   \n",
      "    7      0.055372   0.05412                                   \n",
      "    8      0.056726   0.059057                                  \n",
      "    9      0.053099   0.050688                                  \n",
      "    10     0.053554   0.047085                                  \n",
      "    11     0.051476   0.045464                                  \n",
      "    12     0.049338   0.043688                                  \n",
      "    13     0.045399   0.042582                                  \n",
      "    14     0.041039   0.042308                                  \n",
      "\n"
     ]
    },
    {
     "data": {
      "application/vnd.jupyter.widget-view+json": {
       "model_id": "f473498961fa423b820d594dcad8cf21",
       "version_major": 2,
       "version_minor": 0
      },
      "text/html": [
       "<p>Failed to display Jupyter Widget of type <code>HBox</code>.</p>\n",
       "<p>\n",
       "  If you're reading this message in the Jupyter Notebook or JupyterLab Notebook, it may mean\n",
       "  that the widgets JavaScript is still loading. If this message persists, it\n",
       "  likely means that the widgets JavaScript library is either not installed or\n",
       "  not enabled. See the <a href=\"https://ipywidgets.readthedocs.io/en/stable/user_install.html\">Jupyter\n",
       "  Widgets Documentation</a> for setup instructions.\n",
       "</p>\n",
       "<p>\n",
       "  If you're reading this message in another frontend (for example, a static\n",
       "  rendering on GitHub or <a href=\"https://nbviewer.jupyter.org/\">NBViewer</a>),\n",
       "  it may mean that your frontend doesn't currently support widgets.\n",
       "</p>\n"
      ],
      "text/plain": [
       "HBox(children=(IntProgress(value=0, description='Epoch', max=6), HTML(value='')))"
      ]
     },
     "metadata": {},
     "output_type": "display_data"
    },
    {
     "name": "stdout",
     "output_type": "stream",
     "text": [
      "epoch      trn_loss   val_loss                                  \n",
      "    0      0.045243   0.043258  \n",
      "    1      0.040643   0.042408                                  \n",
      "    2      0.039267   0.042547                                  \n",
      "    3      0.040848   0.042014                                  \n",
      "    4      0.040975   0.041901                                  \n",
      "    5      0.036123   0.042103                                  \n",
      "\n",
      "----------\n",
      "Fold 6 ....\n"
     ]
    },
    {
     "data": {
      "application/vnd.jupyter.widget-view+json": {
       "model_id": "39d25d1590e04d9ab5df915c414b84dc",
       "version_major": 2,
       "version_minor": 0
      },
      "text/html": [
       "<p>Failed to display Jupyter Widget of type <code>HBox</code>.</p>\n",
       "<p>\n",
       "  If you're reading this message in the Jupyter Notebook or JupyterLab Notebook, it may mean\n",
       "  that the widgets JavaScript is still loading. If this message persists, it\n",
       "  likely means that the widgets JavaScript library is either not installed or\n",
       "  not enabled. See the <a href=\"https://ipywidgets.readthedocs.io/en/stable/user_install.html\">Jupyter\n",
       "  Widgets Documentation</a> for setup instructions.\n",
       "</p>\n",
       "<p>\n",
       "  If you're reading this message in another frontend (for example, a static\n",
       "  rendering on GitHub or <a href=\"https://nbviewer.jupyter.org/\">NBViewer</a>),\n",
       "  it may mean that your frontend doesn't currently support widgets.\n",
       "</p>\n"
      ],
      "text/plain": [
       "HBox(children=(IntProgress(value=0, description='Epoch', max=15), HTML(value='')))"
      ]
     },
     "metadata": {},
     "output_type": "display_data"
    },
    {
     "name": "stdout",
     "output_type": "stream",
     "text": [
      "epoch      trn_loss   val_loss                                  \n",
      "    0      0.048828   0.044603  \n",
      "    1      0.057639   0.047223                                  \n",
      "    2      0.045096   0.04174                                   \n",
      "    3      0.056414   0.050528                                  \n",
      "    4      0.050524   0.046926                                  \n",
      "    5      0.044799   0.042479                                  \n",
      "    6      0.043476   0.040853                                  \n",
      "    7      0.228312   0.215125                                 \n",
      "    8      0.18473    0.175434                                 \n",
      "    9      0.191839   0.17328                                  \n",
      "    10     0.163559   0.171044                                 \n",
      "    11     0.131054   0.117068                                 \n",
      "    12     0.129085   0.117278                                 \n",
      "    13     0.129815   0.113865                                 \n",
      "    14     0.125669   0.113395                                 \n",
      "\n"
     ]
    },
    {
     "data": {
      "application/vnd.jupyter.widget-view+json": {
       "model_id": "3a20bb0780bc48ffb3dc2e46498d9c5e",
       "version_major": 2,
       "version_minor": 0
      },
      "text/html": [
       "<p>Failed to display Jupyter Widget of type <code>HBox</code>.</p>\n",
       "<p>\n",
       "  If you're reading this message in the Jupyter Notebook or JupyterLab Notebook, it may mean\n",
       "  that the widgets JavaScript is still loading. If this message persists, it\n",
       "  likely means that the widgets JavaScript library is either not installed or\n",
       "  not enabled. See the <a href=\"https://ipywidgets.readthedocs.io/en/stable/user_install.html\">Jupyter\n",
       "  Widgets Documentation</a> for setup instructions.\n",
       "</p>\n",
       "<p>\n",
       "  If you're reading this message in another frontend (for example, a static\n",
       "  rendering on GitHub or <a href=\"https://nbviewer.jupyter.org/\">NBViewer</a>),\n",
       "  it may mean that your frontend doesn't currently support widgets.\n",
       "</p>\n"
      ],
      "text/plain": [
       "HBox(children=(IntProgress(value=0, description='Epoch', max=6), HTML(value='')))"
      ]
     },
     "metadata": {},
     "output_type": "display_data"
    },
    {
     "name": "stdout",
     "output_type": "stream",
     "text": [
      "epoch      trn_loss   val_loss                                 \n",
      "    0      0.132102   0.113707  \n",
      "    1      0.113833   0.112545                                 \n",
      "    2      0.120266   0.113575                                 \n",
      "    3      0.123676   0.112638                                 \n",
      "    4      0.12268    0.112613                                 \n",
      "    5      0.122679   0.112709                                 \n",
      "\n",
      "----------\n",
      "Fold 7 ....\n"
     ]
    },
    {
     "data": {
      "application/vnd.jupyter.widget-view+json": {
       "model_id": "b7aa87db6fee4a808248b91ad8b350c2",
       "version_major": 2,
       "version_minor": 0
      },
      "text/html": [
       "<p>Failed to display Jupyter Widget of type <code>HBox</code>.</p>\n",
       "<p>\n",
       "  If you're reading this message in the Jupyter Notebook or JupyterLab Notebook, it may mean\n",
       "  that the widgets JavaScript is still loading. If this message persists, it\n",
       "  likely means that the widgets JavaScript library is either not installed or\n",
       "  not enabled. See the <a href=\"https://ipywidgets.readthedocs.io/en/stable/user_install.html\">Jupyter\n",
       "  Widgets Documentation</a> for setup instructions.\n",
       "</p>\n",
       "<p>\n",
       "  If you're reading this message in another frontend (for example, a static\n",
       "  rendering on GitHub or <a href=\"https://nbviewer.jupyter.org/\">NBViewer</a>),\n",
       "  it may mean that your frontend doesn't currently support widgets.\n",
       "</p>\n"
      ],
      "text/plain": [
       "HBox(children=(IntProgress(value=0, description='Epoch', max=15), HTML(value='')))"
      ]
     },
     "metadata": {},
     "output_type": "display_data"
    },
    {
     "name": "stdout",
     "output_type": "stream",
     "text": [
      "epoch      trn_loss   val_loss                                  \n",
      "    0      0.047827   0.045387  \n",
      "    1      0.058011   0.047186                                  \n",
      "    2      0.044898   0.042663                                  \n",
      "    3      0.056477   0.057776                                  \n",
      "    4      0.049528   0.047493                                  \n",
      "    5      0.048635   0.043087                                  \n",
      "    6      0.043139   0.041725                                  \n",
      "    7      0.064508   0.059641                                  \n",
      "    8      0.060508   0.052746                                  \n",
      "    9      0.054367   0.04921                                   \n",
      "    10     0.050875   0.046835                                  \n",
      "    11     0.050711   0.045438                                  \n",
      "    12     0.048188   0.042555                                  \n",
      "    13     0.049447   0.041567                                  \n",
      "    14     0.042334   0.041672                                  \n",
      "\n"
     ]
    },
    {
     "data": {
      "application/vnd.jupyter.widget-view+json": {
       "model_id": "06edb4d50ed4472ab607bb030a989259",
       "version_major": 2,
       "version_minor": 0
      },
      "text/html": [
       "<p>Failed to display Jupyter Widget of type <code>HBox</code>.</p>\n",
       "<p>\n",
       "  If you're reading this message in the Jupyter Notebook or JupyterLab Notebook, it may mean\n",
       "  that the widgets JavaScript is still loading. If this message persists, it\n",
       "  likely means that the widgets JavaScript library is either not installed or\n",
       "  not enabled. See the <a href=\"https://ipywidgets.readthedocs.io/en/stable/user_install.html\">Jupyter\n",
       "  Widgets Documentation</a> for setup instructions.\n",
       "</p>\n",
       "<p>\n",
       "  If you're reading this message in another frontend (for example, a static\n",
       "  rendering on GitHub or <a href=\"https://nbviewer.jupyter.org/\">NBViewer</a>),\n",
       "  it may mean that your frontend doesn't currently support widgets.\n",
       "</p>\n"
      ],
      "text/plain": [
       "HBox(children=(IntProgress(value=0, description='Epoch', max=6), HTML(value='')))"
      ]
     },
     "metadata": {},
     "output_type": "display_data"
    },
    {
     "name": "stdout",
     "output_type": "stream",
     "text": [
      "epoch      trn_loss   val_loss                                  \n",
      "    0      0.044745   0.042613  \n",
      "    1      0.041323   0.041684                                  \n",
      "    2      0.041905   0.041561                                  \n",
      "    3      0.041196   0.040889                                  \n",
      "    4      0.040183   0.041134                                  \n",
      "    5      0.038006   0.041314                                  \n",
      "\n",
      "----------\n",
      "Fold 8 ....\n"
     ]
    },
    {
     "data": {
      "application/vnd.jupyter.widget-view+json": {
       "model_id": "c7b82844ad974d389efc9e21a0dbd164",
       "version_major": 2,
       "version_minor": 0
      },
      "text/html": [
       "<p>Failed to display Jupyter Widget of type <code>HBox</code>.</p>\n",
       "<p>\n",
       "  If you're reading this message in the Jupyter Notebook or JupyterLab Notebook, it may mean\n",
       "  that the widgets JavaScript is still loading. If this message persists, it\n",
       "  likely means that the widgets JavaScript library is either not installed or\n",
       "  not enabled. See the <a href=\"https://ipywidgets.readthedocs.io/en/stable/user_install.html\">Jupyter\n",
       "  Widgets Documentation</a> for setup instructions.\n",
       "</p>\n",
       "<p>\n",
       "  If you're reading this message in another frontend (for example, a static\n",
       "  rendering on GitHub or <a href=\"https://nbviewer.jupyter.org/\">NBViewer</a>),\n",
       "  it may mean that your frontend doesn't currently support widgets.\n",
       "</p>\n"
      ],
      "text/plain": [
       "HBox(children=(IntProgress(value=0, description='Epoch', max=15), HTML(value='')))"
      ]
     },
     "metadata": {},
     "output_type": "display_data"
    },
    {
     "name": "stdout",
     "output_type": "stream",
     "text": [
      "epoch      trn_loss   val_loss                                  \n",
      "    0      0.047918   0.047084  \n",
      "    1      0.059236   0.053703                                  \n",
      "    2      0.044655   0.044367                                  \n",
      "    3      0.057386   0.054183                                  \n",
      "    4      0.048193   0.049964                                  \n",
      "    5      0.044946   0.046543                                  \n",
      "    6      0.045924   0.04411                                   \n",
      "    7      0.058995   0.055836                                  \n",
      "    8      0.058722   0.052898                                  \n",
      "    9      0.054531   0.052112                                  \n",
      "    10     0.052147   0.048714                                  \n",
      "    11     0.049246   0.045724                                  \n",
      "    12     0.049708   0.044345                                  \n",
      "    13     0.043683   0.043433                                  \n",
      "    14     0.041986   0.04353                                   \n",
      "\n"
     ]
    },
    {
     "data": {
      "application/vnd.jupyter.widget-view+json": {
       "model_id": "bbb02c9d06444aeea563e7cc95bba041",
       "version_major": 2,
       "version_minor": 0
      },
      "text/html": [
       "<p>Failed to display Jupyter Widget of type <code>HBox</code>.</p>\n",
       "<p>\n",
       "  If you're reading this message in the Jupyter Notebook or JupyterLab Notebook, it may mean\n",
       "  that the widgets JavaScript is still loading. If this message persists, it\n",
       "  likely means that the widgets JavaScript library is either not installed or\n",
       "  not enabled. See the <a href=\"https://ipywidgets.readthedocs.io/en/stable/user_install.html\">Jupyter\n",
       "  Widgets Documentation</a> for setup instructions.\n",
       "</p>\n",
       "<p>\n",
       "  If you're reading this message in another frontend (for example, a static\n",
       "  rendering on GitHub or <a href=\"https://nbviewer.jupyter.org/\">NBViewer</a>),\n",
       "  it may mean that your frontend doesn't currently support widgets.\n",
       "</p>\n"
      ],
      "text/plain": [
       "HBox(children=(IntProgress(value=0, description='Epoch', max=6), HTML(value='')))"
      ]
     },
     "metadata": {},
     "output_type": "display_data"
    },
    {
     "name": "stdout",
     "output_type": "stream",
     "text": [
      "epoch      trn_loss   val_loss                                  \n",
      "    0      0.044418   0.044448  \n",
      "    1      0.03985    0.043705                                  \n",
      "    2      0.039774   0.044234                                  \n",
      "    3      0.041095   0.043214                                  \n",
      "    4      0.039615   0.043575                                  \n",
      "    5      0.036174   0.043688                                  \n",
      "\n",
      "----------\n",
      "Fold 9 ....\n"
     ]
    },
    {
     "data": {
      "application/vnd.jupyter.widget-view+json": {
       "model_id": "1eb35170190b483c8e361fb4f2398612",
       "version_major": 2,
       "version_minor": 0
      },
      "text/html": [
       "<p>Failed to display Jupyter Widget of type <code>HBox</code>.</p>\n",
       "<p>\n",
       "  If you're reading this message in the Jupyter Notebook or JupyterLab Notebook, it may mean\n",
       "  that the widgets JavaScript is still loading. If this message persists, it\n",
       "  likely means that the widgets JavaScript library is either not installed or\n",
       "  not enabled. See the <a href=\"https://ipywidgets.readthedocs.io/en/stable/user_install.html\">Jupyter\n",
       "  Widgets Documentation</a> for setup instructions.\n",
       "</p>\n",
       "<p>\n",
       "  If you're reading this message in another frontend (for example, a static\n",
       "  rendering on GitHub or <a href=\"https://nbviewer.jupyter.org/\">NBViewer</a>),\n",
       "  it may mean that your frontend doesn't currently support widgets.\n",
       "</p>\n"
      ],
      "text/plain": [
       "HBox(children=(IntProgress(value=0, description='Epoch', max=15), HTML(value='')))"
      ]
     },
     "metadata": {},
     "output_type": "display_data"
    },
    {
     "name": "stdout",
     "output_type": "stream",
     "text": [
      "epoch      trn_loss   val_loss                                  \n",
      "    0      0.048021   0.047052  \n",
      "    1      0.056743   0.048223                                  \n",
      "    2      0.044408   0.04363                                   \n",
      "    3      0.057738   0.051385                                  \n",
      "    4      0.051514   0.048031                                  \n",
      "    5      0.048279   0.044213                                  \n",
      "    6      0.045182   0.042637                                  \n",
      "    7      0.064643   0.067792                                  \n",
      "    8      0.056401   0.051193                                  \n",
      "    9      0.057105   0.049551                                  \n",
      "    10     0.052294   0.050228                                  \n",
      "    11     0.05034    0.045985                                  \n",
      "    12     0.047373   0.044812                                  \n",
      "    13     0.044682   0.042055                                  \n",
      "    14     0.040304   0.042011                                  \n",
      "\n"
     ]
    },
    {
     "data": {
      "application/vnd.jupyter.widget-view+json": {
       "model_id": "c91364932a8c4a4fa2c8f2baddc22b8f",
       "version_major": 2,
       "version_minor": 0
      },
      "text/html": [
       "<p>Failed to display Jupyter Widget of type <code>HBox</code>.</p>\n",
       "<p>\n",
       "  If you're reading this message in the Jupyter Notebook or JupyterLab Notebook, it may mean\n",
       "  that the widgets JavaScript is still loading. If this message persists, it\n",
       "  likely means that the widgets JavaScript library is either not installed or\n",
       "  not enabled. See the <a href=\"https://ipywidgets.readthedocs.io/en/stable/user_install.html\">Jupyter\n",
       "  Widgets Documentation</a> for setup instructions.\n",
       "</p>\n",
       "<p>\n",
       "  If you're reading this message in another frontend (for example, a static\n",
       "  rendering on GitHub or <a href=\"https://nbviewer.jupyter.org/\">NBViewer</a>),\n",
       "  it may mean that your frontend doesn't currently support widgets.\n",
       "</p>\n"
      ],
      "text/plain": [
       "HBox(children=(IntProgress(value=0, description='Epoch', max=6), HTML(value='')))"
      ]
     },
     "metadata": {},
     "output_type": "display_data"
    },
    {
     "name": "stdout",
     "output_type": "stream",
     "text": [
      "epoch      trn_loss   val_loss                                  \n",
      "    0      0.042868   0.042617  \n",
      "    1      0.040834   0.042033                                  \n",
      "    2      0.041524   0.042581                                  \n",
      "    3      0.038731   0.041987                                  \n",
      "    4      0.0412     0.041493                                  \n",
      "    5      0.037848   0.041736                                  \n",
      "\n"
     ]
    }
   ],
   "source": [
    "train_datafields = [(\"id\", None), # we won't be needing the id, so we pass in None as the field\n",
    "                    (txt_col, TEXT_fld),\n",
    "                    (\"toxic\", LABEL_fld), (\"severe_toxic\", LABEL_fld), (\"obscene\", LABEL_fld),\n",
    "                    (\"threat\", LABEL_fld), (\"insult\", LABEL_fld), (\"identity_hate\", LABEL_fld), (\"none\", None)]\n",
    "\n",
    "# test\n",
    "test_datafields = [(\"id\", None), (txt_col, TEXT_fld)]\n",
    "\n",
    "# define test dataset and iterator\n",
    "test_ds = data.TabularDataset(f'{PATH}/test_ds.csv', format='csv', skip_header=True, fields=test_datafields)\n",
    "test_iter = data.Iterator(test_ds, batch_size=batch_sizes[2], device=0, train=False, \n",
    "                          shuffle=False, sort=False, sort_within_batch=False, repeat=False)\n",
    "test_dl = BatchWrapper(test_iter, txt_col, None)\n",
    "\n",
    "# define FULL train dataset for building vocab\n",
    "full_train_ds = data.TabularDataset(f'{PATH}/full_train_ds.csv', \n",
    "                                    format='csv', skip_header=True, fields=train_datafields)\n",
    "\n",
    "TEXT_fld.build_vocab(full_train_ds, min_freq=min_freq, max_size=max_features, vectors=pretrained_vectors)\n",
    "\n",
    "# cv\n",
    "for i in range(n_folds):\n",
    "    print('-' * 10)\n",
    "    print(f'Fold {i} ....')\n",
    "    \n",
    "    # train/validation datsets\n",
    "    train_ds, valid_ds = data.TabularDataset.splits(PATH, \n",
    "                                                    train=f'train_ds_{i}_of_{n_folds}.csv', \n",
    "                                                    validation=f'valid_ds_{i}_of_{n_folds}.csv',\n",
    "                                                    format='csv', skip_header=True, fields=train_datafields)\n",
    "\n",
    "    # train/validation iterators/dataloaders\n",
    "    train_iter, val_iter = data.BucketIterator.splits(\n",
    "        (train_ds, valid_ds), # we pass in the datasets we want the iterator to draw data from\n",
    "        batch_sizes=(batch_sizes[0], batch_sizes[1]),\n",
    "        device=0, # if you want to use the GPU, specify the GPU number here\n",
    "        sort_key=lambda x: len(x.comment_text_cleaned), # the BucketIterator needs to be told what function it should use to group the data.\n",
    "        sort_within_batch=False,\n",
    "        repeat=False) # we pass repeat=False because we want to wrap this Iterator layer.\n",
    "        \n",
    "    train_dl = BatchWrapper(train_iter, txt_col, label_cols)\n",
    "    valid_dl = BatchWrapper(val_iter, txt_col, label_cols)\n",
    "        \n",
    "    md = ModelData(PATH, trn_dl=train_dl, val_dl=valid_dl, test_dl=test_dl)\n",
    "    \n",
    "    model = SimpleGru(vocab_sz, emb_sz, n_rnn_hidden, n_rnn_layers, True, out_sz, bsz=batch_sizes[0],\n",
    "                             linears=linears, linear_drops=linear_drops, use_bn=use_bn)\n",
    "    \n",
    "    model.cuda()\n",
    "    \n",
    "    lo = LayerOptimizer(optim.Adam, model, 1e-2, 1e-5)\n",
    "    on_end = lambda sched, cycle: save_model(model, f'{PATH}/models/fit_1_cv{i}_cyc_{cycle}')\n",
    "    cb = [CosAnneal(lo, len(md.trn_dl), cycle_mult=2)] #, on_cycle_end=on_end)]\n",
    "    fit(model, md, 2**4-1, lo.opt, F.binary_cross_entropy, callbacks=cb)\n",
    "        \n",
    "    on_end = lambda sched, cycle: save_model(model, f'{PATH}/models/fit_2_cv{i}_cyc_{cycle}')\n",
    "    lo = LayerOptimizer(optim.Adam, model, 1e-3, 1e-5)\n",
    "    cb = [CosAnneal(lo, (len(md.trn_dl) * 6))] #, on_cycle_end=on_end)]\n",
    "    fit(model, md, 6, lo.opt, F.binary_cross_entropy, callbacks=cb)\n",
    "        \n",
    "    preds = predict(model, test_dl)\n",
    "        \n",
    "    subm_df = pd.read_csv(\"data/test.csv\")\n",
    "    for lbl_idx, col in enumerate([\"toxic\", \"severe_toxic\", \"obscene\", \"threat\", \"insult\", \"identity_hate\"]):\n",
    "        subm_df[col] = preds[:, lbl_idx]\n",
    "        \n",
    "    # if you want to write the submission file to disk, uncomment and run the below code\n",
    "    subm_df.drop(['comment_text'], axis=1).to_csv(f'{PATH}/submissions/subm_20180317_cv_{i}.csv', index=False)\n",
    "\n"
   ]
  },
  {
   "cell_type": "code",
   "execution_count": 50,
   "metadata": {},
   "outputs": [
    {
     "data": {
      "text/plain": [
       "1531640"
      ]
     },
     "metadata": {},
     "output_type": "display_data"
    },
    {
     "data": {
      "text/html": [
       "<div>\n",
       "<style scoped>\n",
       "    .dataframe tbody tr th:only-of-type {\n",
       "        vertical-align: middle;\n",
       "    }\n",
       "\n",
       "    .dataframe tbody tr th {\n",
       "        vertical-align: top;\n",
       "    }\n",
       "\n",
       "    .dataframe thead th {\n",
       "        text-align: right;\n",
       "    }\n",
       "</style>\n",
       "<table border=\"1\" class=\"dataframe\">\n",
       "  <thead>\n",
       "    <tr style=\"text-align: right;\">\n",
       "      <th></th>\n",
       "      <th>id</th>\n",
       "      <th>toxic</th>\n",
       "      <th>severe_toxic</th>\n",
       "      <th>obscene</th>\n",
       "      <th>threat</th>\n",
       "      <th>insult</th>\n",
       "      <th>identity_hate</th>\n",
       "    </tr>\n",
       "  </thead>\n",
       "  <tbody>\n",
       "    <tr>\n",
       "      <th>0</th>\n",
       "      <td>00001cee341fdb12</td>\n",
       "      <td>0.996244</td>\n",
       "      <td>0.393182</td>\n",
       "      <td>0.972876</td>\n",
       "      <td>0.087797</td>\n",
       "      <td>0.935190</td>\n",
       "      <td>0.310491</td>\n",
       "    </tr>\n",
       "    <tr>\n",
       "      <th>1</th>\n",
       "      <td>0000247867823ef7</td>\n",
       "      <td>0.001040</td>\n",
       "      <td>0.000051</td>\n",
       "      <td>0.001035</td>\n",
       "      <td>0.000020</td>\n",
       "      <td>0.000553</td>\n",
       "      <td>0.000119</td>\n",
       "    </tr>\n",
       "  </tbody>\n",
       "</table>\n",
       "</div>"
      ],
      "text/plain": [
       "                 id     toxic  severe_toxic   obscene    threat    insult  \\\n",
       "0  00001cee341fdb12  0.996244  0.393182      0.972876  0.087797  0.935190   \n",
       "1  0000247867823ef7  0.001040  0.000051      0.001035  0.000020  0.000553   \n",
       "\n",
       "   identity_hate  \n",
       "0  0.310491       \n",
       "1  0.000119       "
      ]
     },
     "metadata": {},
     "output_type": "display_data"
    }
   ],
   "source": [
    "cv_dfs = []\n",
    "for i in range(n_folds):\n",
    "    df = pd.read_csv(f'{PATH}/submissions/subm_20180315_cv_{i}.csv')\n",
    "    cv_dfs.append(df)\n",
    "    \n",
    "final_cv_df = pd.concat([ df for df in cv_dfs ])\n",
    "\n",
    "display(len(final_cv_df))\n",
    "display(final_cv_df.head(2))"
   ]
  },
  {
   "cell_type": "code",
   "execution_count": 51,
   "metadata": {},
   "outputs": [
    {
     "data": {
      "text/html": [
       "<div>\n",
       "<style scoped>\n",
       "    .dataframe tbody tr th:only-of-type {\n",
       "        vertical-align: middle;\n",
       "    }\n",
       "\n",
       "    .dataframe tbody tr th {\n",
       "        vertical-align: top;\n",
       "    }\n",
       "\n",
       "    .dataframe thead th {\n",
       "        text-align: right;\n",
       "    }\n",
       "</style>\n",
       "<table border=\"1\" class=\"dataframe\">\n",
       "  <thead>\n",
       "    <tr style=\"text-align: right;\">\n",
       "      <th></th>\n",
       "      <th>id</th>\n",
       "      <th>toxic</th>\n",
       "      <th>severe_toxic</th>\n",
       "      <th>obscene</th>\n",
       "      <th>threat</th>\n",
       "      <th>insult</th>\n",
       "      <th>identity_hate</th>\n",
       "    </tr>\n",
       "  </thead>\n",
       "  <tbody>\n",
       "    <tr>\n",
       "      <th>0</th>\n",
       "      <td>00001cee341fdb12</td>\n",
       "      <td>0.900280</td>\n",
       "      <td>0.375404</td>\n",
       "      <td>0.875346</td>\n",
       "      <td>0.087246</td>\n",
       "      <td>0.826584</td>\n",
       "      <td>0.242148</td>\n",
       "    </tr>\n",
       "    <tr>\n",
       "      <th>1</th>\n",
       "      <td>0000247867823ef7</td>\n",
       "      <td>0.004881</td>\n",
       "      <td>0.000273</td>\n",
       "      <td>0.002911</td>\n",
       "      <td>0.000026</td>\n",
       "      <td>0.001958</td>\n",
       "      <td>0.000360</td>\n",
       "    </tr>\n",
       "    <tr>\n",
       "      <th>2</th>\n",
       "      <td>00013b17ad220c46</td>\n",
       "      <td>0.030315</td>\n",
       "      <td>0.003812</td>\n",
       "      <td>0.022104</td>\n",
       "      <td>0.000283</td>\n",
       "      <td>0.014694</td>\n",
       "      <td>0.001177</td>\n",
       "    </tr>\n",
       "    <tr>\n",
       "      <th>3</th>\n",
       "      <td>00017563c3f7919a</td>\n",
       "      <td>0.017715</td>\n",
       "      <td>0.001505</td>\n",
       "      <td>0.010097</td>\n",
       "      <td>0.001165</td>\n",
       "      <td>0.010401</td>\n",
       "      <td>0.001894</td>\n",
       "    </tr>\n",
       "    <tr>\n",
       "      <th>4</th>\n",
       "      <td>00017695ad8997eb</td>\n",
       "      <td>0.012319</td>\n",
       "      <td>0.000488</td>\n",
       "      <td>0.004050</td>\n",
       "      <td>0.000300</td>\n",
       "      <td>0.002884</td>\n",
       "      <td>0.000992</td>\n",
       "    </tr>\n",
       "  </tbody>\n",
       "</table>\n",
       "</div>"
      ],
      "text/plain": [
       "                 id     toxic  severe_toxic   obscene    threat    insult  \\\n",
       "0  00001cee341fdb12  0.900280  0.375404      0.875346  0.087246  0.826584   \n",
       "1  0000247867823ef7  0.004881  0.000273      0.002911  0.000026  0.001958   \n",
       "2  00013b17ad220c46  0.030315  0.003812      0.022104  0.000283  0.014694   \n",
       "3  00017563c3f7919a  0.017715  0.001505      0.010097  0.001165  0.010401   \n",
       "4  00017695ad8997eb  0.012319  0.000488      0.004050  0.000300  0.002884   \n",
       "\n",
       "   identity_hate  \n",
       "0  0.242148       \n",
       "1  0.000360       \n",
       "2  0.001177       \n",
       "3  0.001894       \n",
       "4  0.000992       "
      ]
     },
     "execution_count": 51,
     "metadata": {},
     "output_type": "execute_result"
    }
   ],
   "source": [
    "final_cv_df = final_cv_df.groupby(['id']).mean().reset_index()\n",
    "final_cv_df.head()"
   ]
  },
  {
   "cell_type": "code",
   "execution_count": 52,
   "metadata": {},
   "outputs": [],
   "source": [
    "final_cv_df.to_csv(f'{PATH}/submissions/subm_20180315_cv_final.csv', index=False)"
   ]
  },
  {
   "cell_type": "markdown",
   "metadata": {},
   "source": [
    "Can repeat process above with other models/hyperparameters"
   ]
  },
  {
   "cell_type": "code",
   "execution_count": 124,
   "metadata": {},
   "outputs": [
    {
     "name": "stdout",
     "output_type": "stream",
     "text": [
      "----------\n",
      "Fold 0 ....\n"
     ]
    },
    {
     "data": {
      "application/vnd.jupyter.widget-view+json": {
       "model_id": "ca87f1223ae44a64b9063cf0ab62a65f",
       "version_major": 2,
       "version_minor": 0
      },
      "text/html": [
       "<p>Failed to display Jupyter Widget of type <code>HBox</code>.</p>\n",
       "<p>\n",
       "  If you're reading this message in the Jupyter Notebook or JupyterLab Notebook, it may mean\n",
       "  that the widgets JavaScript is still loading. If this message persists, it\n",
       "  likely means that the widgets JavaScript library is either not installed or\n",
       "  not enabled. See the <a href=\"https://ipywidgets.readthedocs.io/en/stable/user_install.html\">Jupyter\n",
       "  Widgets Documentation</a> for setup instructions.\n",
       "</p>\n",
       "<p>\n",
       "  If you're reading this message in another frontend (for example, a static\n",
       "  rendering on GitHub or <a href=\"https://nbviewer.jupyter.org/\">NBViewer</a>),\n",
       "  it may mean that your frontend doesn't currently support widgets.\n",
       "</p>\n"
      ],
      "text/plain": [
       "HBox(children=(IntProgress(value=0, description='Epoch', max=15), HTML(value='')))"
      ]
     },
     "metadata": {},
     "output_type": "display_data"
    },
    {
     "name": "stdout",
     "output_type": "stream",
     "text": [
      "  0%|          | 1/2244 [00:00<13:46,  2.71it/s, loss=0.69]     "
     ]
    },
    {
     "name": "stderr",
     "output_type": "stream",
     "text": [
      "/home/ubuntu/anaconda3/envs/fastai/lib/python3.6/site-packages/torch/nn/modules/module.py:357: UserWarning: RNN module weights are not part of single contiguous chunk of memory. This means they need to be compacted at every call, possibly greatly increasing memory usage. To compact weights again call flatten_parameters().\n",
      "  result = self.forward(*input, **kwargs)\n"
     ]
    },
    {
     "name": "stdout",
     "output_type": "stream",
     "text": [
      "  3%|▎         | 58/2244 [00:04<03:02, 11.99it/s, loss=0.32] \n",
      "  3%|▎         | 60/2244 [00:04<03:01, 12.02it/s, loss=0.316]"
     ]
    },
    {
     "name": "stderr",
     "output_type": "stream",
     "text": [
      "Exception in thread Thread-152:\n",
      "Traceback (most recent call last):\n",
      "  File \"/home/ubuntu/anaconda3/envs/fastai/lib/python3.6/threading.py\", line 916, in _bootstrap_inner\n",
      "    self.run()\n",
      "  File \"/home/ubuntu/anaconda3/envs/fastai/lib/python3.6/site-packages/tqdm/_tqdm.py\", line 144, in run\n",
      "    for instance in self.tqdm_cls._instances:\n",
      "  File \"/home/ubuntu/anaconda3/envs/fastai/lib/python3.6/_weakrefset.py\", line 60, in __iter__\n",
      "    for itemref in self.data:\n",
      "RuntimeError: Set changed size during iteration\n",
      "\n"
     ]
    },
    {
     "name": "stdout",
     "output_type": "stream",
     "text": [
      "                                                                \r"
     ]
    },
    {
     "name": "stderr",
     "output_type": "stream",
     "text": [
      "/home/ubuntu/anaconda3/envs/fastai/lib/python3.6/site-packages/ipykernel_launcher.py:6: DeprecationWarning: generator 'Iterator.__iter__' raised StopIteration\n",
      "  \n"
     ]
    },
    {
     "name": "stdout",
     "output_type": "stream",
     "text": [
      "epoch      trn_loss   val_loss   \n",
      "    0      0.048469   0.047591  \n",
      "    1      0.054427   0.050112                                  \n",
      "    2      0.049167   0.043807                                  \n",
      "    3      0.054559   0.051215                                  \n",
      "    4      0.050404   0.047052                                  \n",
      "    5      0.049142   0.043621                                  \n",
      "    6      0.045538   0.042728                                  \n",
      "    7      0.053466   0.05362                                   \n",
      "    8      0.054661   0.050953                                  \n",
      "    9      0.053422   0.048362                                  \n",
      "    10     0.05041    0.046913                                  \n",
      "    11     0.050894   0.045503                                  \n",
      "    12     0.050088   0.044133                                  \n",
      "    13     0.047106   0.042753                                  \n",
      "    14     0.043142   0.042676                                  \n",
      "\n"
     ]
    },
    {
     "data": {
      "application/vnd.jupyter.widget-view+json": {
       "model_id": "265c566e86184515aa1d8866434fde57",
       "version_major": 2,
       "version_minor": 0
      },
      "text/html": [
       "<p>Failed to display Jupyter Widget of type <code>HBox</code>.</p>\n",
       "<p>\n",
       "  If you're reading this message in the Jupyter Notebook or JupyterLab Notebook, it may mean\n",
       "  that the widgets JavaScript is still loading. If this message persists, it\n",
       "  likely means that the widgets JavaScript library is either not installed or\n",
       "  not enabled. See the <a href=\"https://ipywidgets.readthedocs.io/en/stable/user_install.html\">Jupyter\n",
       "  Widgets Documentation</a> for setup instructions.\n",
       "</p>\n",
       "<p>\n",
       "  If you're reading this message in another frontend (for example, a static\n",
       "  rendering on GitHub or <a href=\"https://nbviewer.jupyter.org/\">NBViewer</a>),\n",
       "  it may mean that your frontend doesn't currently support widgets.\n",
       "</p>\n"
      ],
      "text/plain": [
       "HBox(children=(IntProgress(value=0, description='Epoch', max=6), HTML(value='')))"
      ]
     },
     "metadata": {},
     "output_type": "display_data"
    },
    {
     "name": "stdout",
     "output_type": "stream",
     "text": [
      "epoch      trn_loss   val_loss                                  \n",
      "    0      0.048003   0.043147  \n",
      "    1      0.046446   0.042669                                  \n",
      "    2      0.042571   0.04227                                   \n",
      "    3      0.041115   0.042636                                  \n",
      "    4      0.041296   0.042247                                  \n",
      "    5      0.042504   0.042328                                  \n",
      "\n",
      "----------\n",
      "Fold 1 ....\n"
     ]
    },
    {
     "data": {
      "application/vnd.jupyter.widget-view+json": {
       "model_id": "51b7c38f03494000a3ad9eecee6adc5c",
       "version_major": 2,
       "version_minor": 0
      },
      "text/html": [
       "<p>Failed to display Jupyter Widget of type <code>HBox</code>.</p>\n",
       "<p>\n",
       "  If you're reading this message in the Jupyter Notebook or JupyterLab Notebook, it may mean\n",
       "  that the widgets JavaScript is still loading. If this message persists, it\n",
       "  likely means that the widgets JavaScript library is either not installed or\n",
       "  not enabled. See the <a href=\"https://ipywidgets.readthedocs.io/en/stable/user_install.html\">Jupyter\n",
       "  Widgets Documentation</a> for setup instructions.\n",
       "</p>\n",
       "<p>\n",
       "  If you're reading this message in another frontend (for example, a static\n",
       "  rendering on GitHub or <a href=\"https://nbviewer.jupyter.org/\">NBViewer</a>),\n",
       "  it may mean that your frontend doesn't currently support widgets.\n",
       "</p>\n"
      ],
      "text/plain": [
       "HBox(children=(IntProgress(value=0, description='Epoch', max=15), HTML(value='')))"
      ]
     },
     "metadata": {},
     "output_type": "display_data"
    },
    {
     "name": "stdout",
     "output_type": "stream",
     "text": [
      "epoch      trn_loss   val_loss                                  \n",
      "    0      0.048619   0.046738  \n",
      "    1      0.052916   0.047216                                  \n",
      "    2      0.048028   0.042725                                  \n",
      "    3      0.053829   0.050584                                  \n",
      "    4      0.051012   0.047008                                  \n",
      "    5      0.050445   0.043103                                  \n",
      "    6      0.04269    0.042042                                  \n",
      "    7      0.053801   0.051415                                  \n",
      "    8      0.056824   0.051967                                  \n",
      "    9      0.054729   0.047815                                  \n",
      "    10     0.051573   0.046073                                  \n",
      "    11     0.051749   0.044473                                  \n",
      "    12     0.049362   0.042717                                  \n",
      "    13     0.047756   0.041252                                  \n",
      "    14     0.041802   0.040948                                  \n",
      "\n"
     ]
    },
    {
     "data": {
      "application/vnd.jupyter.widget-view+json": {
       "model_id": "37241d1f76464aa0b20a0d21cd2c3088",
       "version_major": 2,
       "version_minor": 0
      },
      "text/html": [
       "<p>Failed to display Jupyter Widget of type <code>HBox</code>.</p>\n",
       "<p>\n",
       "  If you're reading this message in the Jupyter Notebook or JupyterLab Notebook, it may mean\n",
       "  that the widgets JavaScript is still loading. If this message persists, it\n",
       "  likely means that the widgets JavaScript library is either not installed or\n",
       "  not enabled. See the <a href=\"https://ipywidgets.readthedocs.io/en/stable/user_install.html\">Jupyter\n",
       "  Widgets Documentation</a> for setup instructions.\n",
       "</p>\n",
       "<p>\n",
       "  If you're reading this message in another frontend (for example, a static\n",
       "  rendering on GitHub or <a href=\"https://nbviewer.jupyter.org/\">NBViewer</a>),\n",
       "  it may mean that your frontend doesn't currently support widgets.\n",
       "</p>\n"
      ],
      "text/plain": [
       "HBox(children=(IntProgress(value=0, description='Epoch', max=6), HTML(value='')))"
      ]
     },
     "metadata": {},
     "output_type": "display_data"
    },
    {
     "name": "stdout",
     "output_type": "stream",
     "text": [
      "epoch      trn_loss   val_loss                                  \n",
      "    0      0.048031   0.041553  \n",
      "    1      0.043701   0.040658                                  \n",
      "    2      0.041153   0.040662                                  \n",
      "    3      0.041581   0.04105                                   \n",
      "    4      0.038941   0.040525                                  \n",
      "    5      0.040792   0.040363                                  \n",
      "\n",
      "----------\n",
      "Fold 2 ....\n"
     ]
    },
    {
     "data": {
      "application/vnd.jupyter.widget-view+json": {
       "model_id": "737d4c8cd2bb44b2a76101d93effd31d",
       "version_major": 2,
       "version_minor": 0
      },
      "text/html": [
       "<p>Failed to display Jupyter Widget of type <code>HBox</code>.</p>\n",
       "<p>\n",
       "  If you're reading this message in the Jupyter Notebook or JupyterLab Notebook, it may mean\n",
       "  that the widgets JavaScript is still loading. If this message persists, it\n",
       "  likely means that the widgets JavaScript library is either not installed or\n",
       "  not enabled. See the <a href=\"https://ipywidgets.readthedocs.io/en/stable/user_install.html\">Jupyter\n",
       "  Widgets Documentation</a> for setup instructions.\n",
       "</p>\n",
       "<p>\n",
       "  If you're reading this message in another frontend (for example, a static\n",
       "  rendering on GitHub or <a href=\"https://nbviewer.jupyter.org/\">NBViewer</a>),\n",
       "  it may mean that your frontend doesn't currently support widgets.\n",
       "</p>\n"
      ],
      "text/plain": [
       "HBox(children=(IntProgress(value=0, description='Epoch', max=15), HTML(value='')))"
      ]
     },
     "metadata": {},
     "output_type": "display_data"
    },
    {
     "name": "stdout",
     "output_type": "stream",
     "text": [
      "epoch      trn_loss   val_loss                                  \n",
      "    0      0.046289   0.048431  \n",
      "    1      0.055556   0.050417                                  \n",
      "    2      0.04787    0.04464                                   \n",
      "    3      0.054491   0.054477                                  \n",
      "    4      0.049381   0.048836                                  \n",
      "    5      0.05161    0.044986                                  \n",
      "    6      0.043357   0.043908                                  \n",
      "    7      0.052217   0.052241                                  \n",
      "    8      0.054606   0.052241                                  \n",
      "    9      0.054588   0.050563                                  \n",
      "    10     0.053075   0.048252                                  \n",
      "    11     0.052826   0.046483                                  \n",
      "    12     0.04999    0.044304                                  \n",
      "    13     0.047604   0.043817                                  \n",
      "    14     0.041184   0.043506                                  \n",
      "\n"
     ]
    },
    {
     "data": {
      "application/vnd.jupyter.widget-view+json": {
       "model_id": "80db803ba2094f49876424d0c4773c3c",
       "version_major": 2,
       "version_minor": 0
      },
      "text/html": [
       "<p>Failed to display Jupyter Widget of type <code>HBox</code>.</p>\n",
       "<p>\n",
       "  If you're reading this message in the Jupyter Notebook or JupyterLab Notebook, it may mean\n",
       "  that the widgets JavaScript is still loading. If this message persists, it\n",
       "  likely means that the widgets JavaScript library is either not installed or\n",
       "  not enabled. See the <a href=\"https://ipywidgets.readthedocs.io/en/stable/user_install.html\">Jupyter\n",
       "  Widgets Documentation</a> for setup instructions.\n",
       "</p>\n",
       "<p>\n",
       "  If you're reading this message in another frontend (for example, a static\n",
       "  rendering on GitHub or <a href=\"https://nbviewer.jupyter.org/\">NBViewer</a>),\n",
       "  it may mean that your frontend doesn't currently support widgets.\n",
       "</p>\n"
      ],
      "text/plain": [
       "HBox(children=(IntProgress(value=0, description='Epoch', max=6), HTML(value='')))"
      ]
     },
     "metadata": {},
     "output_type": "display_data"
    },
    {
     "name": "stdout",
     "output_type": "stream",
     "text": [
      "epoch      trn_loss   val_loss                                  \n",
      "    0      0.049678   0.043891  \n",
      "    1      0.045215   0.043311                                  \n",
      "    2      0.042061   0.043348                                  \n",
      "    3      0.041302   0.042923                                  \n",
      "    4      0.041568   0.042893                                  \n",
      "    5      0.039284   0.042996                                  \n",
      "\n",
      "----------\n",
      "Fold 3 ....\n"
     ]
    },
    {
     "data": {
      "application/vnd.jupyter.widget-view+json": {
       "model_id": "96d281e166574435afd8e381b52b7996",
       "version_major": 2,
       "version_minor": 0
      },
      "text/html": [
       "<p>Failed to display Jupyter Widget of type <code>HBox</code>.</p>\n",
       "<p>\n",
       "  If you're reading this message in the Jupyter Notebook or JupyterLab Notebook, it may mean\n",
       "  that the widgets JavaScript is still loading. If this message persists, it\n",
       "  likely means that the widgets JavaScript library is either not installed or\n",
       "  not enabled. See the <a href=\"https://ipywidgets.readthedocs.io/en/stable/user_install.html\">Jupyter\n",
       "  Widgets Documentation</a> for setup instructions.\n",
       "</p>\n",
       "<p>\n",
       "  If you're reading this message in another frontend (for example, a static\n",
       "  rendering on GitHub or <a href=\"https://nbviewer.jupyter.org/\">NBViewer</a>),\n",
       "  it may mean that your frontend doesn't currently support widgets.\n",
       "</p>\n"
      ],
      "text/plain": [
       "HBox(children=(IntProgress(value=0, description='Epoch', max=15), HTML(value='')))"
      ]
     },
     "metadata": {},
     "output_type": "display_data"
    },
    {
     "name": "stdout",
     "output_type": "stream",
     "text": [
      "epoch      trn_loss   val_loss                                  \n",
      "    0      0.049618   0.047353  \n",
      "    1      0.052585   0.047008                                  \n",
      "    2      0.047208   0.042854                                  \n",
      "    3      0.052913   0.050838                                  \n",
      "    4      0.048858   0.048677                                  \n",
      "    5      0.049728   0.043516                                  \n",
      "    6      0.044183   0.042253                                  \n",
      "    7      0.052952   0.051179                                  \n",
      "    8      0.054275   0.052392                                  \n",
      "    9      0.054917   0.049228                                  \n",
      "    10     0.049912   0.046602                                  \n",
      "    11     0.050874   0.04403                                   \n",
      "    12     0.049603   0.042491                                  \n",
      "    13     0.049571   0.041655                                  \n",
      "    14     0.041866   0.041459                                  \n",
      "\n"
     ]
    },
    {
     "data": {
      "application/vnd.jupyter.widget-view+json": {
       "model_id": "facf5c14c8aa438e87ddf2612007c4e8",
       "version_major": 2,
       "version_minor": 0
      },
      "text/html": [
       "<p>Failed to display Jupyter Widget of type <code>HBox</code>.</p>\n",
       "<p>\n",
       "  If you're reading this message in the Jupyter Notebook or JupyterLab Notebook, it may mean\n",
       "  that the widgets JavaScript is still loading. If this message persists, it\n",
       "  likely means that the widgets JavaScript library is either not installed or\n",
       "  not enabled. See the <a href=\"https://ipywidgets.readthedocs.io/en/stable/user_install.html\">Jupyter\n",
       "  Widgets Documentation</a> for setup instructions.\n",
       "</p>\n",
       "<p>\n",
       "  If you're reading this message in another frontend (for example, a static\n",
       "  rendering on GitHub or <a href=\"https://nbviewer.jupyter.org/\">NBViewer</a>),\n",
       "  it may mean that your frontend doesn't currently support widgets.\n",
       "</p>\n"
      ],
      "text/plain": [
       "HBox(children=(IntProgress(value=0, description='Epoch', max=6), HTML(value='')))"
      ]
     },
     "metadata": {},
     "output_type": "display_data"
    },
    {
     "name": "stdout",
     "output_type": "stream",
     "text": [
      "epoch      trn_loss   val_loss                                  \n",
      "    0      0.04805    0.041678  \n",
      "    1      0.043631   0.041326                                  \n",
      "    2      0.044845   0.041396                                  \n",
      "    3      0.041532   0.040807                                  \n",
      "    4      0.04035    0.040967                                  \n",
      "    5      0.039495   0.040914                                  \n",
      "\n",
      "----------\n",
      "Fold 4 ....\n"
     ]
    },
    {
     "data": {
      "application/vnd.jupyter.widget-view+json": {
       "model_id": "107f5b487aa94120acb277bd9580e1b2",
       "version_major": 2,
       "version_minor": 0
      },
      "text/html": [
       "<p>Failed to display Jupyter Widget of type <code>HBox</code>.</p>\n",
       "<p>\n",
       "  If you're reading this message in the Jupyter Notebook or JupyterLab Notebook, it may mean\n",
       "  that the widgets JavaScript is still loading. If this message persists, it\n",
       "  likely means that the widgets JavaScript library is either not installed or\n",
       "  not enabled. See the <a href=\"https://ipywidgets.readthedocs.io/en/stable/user_install.html\">Jupyter\n",
       "  Widgets Documentation</a> for setup instructions.\n",
       "</p>\n",
       "<p>\n",
       "  If you're reading this message in another frontend (for example, a static\n",
       "  rendering on GitHub or <a href=\"https://nbviewer.jupyter.org/\">NBViewer</a>),\n",
       "  it may mean that your frontend doesn't currently support widgets.\n",
       "</p>\n"
      ],
      "text/plain": [
       "HBox(children=(IntProgress(value=0, description='Epoch', max=15), HTML(value='')))"
      ]
     },
     "metadata": {},
     "output_type": "display_data"
    },
    {
     "name": "stdout",
     "output_type": "stream",
     "text": [
      "epoch      trn_loss   val_loss                                  \n",
      "    0      0.049441   0.04764   \n",
      "    1      0.05384    0.049506                                  \n",
      "    2      0.046548   0.042918                                  \n",
      "    3      0.052523   0.052382                                  \n",
      "    4      0.049889   0.048282                                  \n",
      "    5      0.049554   0.043258                                  \n",
      "    6      0.047914   0.04193                                   \n",
      "    7      0.056912   0.049793                                  \n",
      "    8      0.055153   0.051211                                  \n",
      "    9      0.056936   0.048892                                  \n",
      "    10     0.050674   0.046205                                  \n",
      "    11     0.050791   0.045044                                  \n",
      "    12     0.050156   0.042741                                  \n",
      "    13     0.046342   0.041757                                  \n",
      "    14     0.044168   0.041481                                  \n",
      "\n"
     ]
    },
    {
     "data": {
      "application/vnd.jupyter.widget-view+json": {
       "model_id": "933b695dc4a24ec092cd2e21ed3ca176",
       "version_major": 2,
       "version_minor": 0
      },
      "text/html": [
       "<p>Failed to display Jupyter Widget of type <code>HBox</code>.</p>\n",
       "<p>\n",
       "  If you're reading this message in the Jupyter Notebook or JupyterLab Notebook, it may mean\n",
       "  that the widgets JavaScript is still loading. If this message persists, it\n",
       "  likely means that the widgets JavaScript library is either not installed or\n",
       "  not enabled. See the <a href=\"https://ipywidgets.readthedocs.io/en/stable/user_install.html\">Jupyter\n",
       "  Widgets Documentation</a> for setup instructions.\n",
       "</p>\n",
       "<p>\n",
       "  If you're reading this message in another frontend (for example, a static\n",
       "  rendering on GitHub or <a href=\"https://nbviewer.jupyter.org/\">NBViewer</a>),\n",
       "  it may mean that your frontend doesn't currently support widgets.\n",
       "</p>\n"
      ],
      "text/plain": [
       "HBox(children=(IntProgress(value=0, description='Epoch', max=6), HTML(value='')))"
      ]
     },
     "metadata": {},
     "output_type": "display_data"
    },
    {
     "name": "stdout",
     "output_type": "stream",
     "text": [
      "epoch      trn_loss   val_loss                                  \n",
      "    0      0.046981   0.042073  \n",
      "    1      0.042722   0.041843                                  \n",
      "    2      0.038307   0.041989                                  \n",
      "    3      0.042466   0.040804                                  \n",
      "    4      0.043105   0.041049                                  \n",
      "    5      0.039883   0.041297                                  \n",
      "\n",
      "----------\n",
      "Fold 5 ....\n"
     ]
    },
    {
     "data": {
      "application/vnd.jupyter.widget-view+json": {
       "model_id": "9e60cbf4f27e491d9a0302aa04cae1de",
       "version_major": 2,
       "version_minor": 0
      },
      "text/html": [
       "<p>Failed to display Jupyter Widget of type <code>HBox</code>.</p>\n",
       "<p>\n",
       "  If you're reading this message in the Jupyter Notebook or JupyterLab Notebook, it may mean\n",
       "  that the widgets JavaScript is still loading. If this message persists, it\n",
       "  likely means that the widgets JavaScript library is either not installed or\n",
       "  not enabled. See the <a href=\"https://ipywidgets.readthedocs.io/en/stable/user_install.html\">Jupyter\n",
       "  Widgets Documentation</a> for setup instructions.\n",
       "</p>\n",
       "<p>\n",
       "  If you're reading this message in another frontend (for example, a static\n",
       "  rendering on GitHub or <a href=\"https://nbviewer.jupyter.org/\">NBViewer</a>),\n",
       "  it may mean that your frontend doesn't currently support widgets.\n",
       "</p>\n"
      ],
      "text/plain": [
       "HBox(children=(IntProgress(value=0, description='Epoch', max=15), HTML(value='')))"
      ]
     },
     "metadata": {},
     "output_type": "display_data"
    },
    {
     "name": "stdout",
     "output_type": "stream",
     "text": [
      "epoch      trn_loss   val_loss                                  \n",
      "    0      0.050729   0.049864  \n",
      "    1      0.054787   0.049899                                  \n",
      "    2      0.047279   0.044821                                  \n",
      "    3      0.054432   0.056087                                  \n",
      "    4      0.04877    0.048953                                  \n",
      "    5      0.046671   0.04586                                   \n",
      "    6      0.043642   0.043844                                  \n",
      "    7      0.055741   0.051079                                  \n",
      "    8      0.053453   0.053713                                  \n",
      "    9      0.052143   0.052004                                  \n",
      "    10     0.050021   0.048621                                  \n",
      "    11     0.050713   0.046845                                  \n",
      "    12     0.053555   0.044741                                  \n",
      "    13     0.046228   0.043288                                  \n",
      "    14     0.043366   0.043017                                  \n",
      "\n"
     ]
    },
    {
     "data": {
      "application/vnd.jupyter.widget-view+json": {
       "model_id": "04bb1bac9986460ea1fe1578cb49a1ae",
       "version_major": 2,
       "version_minor": 0
      },
      "text/html": [
       "<p>Failed to display Jupyter Widget of type <code>HBox</code>.</p>\n",
       "<p>\n",
       "  If you're reading this message in the Jupyter Notebook or JupyterLab Notebook, it may mean\n",
       "  that the widgets JavaScript is still loading. If this message persists, it\n",
       "  likely means that the widgets JavaScript library is either not installed or\n",
       "  not enabled. See the <a href=\"https://ipywidgets.readthedocs.io/en/stable/user_install.html\">Jupyter\n",
       "  Widgets Documentation</a> for setup instructions.\n",
       "</p>\n",
       "<p>\n",
       "  If you're reading this message in another frontend (for example, a static\n",
       "  rendering on GitHub or <a href=\"https://nbviewer.jupyter.org/\">NBViewer</a>),\n",
       "  it may mean that your frontend doesn't currently support widgets.\n",
       "</p>\n"
      ],
      "text/plain": [
       "HBox(children=(IntProgress(value=0, description='Epoch', max=6), HTML(value='')))"
      ]
     },
     "metadata": {},
     "output_type": "display_data"
    },
    {
     "name": "stdout",
     "output_type": "stream",
     "text": [
      "epoch      trn_loss   val_loss                                  \n",
      "    0      0.04624    0.043702  \n",
      "    1      0.044615   0.042844                                  \n",
      "    2      0.042304   0.043506                                  \n",
      "    3      0.042479   0.042235                                  \n",
      "    4      0.040376   0.042538                                  \n",
      "    5      0.040482   0.042533                                  \n",
      "\n",
      "----------\n",
      "Fold 6 ....\n"
     ]
    },
    {
     "data": {
      "application/vnd.jupyter.widget-view+json": {
       "model_id": "2e122705e4fe4e4cae8dafbaf6e65911",
       "version_major": 2,
       "version_minor": 0
      },
      "text/html": [
       "<p>Failed to display Jupyter Widget of type <code>HBox</code>.</p>\n",
       "<p>\n",
       "  If you're reading this message in the Jupyter Notebook or JupyterLab Notebook, it may mean\n",
       "  that the widgets JavaScript is still loading. If this message persists, it\n",
       "  likely means that the widgets JavaScript library is either not installed or\n",
       "  not enabled. See the <a href=\"https://ipywidgets.readthedocs.io/en/stable/user_install.html\">Jupyter\n",
       "  Widgets Documentation</a> for setup instructions.\n",
       "</p>\n",
       "<p>\n",
       "  If you're reading this message in another frontend (for example, a static\n",
       "  rendering on GitHub or <a href=\"https://nbviewer.jupyter.org/\">NBViewer</a>),\n",
       "  it may mean that your frontend doesn't currently support widgets.\n",
       "</p>\n"
      ],
      "text/plain": [
       "HBox(children=(IntProgress(value=0, description='Epoch', max=15), HTML(value='')))"
      ]
     },
     "metadata": {},
     "output_type": "display_data"
    },
    {
     "name": "stdout",
     "output_type": "stream",
     "text": [
      "epoch      trn_loss   val_loss                                  \n",
      "    0      0.050033   0.047404  \n",
      "    1      0.057283   0.047643                                  \n",
      "    2      0.04643    0.042522                                  \n",
      "    3      0.054909   0.05029                                   \n",
      "    4      0.050203   0.047146                                  \n",
      "    5      0.048014   0.043348                                  \n",
      "    6      0.043167   0.041732                                  \n",
      "    7      0.050781   0.051169                                  \n",
      "    8      0.055856   0.050226                                  \n",
      "    9      0.055869   0.048312                                  \n",
      "    10     0.052059   0.046685                                  \n",
      "    11     0.049855   0.045242                                  \n",
      "    12     0.048794   0.042593                                  \n",
      "    13     0.049134   0.041507                                  \n",
      "    14     0.042655   0.041549                                  \n",
      "\n"
     ]
    },
    {
     "data": {
      "application/vnd.jupyter.widget-view+json": {
       "model_id": "91ba7b3cab694277a87bf4c43bb87d66",
       "version_major": 2,
       "version_minor": 0
      },
      "text/html": [
       "<p>Failed to display Jupyter Widget of type <code>HBox</code>.</p>\n",
       "<p>\n",
       "  If you're reading this message in the Jupyter Notebook or JupyterLab Notebook, it may mean\n",
       "  that the widgets JavaScript is still loading. If this message persists, it\n",
       "  likely means that the widgets JavaScript library is either not installed or\n",
       "  not enabled. See the <a href=\"https://ipywidgets.readthedocs.io/en/stable/user_install.html\">Jupyter\n",
       "  Widgets Documentation</a> for setup instructions.\n",
       "</p>\n",
       "<p>\n",
       "  If you're reading this message in another frontend (for example, a static\n",
       "  rendering on GitHub or <a href=\"https://nbviewer.jupyter.org/\">NBViewer</a>),\n",
       "  it may mean that your frontend doesn't currently support widgets.\n",
       "</p>\n"
      ],
      "text/plain": [
       "HBox(children=(IntProgress(value=0, description='Epoch', max=6), HTML(value='')))"
      ]
     },
     "metadata": {},
     "output_type": "display_data"
    },
    {
     "name": "stdout",
     "output_type": "stream",
     "text": [
      "epoch      trn_loss   val_loss                                  \n",
      "    0      0.04653    0.042098  \n",
      "    1      0.044122   0.041872                                  \n",
      "    2      0.041489   0.042229                                  \n",
      "    3      0.042402   0.041216                                  \n",
      "    4      0.041536   0.041386                                  \n",
      "    5      0.040191   0.041547                                  \n",
      "\n",
      "----------\n",
      "Fold 7 ....\n"
     ]
    },
    {
     "data": {
      "application/vnd.jupyter.widget-view+json": {
       "model_id": "df2978ecbedc4c6d9ae82bd63993f196",
       "version_major": 2,
       "version_minor": 0
      },
      "text/html": [
       "<p>Failed to display Jupyter Widget of type <code>HBox</code>.</p>\n",
       "<p>\n",
       "  If you're reading this message in the Jupyter Notebook or JupyterLab Notebook, it may mean\n",
       "  that the widgets JavaScript is still loading. If this message persists, it\n",
       "  likely means that the widgets JavaScript library is either not installed or\n",
       "  not enabled. See the <a href=\"https://ipywidgets.readthedocs.io/en/stable/user_install.html\">Jupyter\n",
       "  Widgets Documentation</a> for setup instructions.\n",
       "</p>\n",
       "<p>\n",
       "  If you're reading this message in another frontend (for example, a static\n",
       "  rendering on GitHub or <a href=\"https://nbviewer.jupyter.org/\">NBViewer</a>),\n",
       "  it may mean that your frontend doesn't currently support widgets.\n",
       "</p>\n"
      ],
      "text/plain": [
       "HBox(children=(IntProgress(value=0, description='Epoch', max=15), HTML(value='')))"
      ]
     },
     "metadata": {},
     "output_type": "display_data"
    },
    {
     "name": "stdout",
     "output_type": "stream",
     "text": [
      "epoch      trn_loss   val_loss                                  \n",
      "    0      0.049353   0.047714  \n",
      "    1      0.059125   0.047348                                  \n",
      "    2      0.044911   0.043605                                  \n",
      "    3      0.053491   0.052291                                  \n",
      "    4      0.051705   0.048001                                  \n",
      "    5      0.047005   0.044597                                  \n",
      "    6      0.045326   0.04334                                   \n",
      "    7      0.05801    0.050531                                  \n",
      "    8      0.05764    0.053919                                  \n",
      "    9      0.05823    0.049168                                  \n",
      "    10     0.050083   0.047223                                  \n",
      "    11     0.050047   0.045092                                  \n",
      "    12     0.050075   0.044003                                  \n",
      "    13     0.048338   0.043474                                  \n",
      "    14     0.043119   0.043152                                  \n",
      "\n"
     ]
    },
    {
     "data": {
      "application/vnd.jupyter.widget-view+json": {
       "model_id": "5718cc2cef484c379b0b99575ce2de55",
       "version_major": 2,
       "version_minor": 0
      },
      "text/html": [
       "<p>Failed to display Jupyter Widget of type <code>HBox</code>.</p>\n",
       "<p>\n",
       "  If you're reading this message in the Jupyter Notebook or JupyterLab Notebook, it may mean\n",
       "  that the widgets JavaScript is still loading. If this message persists, it\n",
       "  likely means that the widgets JavaScript library is either not installed or\n",
       "  not enabled. See the <a href=\"https://ipywidgets.readthedocs.io/en/stable/user_install.html\">Jupyter\n",
       "  Widgets Documentation</a> for setup instructions.\n",
       "</p>\n",
       "<p>\n",
       "  If you're reading this message in another frontend (for example, a static\n",
       "  rendering on GitHub or <a href=\"https://nbviewer.jupyter.org/\">NBViewer</a>),\n",
       "  it may mean that your frontend doesn't currently support widgets.\n",
       "</p>\n"
      ],
      "text/plain": [
       "HBox(children=(IntProgress(value=0, description='Epoch', max=6), HTML(value='')))"
      ]
     },
     "metadata": {},
     "output_type": "display_data"
    },
    {
     "name": "stdout",
     "output_type": "stream",
     "text": [
      "epoch      trn_loss   val_loss                                  \n",
      "    0      0.047963   0.043416  \n",
      "    1      0.042645   0.043207                                  \n",
      "    2      0.043045   0.042689                                  \n",
      "    3      0.043217   0.042471                                  \n",
      "    4      0.041595   0.042513                                  \n",
      "    5      0.037113   0.042658                                  \n",
      "\n",
      "----------\n",
      "Fold 8 ....\n"
     ]
    },
    {
     "data": {
      "application/vnd.jupyter.widget-view+json": {
       "model_id": "34170ac668074bf295259000c1f429a8",
       "version_major": 2,
       "version_minor": 0
      },
      "text/html": [
       "<p>Failed to display Jupyter Widget of type <code>HBox</code>.</p>\n",
       "<p>\n",
       "  If you're reading this message in the Jupyter Notebook or JupyterLab Notebook, it may mean\n",
       "  that the widgets JavaScript is still loading. If this message persists, it\n",
       "  likely means that the widgets JavaScript library is either not installed or\n",
       "  not enabled. See the <a href=\"https://ipywidgets.readthedocs.io/en/stable/user_install.html\">Jupyter\n",
       "  Widgets Documentation</a> for setup instructions.\n",
       "</p>\n",
       "<p>\n",
       "  If you're reading this message in another frontend (for example, a static\n",
       "  rendering on GitHub or <a href=\"https://nbviewer.jupyter.org/\">NBViewer</a>),\n",
       "  it may mean that your frontend doesn't currently support widgets.\n",
       "</p>\n"
      ],
      "text/plain": [
       "HBox(children=(IntProgress(value=0, description='Epoch', max=15), HTML(value='')))"
      ]
     },
     "metadata": {},
     "output_type": "display_data"
    },
    {
     "name": "stdout",
     "output_type": "stream",
     "text": [
      "epoch      trn_loss   val_loss                                  \n",
      "    0      0.049908   0.04927   \n",
      "    1      0.058203   0.053482                                  \n",
      "    2      0.045737   0.045254                                  \n",
      "    3      0.054174   0.052643                                  \n",
      "    4      0.048635   0.049117                                  \n",
      "    5      0.045412   0.046131                                  \n",
      "    6      0.042726   0.044782                                  \n",
      "    7      0.058585   0.054006                                  \n",
      "    8      0.058236   0.052397                                  \n",
      "    9      0.05258    0.051033                                  \n",
      "    10     0.051816   0.048607                                  \n",
      "    11     0.048049   0.046738                                  \n",
      "    12     0.051307   0.045303                                  \n",
      "    13     0.047728   0.044081                                  \n",
      "    14     0.041358   0.044005                                  \n",
      "\n"
     ]
    },
    {
     "data": {
      "application/vnd.jupyter.widget-view+json": {
       "model_id": "eaa00b5438c94842821a141ab5320142",
       "version_major": 2,
       "version_minor": 0
      },
      "text/html": [
       "<p>Failed to display Jupyter Widget of type <code>HBox</code>.</p>\n",
       "<p>\n",
       "  If you're reading this message in the Jupyter Notebook or JupyterLab Notebook, it may mean\n",
       "  that the widgets JavaScript is still loading. If this message persists, it\n",
       "  likely means that the widgets JavaScript library is either not installed or\n",
       "  not enabled. See the <a href=\"https://ipywidgets.readthedocs.io/en/stable/user_install.html\">Jupyter\n",
       "  Widgets Documentation</a> for setup instructions.\n",
       "</p>\n",
       "<p>\n",
       "  If you're reading this message in another frontend (for example, a static\n",
       "  rendering on GitHub or <a href=\"https://nbviewer.jupyter.org/\">NBViewer</a>),\n",
       "  it may mean that your frontend doesn't currently support widgets.\n",
       "</p>\n"
      ],
      "text/plain": [
       "HBox(children=(IntProgress(value=0, description='Epoch', max=6), HTML(value='')))"
      ]
     },
     "metadata": {},
     "output_type": "display_data"
    },
    {
     "name": "stdout",
     "output_type": "stream",
     "text": [
      "epoch      trn_loss   val_loss                                  \n",
      "    0      0.045647   0.044474  \n",
      "    1      0.042817   0.044228                                  \n",
      "    2      0.040915   0.045599                                  \n",
      "    3      0.041809   0.043419                                  \n",
      "    4      0.040474   0.043428                                  \n",
      "    5      0.037941   0.043692                                  \n",
      "\n",
      "----------\n",
      "Fold 9 ....\n"
     ]
    },
    {
     "data": {
      "application/vnd.jupyter.widget-view+json": {
       "model_id": "5a5124f0ee4f4a6da7acf579c9190a90",
       "version_major": 2,
       "version_minor": 0
      },
      "text/html": [
       "<p>Failed to display Jupyter Widget of type <code>HBox</code>.</p>\n",
       "<p>\n",
       "  If you're reading this message in the Jupyter Notebook or JupyterLab Notebook, it may mean\n",
       "  that the widgets JavaScript is still loading. If this message persists, it\n",
       "  likely means that the widgets JavaScript library is either not installed or\n",
       "  not enabled. See the <a href=\"https://ipywidgets.readthedocs.io/en/stable/user_install.html\">Jupyter\n",
       "  Widgets Documentation</a> for setup instructions.\n",
       "</p>\n",
       "<p>\n",
       "  If you're reading this message in another frontend (for example, a static\n",
       "  rendering on GitHub or <a href=\"https://nbviewer.jupyter.org/\">NBViewer</a>),\n",
       "  it may mean that your frontend doesn't currently support widgets.\n",
       "</p>\n"
      ],
      "text/plain": [
       "HBox(children=(IntProgress(value=0, description='Epoch', max=15), HTML(value='')))"
      ]
     },
     "metadata": {},
     "output_type": "display_data"
    },
    {
     "name": "stdout",
     "output_type": "stream",
     "text": [
      "epoch      trn_loss   val_loss                                  \n",
      "    0      0.049396   0.049165  \n",
      "    1      0.05688    0.050416                                  \n",
      "    2      0.047768   0.045109                                  \n",
      "    3      0.058394   0.054652                                  \n",
      "    4      0.051842   0.048766                                  \n",
      "    5      0.04766    0.044876                                  \n",
      "    6      0.046309   0.043491                                  \n",
      "    7      0.059311   0.051079                                  \n",
      "    8      0.056766   0.053325                                  \n",
      "    9      0.060314   0.050524                                  \n",
      "    10     0.052698   0.0494                                    \n",
      "    11     0.050007   0.046307                                  \n",
      "    12     0.048753   0.044859                                  \n",
      "    13     0.046021   0.043258                                  \n",
      "    14     0.041682   0.043055                                  \n",
      "\n"
     ]
    },
    {
     "data": {
      "application/vnd.jupyter.widget-view+json": {
       "model_id": "24ea789e08ab456fa864bfcd089bbcaf",
       "version_major": 2,
       "version_minor": 0
      },
      "text/html": [
       "<p>Failed to display Jupyter Widget of type <code>HBox</code>.</p>\n",
       "<p>\n",
       "  If you're reading this message in the Jupyter Notebook or JupyterLab Notebook, it may mean\n",
       "  that the widgets JavaScript is still loading. If this message persists, it\n",
       "  likely means that the widgets JavaScript library is either not installed or\n",
       "  not enabled. See the <a href=\"https://ipywidgets.readthedocs.io/en/stable/user_install.html\">Jupyter\n",
       "  Widgets Documentation</a> for setup instructions.\n",
       "</p>\n",
       "<p>\n",
       "  If you're reading this message in another frontend (for example, a static\n",
       "  rendering on GitHub or <a href=\"https://nbviewer.jupyter.org/\">NBViewer</a>),\n",
       "  it may mean that your frontend doesn't currently support widgets.\n",
       "</p>\n"
      ],
      "text/plain": [
       "HBox(children=(IntProgress(value=0, description='Epoch', max=6), HTML(value='')))"
      ]
     },
     "metadata": {},
     "output_type": "display_data"
    },
    {
     "name": "stdout",
     "output_type": "stream",
     "text": [
      "epoch      trn_loss   val_loss                                  \n",
      "    0      0.046627   0.044108  \n",
      "    1      0.044489   0.042747                                  \n",
      "    2      0.044756   0.042827                                  \n",
      "    3      0.043293   0.042333                                  \n",
      "    4      0.042247   0.042378                                  \n",
      "    5      0.037156   0.042477                                  \n",
      "\n"
     ]
    }
   ],
   "source": [
    "train_datafields = [(\"id\", None), # we won't be needing the id, so we pass in None as the field\n",
    "                    (txt_col, TEXT_fld),\n",
    "                    (\"toxic\", LABEL_fld), (\"severe_toxic\", LABEL_fld), (\"obscene\", LABEL_fld),\n",
    "                    (\"threat\", LABEL_fld), (\"insult\", LABEL_fld), (\"identity_hate\", LABEL_fld), (\"none\", None)]\n",
    "\n",
    "# test\n",
    "test_datafields = [(\"id\", None), (txt_col, TEXT_fld)]\n",
    "\n",
    "# define test dataset and iterator\n",
    "test_ds = data.TabularDataset(f'{PATH}/test_ds.csv', format='csv', skip_header=True, fields=test_datafields)\n",
    "test_iter = data.Iterator(test_ds, batch_size=batch_sizes[2], device=0, train=False, \n",
    "                          shuffle=False, sort=False, sort_within_batch=False, repeat=False)\n",
    "test_dl = BatchWrapper(test_iter, txt_col, None)\n",
    "\n",
    "# define FULL train dataset for building vocab\n",
    "full_train_ds = data.TabularDataset(f'{PATH}/full_train_ds.csv', \n",
    "                                    format='csv', skip_header=True, fields=train_datafields)\n",
    "\n",
    "TEXT_fld.build_vocab(full_train_ds, min_freq=min_freq, max_size=max_features, vectors=pretrained_vectors)\n",
    "\n",
    "# cv\n",
    "for i in range(n_folds):\n",
    "    print('-' * 10)\n",
    "    print(f'Fold {i} ....')\n",
    "    \n",
    "    # train/validation datsets\n",
    "    train_ds, valid_ds = data.TabularDataset.splits(PATH, \n",
    "                                                    train=f'train_ds_{i}_of_{n_folds}.csv', \n",
    "                                                    validation=f'valid_ds_{i}_of_{n_folds}.csv',\n",
    "                                                    format='csv', skip_header=True, fields=train_datafields)\n",
    "\n",
    "    # train/validation iterators/dataloaders\n",
    "    train_iter, val_iter = data.BucketIterator.splits(\n",
    "        (train_ds, valid_ds), # we pass in the datasets we want the iterator to draw data from\n",
    "        batch_sizes=(batch_sizes[0], batch_sizes[1]),\n",
    "        device=0, # if you want to use the GPU, specify the GPU number here\n",
    "        sort_key=lambda x: len(x.comment_text_cleaned), # the BucketIterator needs to be told what function it should use to group the data.\n",
    "        sort_within_batch=False,\n",
    "        repeat=False) # we pass repeat=False because we want to wrap this Iterator layer.\n",
    "        \n",
    "    train_dl = BatchWrapper(train_iter, txt_col, label_cols)\n",
    "    valid_dl = BatchWrapper(val_iter, txt_col, label_cols)\n",
    "        \n",
    "    md = ModelData(PATH, trn_dl=train_dl, val_dl=valid_dl, test_dl=test_dl)\n",
    "    \n",
    "    model = SimpleLstm(vocab_sz, emb_sz, n_rnn_hidden, n_rnn_layers, True, out_sz, bsz=batch_sizes[0],\n",
    "                             linears=linears, linear_drops=linear_drops, use_bn=use_bn)\n",
    "    \n",
    "    model.cuda()\n",
    "    \n",
    "    lo = LayerOptimizer(optim.Adam, model, 1e-2, 1e-5)\n",
    "    on_end = lambda sched, cycle: save_model(model, f'{PATH}/models/lstm_fit_1_cv{i}_cyc_{cycle}')\n",
    "    cb = [CosAnneal(lo, len(md.trn_dl), cycle_mult=2)] #, on_cycle_end=on_end)]\n",
    "    fit(model, md, 2**4-1, lo.opt, F.binary_cross_entropy, callbacks=cb)\n",
    "        \n",
    "    on_end = lambda sched, cycle: save_model(model, f'{PATH}/models/lstm_fit_2_cv{i}_cyc_{cycle}')\n",
    "    lo = LayerOptimizer(optim.Adam, model, 1e-3, 1e-5)\n",
    "    cb = [CosAnneal(lo, (len(md.trn_dl) * 6))] #, on_cycle_end=on_end)]\n",
    "    fit(model, md, 6, lo.opt, F.binary_cross_entropy, callbacks=cb)\n",
    "        \n",
    "    preds = predict(model, test_dl)\n",
    "        \n",
    "    subm_df = pd.read_csv(\"data/test.csv\")\n",
    "    for lbl_idx, col in enumerate([\"toxic\", \"severe_toxic\", \"obscene\", \"threat\", \"insult\", \"identity_hate\"]):\n",
    "        subm_df[col] = preds[:, lbl_idx]\n",
    "        \n",
    "    # if you want to write the submission file to disk, uncomment and run the below code\n",
    "    subm_df.drop(['comment_text'], axis=1).to_csv(f'{PATH}/submissions/lstm_subm_20180317_cv_{i}.csv', index=False)\n",
    "\n"
   ]
  },
  {
   "cell_type": "code",
   "execution_count": null,
   "metadata": {},
   "outputs": [],
   "source": []
  },
  {
   "cell_type": "code",
   "execution_count": 125,
   "metadata": {},
   "outputs": [
    {
     "data": {
      "text/plain": [
       "1684804"
      ]
     },
     "metadata": {},
     "output_type": "display_data"
    },
    {
     "data": {
      "text/html": [
       "<div>\n",
       "<style scoped>\n",
       "    .dataframe tbody tr th:only-of-type {\n",
       "        vertical-align: middle;\n",
       "    }\n",
       "\n",
       "    .dataframe tbody tr th {\n",
       "        vertical-align: top;\n",
       "    }\n",
       "\n",
       "    .dataframe thead th {\n",
       "        text-align: right;\n",
       "    }\n",
       "</style>\n",
       "<table border=\"1\" class=\"dataframe\">\n",
       "  <thead>\n",
       "    <tr style=\"text-align: right;\">\n",
       "      <th></th>\n",
       "      <th>id</th>\n",
       "      <th>toxic</th>\n",
       "      <th>severe_toxic</th>\n",
       "      <th>obscene</th>\n",
       "      <th>threat</th>\n",
       "      <th>insult</th>\n",
       "      <th>identity_hate</th>\n",
       "    </tr>\n",
       "  </thead>\n",
       "  <tbody>\n",
       "    <tr>\n",
       "      <th>0</th>\n",
       "      <td>00001cee341fdb12</td>\n",
       "      <td>0.998808</td>\n",
       "      <td>0.538410</td>\n",
       "      <td>0.986663</td>\n",
       "      <td>0.125191</td>\n",
       "      <td>0.959094</td>\n",
       "      <td>0.386088</td>\n",
       "    </tr>\n",
       "    <tr>\n",
       "      <th>1</th>\n",
       "      <td>0000247867823ef7</td>\n",
       "      <td>0.001600</td>\n",
       "      <td>0.000077</td>\n",
       "      <td>0.000564</td>\n",
       "      <td>0.000135</td>\n",
       "      <td>0.000491</td>\n",
       "      <td>0.000188</td>\n",
       "    </tr>\n",
       "  </tbody>\n",
       "</table>\n",
       "</div>"
      ],
      "text/plain": [
       "                 id     toxic  severe_toxic   obscene    threat    insult  \\\n",
       "0  00001cee341fdb12  0.998808  0.538410      0.986663  0.125191  0.959094   \n",
       "1  0000247867823ef7  0.001600  0.000077      0.000564  0.000135  0.000491   \n",
       "\n",
       "   identity_hate  \n",
       "0  0.386088       \n",
       "1  0.000188       "
      ]
     },
     "metadata": {},
     "output_type": "display_data"
    }
   ],
   "source": [
    "cv_dfs = []\n",
    "for i in range(n_folds):\n",
    "    df = pd.read_csv(f'{PATH}/submissions/lstm_subm_20180317_cv_{i}.csv')\n",
    "    cv_dfs.append(df)\n",
    "    \n",
    "cv_dfs.append(pd.read_csv(f'{PATH}/submissions/lstm_subm_20180317.csv'))\n",
    "    \n",
    "final_cv_df = pd.concat([ df for df in cv_dfs ])\n",
    "\n",
    "display(len(final_cv_df))\n",
    "display(final_cv_df.head(2))"
   ]
  },
  {
   "cell_type": "code",
   "execution_count": 126,
   "metadata": {},
   "outputs": [
    {
     "data": {
      "text/html": [
       "<div>\n",
       "<style scoped>\n",
       "    .dataframe tbody tr th:only-of-type {\n",
       "        vertical-align: middle;\n",
       "    }\n",
       "\n",
       "    .dataframe tbody tr th {\n",
       "        vertical-align: top;\n",
       "    }\n",
       "\n",
       "    .dataframe thead th {\n",
       "        text-align: right;\n",
       "    }\n",
       "</style>\n",
       "<table border=\"1\" class=\"dataframe\">\n",
       "  <thead>\n",
       "    <tr style=\"text-align: right;\">\n",
       "      <th></th>\n",
       "      <th>id</th>\n",
       "      <th>toxic</th>\n",
       "      <th>severe_toxic</th>\n",
       "      <th>obscene</th>\n",
       "      <th>threat</th>\n",
       "      <th>insult</th>\n",
       "      <th>identity_hate</th>\n",
       "    </tr>\n",
       "  </thead>\n",
       "  <tbody>\n",
       "    <tr>\n",
       "      <th>0</th>\n",
       "      <td>00001cee341fdb12</td>\n",
       "      <td>0.996908</td>\n",
       "      <td>0.410974</td>\n",
       "      <td>0.975145</td>\n",
       "      <td>0.092718</td>\n",
       "      <td>0.940464</td>\n",
       "      <td>0.253616</td>\n",
       "    </tr>\n",
       "    <tr>\n",
       "      <th>1</th>\n",
       "      <td>0000247867823ef7</td>\n",
       "      <td>0.002657</td>\n",
       "      <td>0.000136</td>\n",
       "      <td>0.001047</td>\n",
       "      <td>0.000120</td>\n",
       "      <td>0.000590</td>\n",
       "      <td>0.000182</td>\n",
       "    </tr>\n",
       "    <tr>\n",
       "      <th>2</th>\n",
       "      <td>00013b17ad220c46</td>\n",
       "      <td>0.035074</td>\n",
       "      <td>0.001136</td>\n",
       "      <td>0.012181</td>\n",
       "      <td>0.000598</td>\n",
       "      <td>0.005512</td>\n",
       "      <td>0.001199</td>\n",
       "    </tr>\n",
       "    <tr>\n",
       "      <th>3</th>\n",
       "      <td>00017563c3f7919a</td>\n",
       "      <td>0.001018</td>\n",
       "      <td>0.000057</td>\n",
       "      <td>0.000456</td>\n",
       "      <td>0.000067</td>\n",
       "      <td>0.000361</td>\n",
       "      <td>0.000068</td>\n",
       "    </tr>\n",
       "    <tr>\n",
       "      <th>4</th>\n",
       "      <td>00017695ad8997eb</td>\n",
       "      <td>0.007170</td>\n",
       "      <td>0.000335</td>\n",
       "      <td>0.002264</td>\n",
       "      <td>0.000550</td>\n",
       "      <td>0.001165</td>\n",
       "      <td>0.000365</td>\n",
       "    </tr>\n",
       "  </tbody>\n",
       "</table>\n",
       "</div>"
      ],
      "text/plain": [
       "                 id     toxic  severe_toxic   obscene    threat    insult  \\\n",
       "0  00001cee341fdb12  0.996908  0.410974      0.975145  0.092718  0.940464   \n",
       "1  0000247867823ef7  0.002657  0.000136      0.001047  0.000120  0.000590   \n",
       "2  00013b17ad220c46  0.035074  0.001136      0.012181  0.000598  0.005512   \n",
       "3  00017563c3f7919a  0.001018  0.000057      0.000456  0.000067  0.000361   \n",
       "4  00017695ad8997eb  0.007170  0.000335      0.002264  0.000550  0.001165   \n",
       "\n",
       "   identity_hate  \n",
       "0  0.253616       \n",
       "1  0.000182       \n",
       "2  0.001199       \n",
       "3  0.000068       \n",
       "4  0.000365       "
      ]
     },
     "execution_count": 126,
     "metadata": {},
     "output_type": "execute_result"
    }
   ],
   "source": [
    "final_cv_df = final_cv_df.groupby(['id']).mean().reset_index()\n",
    "final_cv_df.head()"
   ]
  },
  {
   "cell_type": "code",
   "execution_count": 127,
   "metadata": {},
   "outputs": [],
   "source": [
    "final_cv_df.to_csv(f'{PATH}/submissions/lstm_subm_20180317_cv_final.csv', index=False)"
   ]
  },
  {
   "cell_type": "markdown",
   "metadata": {},
   "source": [
    "Ensemble a bunch of different model predictions into the grand daddy of all submissions"
   ]
  },
  {
   "cell_type": "code",
   "execution_count": 73,
   "metadata": {},
   "outputs": [
    {
     "data": {
      "text/plain": [
       "3063280"
      ]
     },
     "metadata": {},
     "output_type": "display_data"
    },
    {
     "data": {
      "text/html": [
       "<div>\n",
       "<style scoped>\n",
       "    .dataframe tbody tr th:only-of-type {\n",
       "        vertical-align: middle;\n",
       "    }\n",
       "\n",
       "    .dataframe tbody tr th {\n",
       "        vertical-align: top;\n",
       "    }\n",
       "\n",
       "    .dataframe thead th {\n",
       "        text-align: right;\n",
       "    }\n",
       "</style>\n",
       "<table border=\"1\" class=\"dataframe\">\n",
       "  <thead>\n",
       "    <tr style=\"text-align: right;\">\n",
       "      <th></th>\n",
       "      <th>id</th>\n",
       "      <th>toxic</th>\n",
       "      <th>severe_toxic</th>\n",
       "      <th>obscene</th>\n",
       "      <th>threat</th>\n",
       "      <th>insult</th>\n",
       "      <th>identity_hate</th>\n",
       "    </tr>\n",
       "  </thead>\n",
       "  <tbody>\n",
       "    <tr>\n",
       "      <th>0</th>\n",
       "      <td>00001cee341fdb12</td>\n",
       "      <td>0.996635</td>\n",
       "      <td>0.486019</td>\n",
       "      <td>0.980172</td>\n",
       "      <td>0.184098</td>\n",
       "      <td>0.950054</td>\n",
       "      <td>0.295634</td>\n",
       "    </tr>\n",
       "    <tr>\n",
       "      <th>1</th>\n",
       "      <td>0000247867823ef7</td>\n",
       "      <td>0.003302</td>\n",
       "      <td>0.000202</td>\n",
       "      <td>0.001431</td>\n",
       "      <td>0.000136</td>\n",
       "      <td>0.000833</td>\n",
       "      <td>0.000203</td>\n",
       "    </tr>\n",
       "  </tbody>\n",
       "</table>\n",
       "</div>"
      ],
      "text/plain": [
       "                 id     toxic  severe_toxic   obscene    threat    insult  \\\n",
       "0  00001cee341fdb12  0.996635  0.486019      0.980172  0.184098  0.950054   \n",
       "1  0000247867823ef7  0.003302  0.000202      0.001431  0.000136  0.000833   \n",
       "\n",
       "   identity_hate  \n",
       "0  0.295634       \n",
       "1  0.000203       "
      ]
     },
     "metadata": {},
     "output_type": "display_data"
    }
   ],
   "source": [
    "cv_dfs = []\n",
    "for i in range(n_folds):\n",
    "    df = pd.read_csv(f'{PATH}/submissions/lstm_subm_20180315_cv_{i}.csv')\n",
    "    df2 = pd.read_csv(f'{PATH}/submissions/subm_20180315_cv_{i}.csv')\n",
    "    cv_dfs.append(df)\n",
    "    cv_dfs.append(df2)\n",
    "    \n",
    "final_cv_df = pd.concat([ df for df in cv_dfs ])\n",
    "\n",
    "display(len(final_cv_df))\n",
    "display(final_cv_df.head(2))"
   ]
  },
  {
   "cell_type": "code",
   "execution_count": 74,
   "metadata": {},
   "outputs": [
    {
     "data": {
      "text/html": [
       "<div>\n",
       "<style scoped>\n",
       "    .dataframe tbody tr th:only-of-type {\n",
       "        vertical-align: middle;\n",
       "    }\n",
       "\n",
       "    .dataframe tbody tr th {\n",
       "        vertical-align: top;\n",
       "    }\n",
       "\n",
       "    .dataframe thead th {\n",
       "        text-align: right;\n",
       "    }\n",
       "</style>\n",
       "<table border=\"1\" class=\"dataframe\">\n",
       "  <thead>\n",
       "    <tr style=\"text-align: right;\">\n",
       "      <th></th>\n",
       "      <th>id</th>\n",
       "      <th>toxic</th>\n",
       "      <th>severe_toxic</th>\n",
       "      <th>obscene</th>\n",
       "      <th>threat</th>\n",
       "      <th>insult</th>\n",
       "      <th>identity_hate</th>\n",
       "    </tr>\n",
       "  </thead>\n",
       "  <tbody>\n",
       "    <tr>\n",
       "      <th>0</th>\n",
       "      <td>00001cee341fdb12</td>\n",
       "      <td>0.948321</td>\n",
       "      <td>0.389054</td>\n",
       "      <td>0.923985</td>\n",
       "      <td>0.091080</td>\n",
       "      <td>0.882614</td>\n",
       "      <td>0.260359</td>\n",
       "    </tr>\n",
       "    <tr>\n",
       "      <th>1</th>\n",
       "      <td>0000247867823ef7</td>\n",
       "      <td>0.004504</td>\n",
       "      <td>0.000229</td>\n",
       "      <td>0.002165</td>\n",
       "      <td>0.000083</td>\n",
       "      <td>0.001435</td>\n",
       "      <td>0.000301</td>\n",
       "    </tr>\n",
       "    <tr>\n",
       "      <th>2</th>\n",
       "      <td>00013b17ad220c46</td>\n",
       "      <td>0.030084</td>\n",
       "      <td>0.002457</td>\n",
       "      <td>0.015929</td>\n",
       "      <td>0.000577</td>\n",
       "      <td>0.009565</td>\n",
       "      <td>0.001025</td>\n",
       "    </tr>\n",
       "    <tr>\n",
       "      <th>3</th>\n",
       "      <td>00017563c3f7919a</td>\n",
       "      <td>0.009609</td>\n",
       "      <td>0.000786</td>\n",
       "      <td>0.005316</td>\n",
       "      <td>0.000637</td>\n",
       "      <td>0.005454</td>\n",
       "      <td>0.001003</td>\n",
       "    </tr>\n",
       "    <tr>\n",
       "      <th>4</th>\n",
       "      <td>00017695ad8997eb</td>\n",
       "      <td>0.011514</td>\n",
       "      <td>0.000454</td>\n",
       "      <td>0.003311</td>\n",
       "      <td>0.000428</td>\n",
       "      <td>0.002181</td>\n",
       "      <td>0.000706</td>\n",
       "    </tr>\n",
       "  </tbody>\n",
       "</table>\n",
       "</div>"
      ],
      "text/plain": [
       "                 id     toxic  severe_toxic   obscene    threat    insult  \\\n",
       "0  00001cee341fdb12  0.948321  0.389054      0.923985  0.091080  0.882614   \n",
       "1  0000247867823ef7  0.004504  0.000229      0.002165  0.000083  0.001435   \n",
       "2  00013b17ad220c46  0.030084  0.002457      0.015929  0.000577  0.009565   \n",
       "3  00017563c3f7919a  0.009609  0.000786      0.005316  0.000637  0.005454   \n",
       "4  00017695ad8997eb  0.011514  0.000454      0.003311  0.000428  0.002181   \n",
       "\n",
       "   identity_hate  \n",
       "0  0.260359       \n",
       "1  0.000301       \n",
       "2  0.001025       \n",
       "3  0.001003       \n",
       "4  0.000706       "
      ]
     },
     "execution_count": 74,
     "metadata": {},
     "output_type": "execute_result"
    }
   ],
   "source": [
    "final_cv_df = final_cv_df.groupby(['id']).mean().reset_index()\n",
    "final_cv_df.head()"
   ]
  },
  {
   "cell_type": "code",
   "execution_count": 75,
   "metadata": {},
   "outputs": [],
   "source": [
    "final_cv_df.to_csv(f'{PATH}/submissions/subm_gru+lstm_final.csv', index=False)"
   ]
  },
  {
   "cell_type": "code",
   "execution_count": null,
   "metadata": {},
   "outputs": [],
   "source": []
  }
 ],
 "metadata": {
  "kernelspec": {
   "display_name": "Python 3",
   "language": "python",
   "name": "python3"
  },
  "language_info": {
   "codemirror_mode": {
    "name": "ipython",
    "version": 3
   },
   "file_extension": ".py",
   "mimetype": "text/x-python",
   "name": "python",
   "nbconvert_exporter": "python",
   "pygments_lexer": "ipython3",
   "version": "3.6.4"
  }
 },
 "nbformat": 4,
 "nbformat_minor": 2
}
