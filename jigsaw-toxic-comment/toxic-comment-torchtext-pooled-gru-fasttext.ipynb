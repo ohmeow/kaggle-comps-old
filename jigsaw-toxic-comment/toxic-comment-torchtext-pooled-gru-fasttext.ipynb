{
 "cells": [
  {
   "cell_type": "code",
   "execution_count": 1,
   "metadata": {},
   "outputs": [],
   "source": [
    "%reload_ext autoreload\n",
    "%autoreload 2\n",
    "%matplotlib inline"
   ]
  },
  {
   "cell_type": "code",
   "execution_count": 2,
   "metadata": {},
   "outputs": [],
   "source": [
    "import pdb\n",
    "import os\n",
    "\n",
    "import numpy as np\n",
    "import pandas as pd \n",
    "import matplotlib.pyplot as plt\n",
    "import seaborn as sns\n",
    "\n",
    "from pandas_summary import DataFrameSummary\n",
    "\n",
    "import torch\n",
    "import torch.nn.functional as F\n",
    "import torchtext\n",
    "from torchtext import vocab, data\n",
    "from torchtext.datasets import language_modeling\n",
    "\n",
    "from sklearn.model_selection import train_test_split, StratifiedShuffleSplit\n",
    "from sklearn.linear_model import LinearRegression\n",
    "from sklearn.feature_extraction.text import CountVectorizer, TfidfVectorizer\n",
    "\n",
    "import spacy\n",
    "from spacy.lang.en.stop_words import STOP_WORDS as spacy_STOPWORDS\n",
    "spacy_en = spacy.load('en')\n",
    "\n",
    "from wordcloud import WordCloud, STOPWORDS\n",
    "\n",
    "# pandas and plotting config\n",
    "pd.set_option('display.max_rows', 500)\n",
    "pd.set_option('display.max_columns', 500)\n",
    "pd.set_option('display.max_colwidth', -1)"
   ]
  },
  {
   "cell_type": "code",
   "execution_count": 3,
   "metadata": {},
   "outputs": [],
   "source": [
    "PATH = 'data'\n",
    "\n",
    "os.makedirs(f'{PATH}/models', exist_ok=True)\n",
    "os.makedirs(f'{PATH}/tmp', exist_ok=True)\n",
    "os.makedirs(f'{PATH}/submissions', exist_ok=True)"
   ]
  },
  {
   "cell_type": "code",
   "execution_count": 4,
   "metadata": {},
   "outputs": [],
   "source": [
    "raw_train_df = pd.read_csv(f'{PATH}/train.csv')\n",
    "test_df = pd.read_csv(f'{PATH}/test.csv')\n",
    "sample_subm_df = pd.read_csv(f'{PATH}/sample_submission.csv')\n",
    "\n",
    "label_cols = ['toxic', 'severe_toxic', 'obscene', 'threat', 'insult', 'identity_hate']\n",
    "raw_train_df['none'] = 1 - raw_train_df[label_cols].max(axis=1)"
   ]
  },
  {
   "cell_type": "code",
   "execution_count": 106,
   "metadata": {},
   "outputs": [],
   "source": [
    "pretrained_vectors = 'fasttext.en.300d'\n",
    "max_features = 30000\n",
    "min_freq = 10\n",
    "max_len = 100\n",
    "emb_sz = 300"
   ]
  },
  {
   "cell_type": "code",
   "execution_count": 107,
   "metadata": {},
   "outputs": [],
   "source": [
    "tokenize = lambda x: x.split()\n",
    "\n",
    "TEXT_fld = data.Field(sequential=True, tokenize=tokenize, lower=True, fix_length=max_len)\n",
    "\n",
    "LABEL_fld = data.Field(sequential=False, use_vocab=False, tensor_type=torch.cuda.ByteTensor)"
   ]
  },
  {
   "cell_type": "code",
   "execution_count": 108,
   "metadata": {},
   "outputs": [],
   "source": [
    "# torchtext cannot read the .csv files correctly if there are newline characters, so replace with \" \"\n",
    "raw_train_df.comment_text = raw_train_df.comment_text.str.replace(\"\\n\", \" \")\n",
    "test_df.comment_text = test_df.comment_text.str.replace(\"\\n\", \" \")"
   ]
  },
  {
   "cell_type": "code",
   "execution_count": 109,
   "metadata": {},
   "outputs": [
    {
     "name": "stdout",
     "output_type": "stream",
     "text": [
      "151592 7979 15427 798\n"
     ]
    }
   ],
   "source": [
    "# split the training data into a train and validatin dataset\n",
    "trn, val = train_test_split(raw_train_df, test_size=0.05, random_state=42)\n",
    "print(len(trn), len(val), len(trn[trn.none != 1]), len(val[val.none != 1]))\n",
    "\n",
    "# save train, val, and test datasets for torchtext\n",
    "trn.to_csv(f'{PATH}/train_ds.csv', index=None)\n",
    "val.to_csv(f'{PATH}/valid_ds.csv', index=None)\n",
    "test_df.to_csv(f'{PATH}/test_ds.csv', index=None)"
   ]
  },
  {
   "cell_type": "code",
   "execution_count": 110,
   "metadata": {},
   "outputs": [
    {
     "data": {
      "text/html": [
       "<div>\n",
       "<style scoped>\n",
       "    .dataframe tbody tr th:only-of-type {\n",
       "        vertical-align: middle;\n",
       "    }\n",
       "\n",
       "    .dataframe tbody tr th {\n",
       "        vertical-align: top;\n",
       "    }\n",
       "\n",
       "    .dataframe thead th {\n",
       "        text-align: right;\n",
       "    }\n",
       "</style>\n",
       "<table border=\"1\" class=\"dataframe\">\n",
       "  <thead>\n",
       "    <tr style=\"text-align: right;\">\n",
       "      <th></th>\n",
       "      <th>id</th>\n",
       "      <th>comment_text</th>\n",
       "      <th>toxic</th>\n",
       "      <th>severe_toxic</th>\n",
       "      <th>obscene</th>\n",
       "      <th>threat</th>\n",
       "      <th>insult</th>\n",
       "      <th>identity_hate</th>\n",
       "      <th>none</th>\n",
       "    </tr>\n",
       "  </thead>\n",
       "  <tbody>\n",
       "    <tr>\n",
       "      <th>0</th>\n",
       "      <td>6e76a143f0fd817f</td>\n",
       "      <td>\" I don't think that is the official chart. Listed at United World Singles Chart: \"\"The South African sales and airplay chart is merged into one to form the official singles chart which is published weekly\"\". From what I've seen, \"\"Get Together\"\" has yet to enter the record chart.\"</td>\n",
       "      <td>0</td>\n",
       "      <td>0</td>\n",
       "      <td>0</td>\n",
       "      <td>0</td>\n",
       "      <td>0</td>\n",
       "      <td>0</td>\n",
       "      <td>1</td>\n",
       "    </tr>\n",
       "    <tr>\n",
       "      <th>1</th>\n",
       "      <td>f4279ea981109ed7</td>\n",
       "      <td>Mariusz and I both like to vandalize pages. We simply do it out of anger and frustration. I have kids who drive me nuts, and I take it out on Wikipedia. —</td>\n",
       "      <td>0</td>\n",
       "      <td>0</td>\n",
       "      <td>0</td>\n",
       "      <td>0</td>\n",
       "      <td>0</td>\n",
       "      <td>0</td>\n",
       "      <td>1</td>\n",
       "    </tr>\n",
       "  </tbody>\n",
       "</table>\n",
       "</div>"
      ],
      "text/plain": [
       "                 id  \\\n",
       "0  6e76a143f0fd817f   \n",
       "1  f4279ea981109ed7   \n",
       "\n",
       "                                                                                                                                                                                                                                                                                 comment_text  \\\n",
       "0  \" I don't think that is the official chart. Listed at United World Singles Chart: \"\"The South African sales and airplay chart is merged into one to form the official singles chart which is published weekly\"\". From what I've seen, \"\"Get Together\"\" has yet to enter the record chart.\"   \n",
       "1  Mariusz and I both like to vandalize pages. We simply do it out of anger and frustration. I have kids who drive me nuts, and I take it out on Wikipedia. —                                                                                                                                   \n",
       "\n",
       "   toxic  severe_toxic  obscene  threat  insult  identity_hate  none  \n",
       "0  0      0             0        0       0       0              1     \n",
       "1  0      0             0        0       0       0              1     "
      ]
     },
     "metadata": {},
     "output_type": "display_data"
    },
    {
     "data": {
      "text/html": [
       "<div>\n",
       "<style scoped>\n",
       "    .dataframe tbody tr th:only-of-type {\n",
       "        vertical-align: middle;\n",
       "    }\n",
       "\n",
       "    .dataframe tbody tr th {\n",
       "        vertical-align: top;\n",
       "    }\n",
       "\n",
       "    .dataframe thead th {\n",
       "        text-align: right;\n",
       "    }\n",
       "</style>\n",
       "<table border=\"1\" class=\"dataframe\">\n",
       "  <thead>\n",
       "    <tr style=\"text-align: right;\">\n",
       "      <th></th>\n",
       "      <th>id</th>\n",
       "      <th>comment_text</th>\n",
       "      <th>toxic</th>\n",
       "      <th>severe_toxic</th>\n",
       "      <th>obscene</th>\n",
       "      <th>threat</th>\n",
       "      <th>insult</th>\n",
       "      <th>identity_hate</th>\n",
       "      <th>none</th>\n",
       "    </tr>\n",
       "  </thead>\n",
       "  <tbody>\n",
       "    <tr>\n",
       "      <th>0</th>\n",
       "      <td>7ca72b5b9c688e9e</td>\n",
       "      <td>Geez, are you forgetful!  We've already discussed why Marx  was  not an anarchist, i.e. he wanted to use a State to mold his 'socialist man.'  Ergo, he is a statist - the opposite of an  anarchist.  I know a guy who says that, when he gets old and his teeth fall out, he'll quit eating meat.  Would you call him a vegetarian?</td>\n",
       "      <td>0</td>\n",
       "      <td>0</td>\n",
       "      <td>0</td>\n",
       "      <td>0</td>\n",
       "      <td>0</td>\n",
       "      <td>0</td>\n",
       "      <td>1</td>\n",
       "    </tr>\n",
       "    <tr>\n",
       "      <th>1</th>\n",
       "      <td>c03f72fd8f8bf54f</td>\n",
       "      <td>Carioca RFA   Thanks for your support on my request for adminship.  The final outcome was (31/4/1), so I am now an administrator. If you have any comments or concerns on my actions as an administrator, please let me know. Thank you!</td>\n",
       "      <td>0</td>\n",
       "      <td>0</td>\n",
       "      <td>0</td>\n",
       "      <td>0</td>\n",
       "      <td>0</td>\n",
       "      <td>0</td>\n",
       "      <td>1</td>\n",
       "    </tr>\n",
       "  </tbody>\n",
       "</table>\n",
       "</div>"
      ],
      "text/plain": [
       "                 id  \\\n",
       "0  7ca72b5b9c688e9e   \n",
       "1  c03f72fd8f8bf54f   \n",
       "\n",
       "                                                                                                                                                                                                                                                                                                                            comment_text  \\\n",
       "0  Geez, are you forgetful!  We've already discussed why Marx  was  not an anarchist, i.e. he wanted to use a State to mold his 'socialist man.'  Ergo, he is a statist - the opposite of an  anarchist.  I know a guy who says that, when he gets old and his teeth fall out, he'll quit eating meat.  Would you call him a vegetarian?   \n",
       "1  Carioca RFA   Thanks for your support on my request for adminship.  The final outcome was (31/4/1), so I am now an administrator. If you have any comments or concerns on my actions as an administrator, please let me know. Thank you!                                                                                                \n",
       "\n",
       "   toxic  severe_toxic  obscene  threat  insult  identity_hate  none  \n",
       "0  0      0             0        0       0       0              1     \n",
       "1  0      0             0        0       0       0              1     "
      ]
     },
     "metadata": {},
     "output_type": "display_data"
    },
    {
     "data": {
      "text/html": [
       "<div>\n",
       "<style scoped>\n",
       "    .dataframe tbody tr th:only-of-type {\n",
       "        vertical-align: middle;\n",
       "    }\n",
       "\n",
       "    .dataframe tbody tr th {\n",
       "        vertical-align: top;\n",
       "    }\n",
       "\n",
       "    .dataframe thead th {\n",
       "        text-align: right;\n",
       "    }\n",
       "</style>\n",
       "<table border=\"1\" class=\"dataframe\">\n",
       "  <thead>\n",
       "    <tr style=\"text-align: right;\">\n",
       "      <th></th>\n",
       "      <th>id</th>\n",
       "      <th>comment_text</th>\n",
       "    </tr>\n",
       "  </thead>\n",
       "  <tbody>\n",
       "    <tr>\n",
       "      <th>0</th>\n",
       "      <td>00001cee341fdb12</td>\n",
       "      <td>Yo bitch Ja Rule is more succesful then you'll ever be whats up with you and hating you sad mofuckas...i should bitch slap ur pethedic white faces and get you to kiss my ass you guys sicken me. Ja rule is about pride in da music man. dont diss that shit on him. and nothin is wrong bein like tupac he was a brother too...fuckin white boys get things right next time.,</td>\n",
       "    </tr>\n",
       "    <tr>\n",
       "      <th>1</th>\n",
       "      <td>0000247867823ef7</td>\n",
       "      <td>== From RfC ==    The title is fine as it is, IMO.</td>\n",
       "    </tr>\n",
       "  </tbody>\n",
       "</table>\n",
       "</div>"
      ],
      "text/plain": [
       "                 id  \\\n",
       "0  00001cee341fdb12   \n",
       "1  0000247867823ef7   \n",
       "\n",
       "                                                                                                                                                                                                                                                                                                                                                                      comment_text  \n",
       "0  Yo bitch Ja Rule is more succesful then you'll ever be whats up with you and hating you sad mofuckas...i should bitch slap ur pethedic white faces and get you to kiss my ass you guys sicken me. Ja rule is about pride in da music man. dont diss that shit on him. and nothin is wrong bein like tupac he was a brother too...fuckin white boys get things right next time.,  \n",
       "1  == From RfC ==    The title is fine as it is, IMO.                                                                                                                                                                                                                                                                                                                               "
      ]
     },
     "metadata": {},
     "output_type": "display_data"
    }
   ],
   "source": [
    "display(pd.read_csv(\"data/train_ds.csv\").head(2))\n",
    "display(pd.read_csv(\"data/valid_ds.csv\").head(2))\n",
    "display(pd.read_csv(\"data/test_ds.csv\").head(2))"
   ]
  },
  {
   "cell_type": "markdown",
   "metadata": {},
   "source": [
    "There are various built-in Datasets in torchtext that handle common use cases. **For csv/tsv files, the TabularDataset class** is convenient. Here’s how we would read data from a csv file using the TabularDataset:"
   ]
  },
  {
   "cell_type": "code",
   "execution_count": 111,
   "metadata": {},
   "outputs": [
    {
     "name": "stdout",
     "output_type": "stream",
     "text": [
      "CPU times: user 14.4 s, sys: 736 ms, total: 15.1 s\n",
      "Wall time: 15 s\n"
     ]
    }
   ],
   "source": [
    "%%time\n",
    "\n",
    "# train/validation\n",
    "train_datafields = [(\"id\", None), # we won't be needing the id, so we pass in None as the field\n",
    "                    (\"comment_text\", TEXT_fld), (\"toxic\", LABEL_fld),\n",
    "                    (\"severe_toxic\", LABEL_fld), (\"obscene\", LABEL_fld),\n",
    "                    (\"threat\", LABEL_fld), (\"insult\", LABEL_fld),\n",
    "                    (\"identity_hate\", LABEL_fld), (\"none\", None)]\n",
    "\n",
    "train_ds, valid_ds = data.TabularDataset.splits(PATH, train='train_ds.csv', validation='valid_ds.csv',\n",
    "                                          format='csv', skip_header=True, fields=train_datafields)\n",
    "\n",
    "# test\n",
    "test_datafields = [(\"id\", None), (\"comment_text\", TEXT_fld)]\n",
    "\n",
    "test_ds = data.TabularDataset(f'{PATH}/test_ds.csv', format='csv', skip_header=True, fields=test_datafields)"
   ]
  },
  {
   "cell_type": "code",
   "execution_count": 112,
   "metadata": {},
   "outputs": [
    {
     "data": {
      "text/plain": [
       "<torchtext.data.example.Example at 0x7f1344296828>"
      ]
     },
     "execution_count": 112,
     "metadata": {},
     "output_type": "execute_result"
    }
   ],
   "source": [
    "train_ds[0]"
   ]
  },
  {
   "cell_type": "code",
   "execution_count": 113,
   "metadata": {},
   "outputs": [
    {
     "data": {
      "text/plain": [
       "dict_keys(['comment_text', 'toxic', 'severe_toxic', 'obscene', 'threat', 'insult', 'identity_hate'])"
      ]
     },
     "execution_count": 113,
     "metadata": {},
     "output_type": "execute_result"
    }
   ],
   "source": [
    "train_ds[0].__dict__.keys()"
   ]
  },
  {
   "cell_type": "code",
   "execution_count": 114,
   "metadata": {},
   "outputs": [
    {
     "data": {
      "text/plain": [
       "['mariusz', 'and', 'i', 'both', 'like']"
      ]
     },
     "execution_count": 114,
     "metadata": {},
     "output_type": "execute_result"
    }
   ],
   "source": [
    "train_ds[1].comment_text[:5]"
   ]
  },
  {
   "cell_type": "code",
   "execution_count": 115,
   "metadata": {},
   "outputs": [],
   "source": [
    "TEXT_fld.build_vocab(train_ds, min_freq=min_freq, max_size=max_features, vectors=pretrained_vectors)"
   ]
  },
  {
   "cell_type": "code",
   "execution_count": 116,
   "metadata": {},
   "outputs": [
    {
     "data": {
      "text/plain": [
       "[('the', 466417),\n",
       " ('to', 279718),\n",
       " ('of', 211982),\n",
       " ('and', 207824),\n",
       " ('a', 201672),\n",
       " ('i', 186835),\n",
       " ('you', 178267),\n",
       " ('is', 162474),\n",
       " ('that', 139210),\n",
       " ('in', 133885)]"
      ]
     },
     "execution_count": 116,
     "metadata": {},
     "output_type": "execute_result"
    }
   ],
   "source": [
    "# The vocab.freqs is a collections.Counter object, so we can take a look at the most frequent words.\n",
    "TEXT_fld.vocab.freqs.most_common(10)"
   ]
  },
  {
   "cell_type": "code",
   "execution_count": 117,
   "metadata": {},
   "outputs": [],
   "source": [
    "train_iter, val_iter = data.BucketIterator.splits(\n",
    "    (train_ds, valid_ds), # we pass in the datasets we want the iterator to draw data from\n",
    "    batch_sizes=(64, 64),\n",
    "    device=0, # if you want to use the GPU, specify the GPU number here\n",
    "    sort_key=lambda x: len(x.comment_text), # the BucketIterator needs to be told what function it should use to group the data.\n",
    "    sort_within_batch=False,\n",
    "    repeat=False # we pass repeat=False because we want to wrap this Iterator layer.\n",
    ")"
   ]
  },
  {
   "cell_type": "code",
   "execution_count": 118,
   "metadata": {},
   "outputs": [
    {
     "data": {
      "text/plain": [
       "<torchtext.data.batch.Batch at 0x7f12fa489898>"
      ]
     },
     "execution_count": 118,
     "metadata": {},
     "output_type": "execute_result"
    }
   ],
   "source": [
    "batch = next(train_iter.__iter__()); batch"
   ]
  },
  {
   "cell_type": "code",
   "execution_count": 119,
   "metadata": {},
   "outputs": [
    {
     "data": {
      "text/plain": [
       "dict_keys(['batch_size', 'dataset', 'train', 'comment_text', 'toxic', 'severe_toxic', 'obscene', 'threat', 'insult', 'identity_hate'])"
      ]
     },
     "execution_count": 119,
     "metadata": {},
     "output_type": "execute_result"
    }
   ],
   "source": [
    "batch.__dict__.keys()"
   ]
  },
  {
   "cell_type": "markdown",
   "metadata": {},
   "source": [
    "For the test set, we don't want the data to be shuffled. This is why we'll be using a standard Iterator."
   ]
  },
  {
   "cell_type": "code",
   "execution_count": 120,
   "metadata": {},
   "outputs": [],
   "source": [
    "test_iter = data.Iterator(test_ds, batch_size=64, device=0, sort=False, sort_within_batch=False, repeat=False)"
   ]
  },
  {
   "cell_type": "code",
   "execution_count": 121,
   "metadata": {},
   "outputs": [],
   "source": [
    "class BatchWrapper:\n",
    "    def __init__(self, dl, x_var, y_vars):\n",
    "        self.dl, self.x_var, self.y_vars = dl, x_var, y_vars # we pass in the list of attributes for x and y\n",
    "    \n",
    "    def __iter__(self):\n",
    "        for batch in self.dl:\n",
    "            x = getattr(batch, self.x_var) # we assume only one input in this wrapper\n",
    "            \n",
    "            if self.y_vars is not None: # we will concatenate y into a single tensor\n",
    "                y = torch.cat([ getattr(batch, feat).unsqueeze(1) for feat in self.y_vars ], dim=1).float()\n",
    "            else:\n",
    "                y = torch.zeros((1))\n",
    "\n",
    "            yield (x, y)\n",
    "    \n",
    "    def __len__(self):\n",
    "        return len(self.dl)"
   ]
  },
  {
   "cell_type": "code",
   "execution_count": 122,
   "metadata": {},
   "outputs": [],
   "source": [
    "train_dl = BatchWrapper(train_iter, \"comment_text\", label_cols)\n",
    "valid_dl = BatchWrapper(val_iter, \"comment_text\", label_cols)\n",
    "test_dl = BatchWrapper(test_iter, \"comment_text\", None)"
   ]
  },
  {
   "cell_type": "markdown",
   "metadata": {},
   "source": [
    "## 6. Training the model\n",
    "\n",
    "Define a simple LSTM"
   ]
  },
  {
   "cell_type": "code",
   "execution_count": 123,
   "metadata": {},
   "outputs": [],
   "source": [
    "import torch.nn as nn\n",
    "import torch.nn.functional as F\n",
    "import torch.optim as optim\n",
    "from torch.autograd import Variable"
   ]
  },
  {
   "cell_type": "code",
   "execution_count": 124,
   "metadata": {},
   "outputs": [],
   "source": [
    "class SimpleBiLSTMBaseline(nn.Module):\n",
    "    def __init__(self, vocab_sz, emb_sz=300, n_hidden=256, out_sz=1,\n",
    "                 spatial_dropout=0.2, recurrent_dropout=0.1):\n",
    "        \n",
    "        super().__init__() # don't forget to call this!\n",
    "        \n",
    "        self.emb = nn.Embedding(vocab_sz, emb_sz)\n",
    "        self.emb.data = train_ds.fields['comment_text'].vocab.vectors # to use the pretrained vectors\n",
    "        self.emb_drop = nn.Dropout(spatial_dropout)\n",
    "        \n",
    "        self.encoder = nn.LSTM(emb_sz, n_hidden, bidirectional=True, num_layers=1, dropout=recurrent_dropout)\n",
    "        \n",
    "        # x4 if bidrectional; els x2\n",
    "        self.outp = nn.Linear(n_hidden * 4, out_sz)\n",
    "    \n",
    "    def forward(self, seq):\n",
    "        x = self.emb_drop(self.emb(seq))\n",
    "        \n",
    "        # output = seq_len, batch, hidden_size * num_directions \n",
    "        # h = num_layers * num_directions, batch, hidden_size\n",
    "        output, h = self.encoder(x)        \n",
    "        sl, bs, _ = output.size()\n",
    "  \n",
    "        avg_pool = F.adaptive_avg_pool1d(output.permute(1,2,0), (1,)).view(bs,-1)   \n",
    "        max_pool = F.adaptive_max_pool1d(output.permute(1,2,0), (1,)).view(bs,-1) \n",
    "        \n",
    "        conc = torch.cat([avg_pool, max_pool], dim=1)\n",
    "        # pdb.set_trace()\n",
    "        outp = F.sigmoid(self.outp(conc))\n",
    "        return outp"
   ]
  },
  {
   "cell_type": "code",
   "execution_count": 125,
   "metadata": {},
   "outputs": [
    {
     "data": {
      "text/plain": [
       "SimpleBiLSTMBaseline(\n",
       "  (emb): Embedding(30002, 300)\n",
       "  (emb_drop): Dropout(p=0.2)\n",
       "  (encoder): LSTM(300, 80, dropout=0.1, bidirectional=True)\n",
       "  (outp): Linear(in_features=320, out_features=6, bias=True)\n",
       ")"
      ]
     },
     "execution_count": 125,
     "metadata": {},
     "output_type": "execute_result"
    }
   ],
   "source": [
    "vocab_sz = len(TEXT_fld.vocab)\n",
    "nh = 80\n",
    "nl = 1 #3\n",
    "\n",
    "model = SimpleBiLSTMBaseline(vocab_sz, emb_sz, n_hidden=nh, out_sz=6); model"
   ]
  },
  {
   "cell_type": "code",
   "execution_count": 126,
   "metadata": {},
   "outputs": [
    {
     "data": {
      "text/plain": [
       "SimpleBiLSTMBaseline(\n",
       "  (emb): Embedding(30002, 300)\n",
       "  (emb_drop): Dropout(p=0.2)\n",
       "  (encoder): LSTM(300, 80, dropout=0.1, bidirectional=True)\n",
       "  (outp): Linear(in_features=320, out_features=6, bias=True)\n",
       ")"
      ]
     },
     "execution_count": 126,
     "metadata": {},
     "output_type": "execute_result"
    }
   ],
   "source": [
    "# if you're using a GPU, remember to call model.cuda() to move your model to the GPU.\n",
    "model.cuda()"
   ]
  },
  {
   "cell_type": "markdown",
   "metadata": {},
   "source": [
    "### Training Loop"
   ]
  },
  {
   "cell_type": "code",
   "execution_count": 127,
   "metadata": {},
   "outputs": [],
   "source": [
    "import tqdm"
   ]
  },
  {
   "cell_type": "code",
   "execution_count": 128,
   "metadata": {},
   "outputs": [],
   "source": [
    "opt = optim.Adam(model.parameters(), lr=1e-3)\n",
    "loss_func = nn.BCELoss()\n",
    "\n",
    "# nn.utils.clip_grad_norm(model.parameters(), 0.3)"
   ]
  },
  {
   "cell_type": "code",
   "execution_count": 129,
   "metadata": {},
   "outputs": [],
   "source": [
    "n_epochs = 4"
   ]
  },
  {
   "cell_type": "code",
   "execution_count": 130,
   "metadata": {},
   "outputs": [
    {
     "name": "stderr",
     "output_type": "stream",
     "text": [
      "\r",
      "  0%|          | 0/2369 [00:00<?, ?it/s]"
     ]
    },
    {
     "name": "stdout",
     "output_type": "stream",
     "text": [
      "Epoch 0/3\n",
      "----------\n"
     ]
    },
    {
     "name": "stderr",
     "output_type": "stream",
     "text": [
      "100%|██████████| 2369/2369 [01:30<00:00, 26.31it/s]/home/ubuntu/anaconda3/envs/fastai/lib/python3.6/site-packages/ipykernel_launcher.py:6: DeprecationWarning: generator 'Iterator.__iter__' raised StopIteration\n",
      "  \n",
      "\n",
      "  0%|          | 0/2369 [00:00<?, ?it/s]"
     ]
    },
    {
     "name": "stdout",
     "output_type": "stream",
     "text": [
      "Epoch: 0, Training Loss: 0.1254, Validation Loss: 0.0912\n",
      "Epoch 1/3\n",
      "----------\n"
     ]
    },
    {
     "name": "stderr",
     "output_type": "stream",
     "text": [
      "100%|██████████| 2369/2369 [01:30<00:00, 26.26it/s]\n",
      "  0%|          | 0/2369 [00:00<?, ?it/s]"
     ]
    },
    {
     "name": "stdout",
     "output_type": "stream",
     "text": [
      "Epoch: 1, Training Loss: 0.0844, Validation Loss: 0.0822\n",
      "Epoch 2/3\n",
      "----------\n"
     ]
    },
    {
     "name": "stderr",
     "output_type": "stream",
     "text": [
      "100%|██████████| 2369/2369 [01:30<00:00, 26.28it/s]\n",
      "  0%|          | 0/2369 [00:00<?, ?it/s]"
     ]
    },
    {
     "name": "stdout",
     "output_type": "stream",
     "text": [
      "Epoch: 2, Training Loss: 0.0736, Validation Loss: 0.0811\n",
      "Epoch 3/3\n",
      "----------\n"
     ]
    },
    {
     "name": "stderr",
     "output_type": "stream",
     "text": [
      "100%|██████████| 2369/2369 [01:29<00:00, 26.37it/s]\n"
     ]
    },
    {
     "name": "stdout",
     "output_type": "stream",
     "text": [
      "Epoch: 3, Training Loss: 0.0659, Validation Loss: 0.0819\n",
      "CPU times: user 4min 43s, sys: 1min 21s, total: 6min 5s\n",
      "Wall time: 6min 5s\n"
     ]
    }
   ],
   "source": [
    "%%time\n",
    "\n",
    "for epoch in range(n_epochs):\n",
    "    print(f'Epoch {epoch}/{n_epochs - 1}')\n",
    "    print('-' * 10)\n",
    "    \n",
    "    running_loss = 0.0\n",
    "    running_corrects = 0\n",
    "    \n",
    "    model.train(True) # turn on training mode\n",
    "    \n",
    "    for x, y in tqdm.tqdm(train_dl): # thanks to our wrapper, we can intuitively iterate over our data!\n",
    "        # zero out gradients\n",
    "        opt.zero_grad()\n",
    "        \n",
    "        # forward\n",
    "        preds = model(x)\n",
    "        loss = loss_func(preds, y)\n",
    "        \n",
    "        # backprop\n",
    "        loss.backward()\n",
    "        opt.step()\n",
    "        \n",
    "        running_loss += loss.data[0] * x.size(0)\n",
    "        \n",
    "    epoch_loss = running_loss / len(train_ds)\n",
    "    \n",
    "    # calculate the validation loss for this epoch\n",
    "    val_loss = 0.0\n",
    "    model.eval() # turn on evaluation mode\n",
    "    \n",
    "    for x, y in valid_dl:\n",
    "        preds = model(x)\n",
    "        loss = loss_func(preds, y)\n",
    "        val_loss += loss.data[0]  * x.size(0)\n",
    "\n",
    "    val_loss /= len(valid_ds)\n",
    "    \n",
    "    print('Epoch: {}, Training Loss: {:.4f}, Validation Loss: {:.4f}'.format(epoch, epoch_loss, val_loss))"
   ]
  },
  {
   "cell_type": "markdown",
   "metadata": {},
   "source": [
    "### Predictions"
   ]
  },
  {
   "cell_type": "code",
   "execution_count": 131,
   "metadata": {},
   "outputs": [
    {
     "name": "stderr",
     "output_type": "stream",
     "text": [
      "100%|█████████▉| 2385/2394 [00:26<00:00, 89.33it/s]/home/ubuntu/anaconda3/envs/fastai/lib/python3.6/site-packages/ipykernel_launcher.py:6: DeprecationWarning: generator 'Iterator.__iter__' raised StopIteration\n",
      "  \n",
      "100%|██████████| 2394/2394 [00:26<00:00, 89.34it/s]\n"
     ]
    }
   ],
   "source": [
    "test_preds = []\n",
    "\n",
    "for x, y in tqdm.tqdm(test_dl):\n",
    "    preds = model(x)\n",
    "    \n",
    "    # if you're data is on the GPU, you need to move the data back to the cpu\n",
    "    preds = preds.data.cpu().numpy()\n",
    "    #preds = preds.data.numpy()\n",
    "\n",
    "    #pdb.set_trace()\n",
    "    test_preds.append(preds)    "
   ]
  },
  {
   "cell_type": "code",
   "execution_count": 132,
   "metadata": {},
   "outputs": [
    {
     "data": {
      "text/plain": [
       "(153164, 6)"
      ]
     },
     "execution_count": 132,
     "metadata": {},
     "output_type": "execute_result"
    }
   ],
   "source": [
    "final_preds = np.concatenate((test_preds[:]), axis=0); final_preds.shape"
   ]
  },
  {
   "cell_type": "markdown",
   "metadata": {},
   "source": [
    "### Prepare submission"
   ]
  },
  {
   "cell_type": "code",
   "execution_count": 133,
   "metadata": {},
   "outputs": [
    {
     "data": {
      "text/html": [
       "<div>\n",
       "<style scoped>\n",
       "    .dataframe tbody tr th:only-of-type {\n",
       "        vertical-align: middle;\n",
       "    }\n",
       "\n",
       "    .dataframe tbody tr th {\n",
       "        vertical-align: top;\n",
       "    }\n",
       "\n",
       "    .dataframe thead th {\n",
       "        text-align: right;\n",
       "    }\n",
       "</style>\n",
       "<table border=\"1\" class=\"dataframe\">\n",
       "  <thead>\n",
       "    <tr style=\"text-align: right;\">\n",
       "      <th></th>\n",
       "      <th>id</th>\n",
       "      <th>comment_text</th>\n",
       "      <th>toxic</th>\n",
       "      <th>severe_toxic</th>\n",
       "      <th>obscene</th>\n",
       "      <th>threat</th>\n",
       "      <th>insult</th>\n",
       "      <th>identity_hate</th>\n",
       "    </tr>\n",
       "  </thead>\n",
       "  <tbody>\n",
       "    <tr>\n",
       "      <th>0</th>\n",
       "      <td>00001cee341fdb12</td>\n",
       "      <td>Yo bitch Ja Rule is more succesful then you'll ever be whats up with you and hating you sad mofuckas...i should bitch slap ur pethedic white faces and get you to kiss my ass you guys sicken me. Ja rule is about pride in da music man. dont diss that shit on him. and nothin is wrong bein like tupac he was a brother too...fuckin white boys get things right next time.,</td>\n",
       "      <td>0.000752</td>\n",
       "      <td>0.000041</td>\n",
       "      <td>0.000384</td>\n",
       "      <td>0.000074</td>\n",
       "      <td>0.000280</td>\n",
       "      <td>0.000086</td>\n",
       "    </tr>\n",
       "    <tr>\n",
       "      <th>1</th>\n",
       "      <td>0000247867823ef7</td>\n",
       "      <td>== From RfC == \\n\\n The title is fine as it is, IMO.</td>\n",
       "      <td>0.000035</td>\n",
       "      <td>0.000002</td>\n",
       "      <td>0.000133</td>\n",
       "      <td>0.000002</td>\n",
       "      <td>0.000029</td>\n",
       "      <td>0.000012</td>\n",
       "    </tr>\n",
       "    <tr>\n",
       "      <th>2</th>\n",
       "      <td>00013b17ad220c46</td>\n",
       "      <td>\" \\n\\n == Sources == \\n\\n * Zawe Ashton on Lapland —  /  \"</td>\n",
       "      <td>0.000157</td>\n",
       "      <td>0.000002</td>\n",
       "      <td>0.000101</td>\n",
       "      <td>0.000002</td>\n",
       "      <td>0.000043</td>\n",
       "      <td>0.000007</td>\n",
       "    </tr>\n",
       "    <tr>\n",
       "      <th>3</th>\n",
       "      <td>00017563c3f7919a</td>\n",
       "      <td>:If you have a look back at the source, the information I updated was the correct form. I can only guess the source hadn't updated. I shall update the information once again but thank you for your message.</td>\n",
       "      <td>0.001052</td>\n",
       "      <td>0.000016</td>\n",
       "      <td>0.000288</td>\n",
       "      <td>0.000017</td>\n",
       "      <td>0.000385</td>\n",
       "      <td>0.000063</td>\n",
       "    </tr>\n",
       "    <tr>\n",
       "      <th>4</th>\n",
       "      <td>00017695ad8997eb</td>\n",
       "      <td>I don't anonymously edit articles at all.</td>\n",
       "      <td>0.466336</td>\n",
       "      <td>0.004310</td>\n",
       "      <td>0.139967</td>\n",
       "      <td>0.000765</td>\n",
       "      <td>0.105867</td>\n",
       "      <td>0.005094</td>\n",
       "    </tr>\n",
       "    <tr>\n",
       "      <th>5</th>\n",
       "      <td>0001ea8717f6de06</td>\n",
       "      <td>Thank you for understanding. I think very highly of you and would not revert without discussion.</td>\n",
       "      <td>0.000128</td>\n",
       "      <td>0.000004</td>\n",
       "      <td>0.000134</td>\n",
       "      <td>0.000004</td>\n",
       "      <td>0.000080</td>\n",
       "      <td>0.000004</td>\n",
       "    </tr>\n",
       "    <tr>\n",
       "      <th>6</th>\n",
       "      <td>00024115d4cbde0f</td>\n",
       "      <td>Please do not add nonsense to Wikipedia. Such edits are considered vandalism and quickly undone. If you would like to experiment, please use the sandbox instead. Thank you.   -</td>\n",
       "      <td>0.341932</td>\n",
       "      <td>0.000501</td>\n",
       "      <td>0.210300</td>\n",
       "      <td>0.000052</td>\n",
       "      <td>0.036544</td>\n",
       "      <td>0.000700</td>\n",
       "    </tr>\n",
       "    <tr>\n",
       "      <th>7</th>\n",
       "      <td>000247e83dcc1211</td>\n",
       "      <td>:Dear god this site is horrible.</td>\n",
       "      <td>0.000782</td>\n",
       "      <td>0.000007</td>\n",
       "      <td>0.000345</td>\n",
       "      <td>0.000003</td>\n",
       "      <td>0.000333</td>\n",
       "      <td>0.000024</td>\n",
       "    </tr>\n",
       "    <tr>\n",
       "      <th>8</th>\n",
       "      <td>00025358d4737918</td>\n",
       "      <td>\" \\n Only a fool can believe in such numbers. \\n The correct number lies between 10 000 to 15 000. \\n Ponder the numbers carefully.  \\n\\n This error will persist for a long time as it continues to reproduce... The latest reproduction I know is from ENCYCLOPÆDIA BRITANNICA ALMANAC 2008 wich states \\n Magnittude: 8.7 (fair enough) \\n victims: 70 000 (today 10 000 to 15 000 is not \"\"a lot\"\" so I guess people just come out with a number that impresses enough, I don't know. But I know this: it's just a shameless lucky number that they throw in the air. \\n GC \\n\\n \"</td>\n",
       "      <td>0.037141</td>\n",
       "      <td>0.002151</td>\n",
       "      <td>0.019343</td>\n",
       "      <td>0.000621</td>\n",
       "      <td>0.014469</td>\n",
       "      <td>0.003317</td>\n",
       "    </tr>\n",
       "    <tr>\n",
       "      <th>9</th>\n",
       "      <td>00026d1092fe71cc</td>\n",
       "      <td>== Double Redirects == \\n\\n When fixing double redirects, don't just blank the outer one, you need edit it to point it to the final target, unless you think it's inappropriate, in which case, it needs to be nominated at WP:RfD</td>\n",
       "      <td>0.000252</td>\n",
       "      <td>0.000004</td>\n",
       "      <td>0.000128</td>\n",
       "      <td>0.000006</td>\n",
       "      <td>0.000087</td>\n",
       "      <td>0.000011</td>\n",
       "    </tr>\n",
       "    <tr>\n",
       "      <th>10</th>\n",
       "      <td>0002eadc3b301559</td>\n",
       "      <td>I think its crap that the link to roggenbier is to this article. Somebody that knows how to do things should change it.</td>\n",
       "      <td>0.409328</td>\n",
       "      <td>0.004804</td>\n",
       "      <td>0.069218</td>\n",
       "      <td>0.001734</td>\n",
       "      <td>0.162523</td>\n",
       "      <td>0.003708</td>\n",
       "    </tr>\n",
       "    <tr>\n",
       "      <th>11</th>\n",
       "      <td>0002f87b16116a7f</td>\n",
       "      <td>\"::: Somebody will invariably try to add Religion?  Really??  You mean, the way people have invariably kept adding \"\"Religion\"\" to the Samuel Beckett infobox?  And why do you bother bringing up the long-dead completely non-existent \"\"Influences\"\" issue?  You're just flailing, making up crap on the fly. \\n ::: For comparison, the only explicit acknowledgement in the entire Amos Oz article that he is personally Jewish is in the categories!    \\n\\n \"</td>\n",
       "      <td>0.023042</td>\n",
       "      <td>0.000031</td>\n",
       "      <td>0.005000</td>\n",
       "      <td>0.000010</td>\n",
       "      <td>0.001994</td>\n",
       "      <td>0.000172</td>\n",
       "    </tr>\n",
       "    <tr>\n",
       "      <th>12</th>\n",
       "      <td>0003806b11932181</td>\n",
       "      <td>, 25 February 2010 (UTC) \\n\\n :::Looking it over, it's clear that  (a banned sockpuppet of ) ignored the consensus (&amp;, fwiw, policy-appropriate) choice to leave the page at Chihuahua (Mexico) and the current page should be returned there. Anyone have the time to fix the incoming links? -  18:24</td>\n",
       "      <td>0.999413</td>\n",
       "      <td>0.373550</td>\n",
       "      <td>0.996424</td>\n",
       "      <td>0.021103</td>\n",
       "      <td>0.964637</td>\n",
       "      <td>0.080086</td>\n",
       "    </tr>\n",
       "    <tr>\n",
       "      <th>13</th>\n",
       "      <td>0003e1cccfd5a40a</td>\n",
       "      <td>\" \\n\\n It says it right there that it IS a type. The \"\"Type\"\" of institution is needed in this case because there are three levels of SUNY schools: \\n -University Centers and Doctoral Granting Institutions \\n -State Colleges \\n -Community Colleges. \\n\\n It is needed in this case to clarify that UB is a SUNY Center. It says it even in Binghamton University, University at Albany, State University of New York, and Stony Brook University. Stop trying to say it's not because I am totally right in this case.\"</td>\n",
       "      <td>0.000085</td>\n",
       "      <td>0.000003</td>\n",
       "      <td>0.000046</td>\n",
       "      <td>0.000016</td>\n",
       "      <td>0.000038</td>\n",
       "      <td>0.000012</td>\n",
       "    </tr>\n",
       "    <tr>\n",
       "      <th>14</th>\n",
       "      <td>00059ace3e3e9a53</td>\n",
       "      <td>\" \\n\\n == Before adding a new product to the list, make sure it's relevant == \\n\\n Before adding a new product to the list, make sure it has a wikipedia entry already, \"\"proving\"\" it's relevance and giving the reader the possibility to read more about it. \\n Otherwise it could be subject to deletion. See this article's revision history.\"</td>\n",
       "      <td>0.058947</td>\n",
       "      <td>0.009658</td>\n",
       "      <td>0.047613</td>\n",
       "      <td>0.002635</td>\n",
       "      <td>0.049835</td>\n",
       "      <td>0.018651</td>\n",
       "    </tr>\n",
       "    <tr>\n",
       "      <th>15</th>\n",
       "      <td>000634272d0d44eb</td>\n",
       "      <td>==Current Position== \\n Anyone have confirmation that Sir, Alfred is no longer at the airport and is hospitalised?</td>\n",
       "      <td>0.000088</td>\n",
       "      <td>0.000002</td>\n",
       "      <td>0.000047</td>\n",
       "      <td>0.000002</td>\n",
       "      <td>0.000035</td>\n",
       "      <td>0.000005</td>\n",
       "    </tr>\n",
       "    <tr>\n",
       "      <th>16</th>\n",
       "      <td>000663aff0fffc80</td>\n",
       "      <td>this other one from 1897</td>\n",
       "      <td>0.971493</td>\n",
       "      <td>0.113499</td>\n",
       "      <td>0.747895</td>\n",
       "      <td>0.018089</td>\n",
       "      <td>0.819792</td>\n",
       "      <td>0.039581</td>\n",
       "    </tr>\n",
       "    <tr>\n",
       "      <th>17</th>\n",
       "      <td>000689dd34e20979</td>\n",
       "      <td>== Reason for banning throwing == \\n\\n This article needs a section on /why/ throwing is banned. At the moment, to a non-cricket fan, it seems kind of arbitrary.</td>\n",
       "      <td>0.993011</td>\n",
       "      <td>0.060716</td>\n",
       "      <td>0.965429</td>\n",
       "      <td>0.005888</td>\n",
       "      <td>0.522864</td>\n",
       "      <td>0.027231</td>\n",
       "    </tr>\n",
       "    <tr>\n",
       "      <th>18</th>\n",
       "      <td>000834769115370c</td>\n",
       "      <td>:: Wallamoose was changing the cited material to say things the original source did not say. In response to his objections, I modified the article as we went along. I was not just reverting him. I repeatedly asked him to use the talk page. I've been trying to add to the article for a long time.  It's so thin on content. This is wrong.</td>\n",
       "      <td>0.003930</td>\n",
       "      <td>0.000065</td>\n",
       "      <td>0.001094</td>\n",
       "      <td>0.000430</td>\n",
       "      <td>0.001088</td>\n",
       "      <td>0.000078</td>\n",
       "    </tr>\n",
       "    <tr>\n",
       "      <th>19</th>\n",
       "      <td>000844b52dee5f3f</td>\n",
       "      <td>|blocked]] from editing Wikipedia.   |</td>\n",
       "      <td>0.009025</td>\n",
       "      <td>0.000275</td>\n",
       "      <td>0.003024</td>\n",
       "      <td>0.000338</td>\n",
       "      <td>0.001891</td>\n",
       "      <td>0.000986</td>\n",
       "    </tr>\n",
       "    <tr>\n",
       "      <th>20</th>\n",
       "      <td>00084da5d4ead7aa</td>\n",
       "      <td>==Indefinitely blocked== \\n I have indefinitely blocked this account.</td>\n",
       "      <td>0.329405</td>\n",
       "      <td>0.007355</td>\n",
       "      <td>0.047116</td>\n",
       "      <td>0.001191</td>\n",
       "      <td>0.172896</td>\n",
       "      <td>0.026872</td>\n",
       "    </tr>\n",
       "    <tr>\n",
       "      <th>21</th>\n",
       "      <td>00091c35fa9d0465</td>\n",
       "      <td>== Arabs are committing genocide in Iraq, but no protests in Europe. == \\n\\n May Europe also burn in hell.</td>\n",
       "      <td>0.000094</td>\n",
       "      <td>0.000002</td>\n",
       "      <td>0.000052</td>\n",
       "      <td>0.000004</td>\n",
       "      <td>0.000055</td>\n",
       "      <td>0.000005</td>\n",
       "    </tr>\n",
       "    <tr>\n",
       "      <th>22</th>\n",
       "      <td>000968ce11f5ee34</td>\n",
       "      <td>Please stop. If you continue to vandalize Wikipedia, as you did to Homosexuality, you will be blocked from editing.</td>\n",
       "      <td>0.828053</td>\n",
       "      <td>0.005406</td>\n",
       "      <td>0.651834</td>\n",
       "      <td>0.000405</td>\n",
       "      <td>0.273603</td>\n",
       "      <td>0.003786</td>\n",
       "    </tr>\n",
       "    <tr>\n",
       "      <th>23</th>\n",
       "      <td>0009734200a85047</td>\n",
       "      <td>== Energy  == \\n\\n I have edited the introduction, because previously it said that passive transport does not use any kind of energy. This is not true. Passive transport relies on the kinetic energy of the substance that is being transported. This kinetic energy is what causes it to move around and (by random chance) cross the membrane. The difference is that active transport actually uses the cell's energy (ATP or electrochemical gradient) to pump the substance across the membrane.</td>\n",
       "      <td>0.000129</td>\n",
       "      <td>0.000003</td>\n",
       "      <td>0.000067</td>\n",
       "      <td>0.000006</td>\n",
       "      <td>0.000041</td>\n",
       "      <td>0.000009</td>\n",
       "    </tr>\n",
       "    <tr>\n",
       "      <th>24</th>\n",
       "      <td>00097b6214686db5</td>\n",
       "      <td>:yeah, thanks for reviving the tradition of pissing all over articles because you want to live out your ethnic essentialism. Why let mere facts get into the way of enjoying that.</td>\n",
       "      <td>0.403701</td>\n",
       "      <td>0.003129</td>\n",
       "      <td>0.064111</td>\n",
       "      <td>0.000513</td>\n",
       "      <td>0.059782</td>\n",
       "      <td>0.003107</td>\n",
       "    </tr>\n",
       "    <tr>\n",
       "      <th>25</th>\n",
       "      <td>0009aef4bd9e1697</td>\n",
       "      <td>MLM Software,NBFC software,Non Banking Financial Company,NBFC software company,NBFC software in india,software for banking,Gold loan software.MLM Software  \\n\\n '''SEO Services \\n Search Engine Optimization \\n www.liveindiatech.com \\n\\n According to a recenBold textt survey people have moved away from searching print media for their needs. They use search engines to find the products and services. The first step to have a successful presence over the internet is creating your own website but that is not enough. When someone searches for the products/services that you offer your name needs to be listed high in the search engine.  \\n\\n Live India Tech guarantees you search engine optimization using which your organizations name will feature in the top ten listing in all the search engines. This will ensure that the traffic to your site will increase exponentially aiding you in the sales of more products and services.  \\n\\n We have invested enough resources to develop an SEO system that is far superior to anything else in the market. \\n\\n www.liveindiatech.com</td>\n",
       "      <td>0.000370</td>\n",
       "      <td>0.000007</td>\n",
       "      <td>0.000111</td>\n",
       "      <td>0.000050</td>\n",
       "      <td>0.000374</td>\n",
       "      <td>0.000081</td>\n",
       "    </tr>\n",
       "    <tr>\n",
       "      <th>26</th>\n",
       "      <td>000a02d807ae0254</td>\n",
       "      <td>@RedSlash, cut it short. If you have sources stating the RoK is sovereign post them. Otherwise please aknowledge WP is not the place to make OR.</td>\n",
       "      <td>0.004446</td>\n",
       "      <td>0.000021</td>\n",
       "      <td>0.002055</td>\n",
       "      <td>0.000013</td>\n",
       "      <td>0.001253</td>\n",
       "      <td>0.000381</td>\n",
       "    </tr>\n",
       "    <tr>\n",
       "      <th>27</th>\n",
       "      <td>000a6c6d4e89b9bc</td>\n",
       "      <td>==================== \\n Deception is the way of the Ninja..... \\n\\n Hence, Frank Dux is an amazing Ninja</td>\n",
       "      <td>0.000226</td>\n",
       "      <td>0.000005</td>\n",
       "      <td>0.000129</td>\n",
       "      <td>0.000004</td>\n",
       "      <td>0.000062</td>\n",
       "      <td>0.000009</td>\n",
       "    </tr>\n",
       "    <tr>\n",
       "      <th>28</th>\n",
       "      <td>000bafe2080bba82</td>\n",
       "      <td>. \\n\\n           Jews are not a race because you can only get it from your mother. Your own mention of Ethiopian Jews not testing \\n           as Jews proves it is not, as well as the fact that we accept converts</td>\n",
       "      <td>0.014443</td>\n",
       "      <td>0.000113</td>\n",
       "      <td>0.008954</td>\n",
       "      <td>0.000040</td>\n",
       "      <td>0.004291</td>\n",
       "      <td>0.000098</td>\n",
       "    </tr>\n",
       "    <tr>\n",
       "      <th>29</th>\n",
       "      <td>000bf0a9894b2807</td>\n",
       "      <td>:::If Ollie or others think that one list of the oldest people we know about is too long, the easy answer is to raise the cutoff age. 110 is purely a round number and a full 12 years shorter then the record. We can make it the top 1000 or top 500 or everyone above 115 - tell us what the maximum list size is and we can set a threshold.</td>\n",
       "      <td>0.960267</td>\n",
       "      <td>0.023768</td>\n",
       "      <td>0.688381</td>\n",
       "      <td>0.119503</td>\n",
       "      <td>0.410933</td>\n",
       "      <td>0.016031</td>\n",
       "    </tr>\n",
       "  </tbody>\n",
       "</table>\n",
       "</div>"
      ],
      "text/plain": [
       "                  id  \\\n",
       "0   00001cee341fdb12   \n",
       "1   0000247867823ef7   \n",
       "2   00013b17ad220c46   \n",
       "3   00017563c3f7919a   \n",
       "4   00017695ad8997eb   \n",
       "5   0001ea8717f6de06   \n",
       "6   00024115d4cbde0f   \n",
       "7   000247e83dcc1211   \n",
       "8   00025358d4737918   \n",
       "9   00026d1092fe71cc   \n",
       "10  0002eadc3b301559   \n",
       "11  0002f87b16116a7f   \n",
       "12  0003806b11932181   \n",
       "13  0003e1cccfd5a40a   \n",
       "14  00059ace3e3e9a53   \n",
       "15  000634272d0d44eb   \n",
       "16  000663aff0fffc80   \n",
       "17  000689dd34e20979   \n",
       "18  000834769115370c   \n",
       "19  000844b52dee5f3f   \n",
       "20  00084da5d4ead7aa   \n",
       "21  00091c35fa9d0465   \n",
       "22  000968ce11f5ee34   \n",
       "23  0009734200a85047   \n",
       "24  00097b6214686db5   \n",
       "25  0009aef4bd9e1697   \n",
       "26  000a02d807ae0254   \n",
       "27  000a6c6d4e89b9bc   \n",
       "28  000bafe2080bba82   \n",
       "29  000bf0a9894b2807   \n",
       "\n",
       "                                                                                                                                                                                                                                                                                                                                                                                                                                                                                                                                                                                                                                                                                                                                                                                                                                                                                                                                                                                                                                                                                                         comment_text  \\\n",
       "0   Yo bitch Ja Rule is more succesful then you'll ever be whats up with you and hating you sad mofuckas...i should bitch slap ur pethedic white faces and get you to kiss my ass you guys sicken me. Ja rule is about pride in da music man. dont diss that shit on him. and nothin is wrong bein like tupac he was a brother too...fuckin white boys get things right next time.,                                                                                                                                                                                                                                                                                                                                                                                                                                                                                                                                                                                                                                                                                                                                     \n",
       "1   == From RfC == \\n\\n The title is fine as it is, IMO.                                                                                                                                                                                                                                                                                                                                                                                                                                                                                                                                                                                                                                                                                                                                                                                                                                                                                                                                                                                                                                                                \n",
       "2   \" \\n\\n == Sources == \\n\\n * Zawe Ashton on Lapland —  /  \"                                                                                                                                                                                                                                                                                                                                                                                                                                                                                                                                                                                                                                                                                                                                                                                                                                                                                                                                                                                                                                                          \n",
       "3   :If you have a look back at the source, the information I updated was the correct form. I can only guess the source hadn't updated. I shall update the information once again but thank you for your message.                                                                                                                                                                                                                                                                                                                                                                                                                                                                                                                                                                                                                                                                                                                                                                                                                                                                                                       \n",
       "4   I don't anonymously edit articles at all.                                                                                                                                                                                                                                                                                                                                                                                                                                                                                                                                                                                                                                                                                                                                                                                                                                                                                                                                                                                                                                                                           \n",
       "5   Thank you for understanding. I think very highly of you and would not revert without discussion.                                                                                                                                                                                                                                                                                                                                                                                                                                                                                                                                                                                                                                                                                                                                                                                                                                                                                                                                                                                                                    \n",
       "6   Please do not add nonsense to Wikipedia. Such edits are considered vandalism and quickly undone. If you would like to experiment, please use the sandbox instead. Thank you.   -                                                                                                                                                                                                                                                                                                                                                                                                                                                                                                                                                                                                                                                                                                                                                                                                                                                                                                                                    \n",
       "7   :Dear god this site is horrible.                                                                                                                                                                                                                                                                                                                                                                                                                                                                                                                                                                                                                                                                                                                                                                                                                                                                                                                                                                                                                                                                                    \n",
       "8   \" \\n Only a fool can believe in such numbers. \\n The correct number lies between 10 000 to 15 000. \\n Ponder the numbers carefully.  \\n\\n This error will persist for a long time as it continues to reproduce... The latest reproduction I know is from ENCYCLOPÆDIA BRITANNICA ALMANAC 2008 wich states \\n Magnittude: 8.7 (fair enough) \\n victims: 70 000 (today 10 000 to 15 000 is not \"\"a lot\"\" so I guess people just come out with a number that impresses enough, I don't know. But I know this: it's just a shameless lucky number that they throw in the air. \\n GC \\n\\n \"                                                                                                                                                                                                                                                                                                                                                                                                                                                                                                                              \n",
       "9   == Double Redirects == \\n\\n When fixing double redirects, don't just blank the outer one, you need edit it to point it to the final target, unless you think it's inappropriate, in which case, it needs to be nominated at WP:RfD                                                                                                                                                                                                                                                                                                                                                                                                                                                                                                                                                                                                                                                                                                                                                                                                                                                                                  \n",
       "10  I think its crap that the link to roggenbier is to this article. Somebody that knows how to do things should change it.                                                                                                                                                                                                                                                                                                                                                                                                                                                                                                                                                                                                                                                                                                                                                                                                                                                                                                                                                                                             \n",
       "11  \"::: Somebody will invariably try to add Religion?  Really??  You mean, the way people have invariably kept adding \"\"Religion\"\" to the Samuel Beckett infobox?  And why do you bother bringing up the long-dead completely non-existent \"\"Influences\"\" issue?  You're just flailing, making up crap on the fly. \\n ::: For comparison, the only explicit acknowledgement in the entire Amos Oz article that he is personally Jewish is in the categories!    \\n\\n \"                                                                                                                                                                                                                                                                                                                                                                                                                                                                                                                                                                                                                                                 \n",
       "12  , 25 February 2010 (UTC) \\n\\n :::Looking it over, it's clear that  (a banned sockpuppet of ) ignored the consensus (&, fwiw, policy-appropriate) choice to leave the page at Chihuahua (Mexico) and the current page should be returned there. Anyone have the time to fix the incoming links? -  18:24                                                                                                                                                                                                                                                                                                                                                                                                                                                                                                                                                                                                                                                                                                                                                                                                             \n",
       "13  \" \\n\\n It says it right there that it IS a type. The \"\"Type\"\" of institution is needed in this case because there are three levels of SUNY schools: \\n -University Centers and Doctoral Granting Institutions \\n -State Colleges \\n -Community Colleges. \\n\\n It is needed in this case to clarify that UB is a SUNY Center. It says it even in Binghamton University, University at Albany, State University of New York, and Stony Brook University. Stop trying to say it's not because I am totally right in this case.\"                                                                                                                                                                                                                                                                                                                                                                                                                                                                                                                                                                                        \n",
       "14  \" \\n\\n == Before adding a new product to the list, make sure it's relevant == \\n\\n Before adding a new product to the list, make sure it has a wikipedia entry already, \"\"proving\"\" it's relevance and giving the reader the possibility to read more about it. \\n Otherwise it could be subject to deletion. See this article's revision history.\"                                                                                                                                                                                                                                                                                                                                                                                                                                                                                                                                                                                                                                                                                                                                                                 \n",
       "15  ==Current Position== \\n Anyone have confirmation that Sir, Alfred is no longer at the airport and is hospitalised?                                                                                                                                                                                                                                                                                                                                                                                                                                                                                                                                                                                                                                                                                                                                                                                                                                                                                                                                                                                                  \n",
       "16  this other one from 1897                                                                                                                                                                                                                                                                                                                                                                                                                                                                                                                                                                                                                                                                                                                                                                                                                                                                                                                                                                                                                                                                                            \n",
       "17  == Reason for banning throwing == \\n\\n This article needs a section on /why/ throwing is banned. At the moment, to a non-cricket fan, it seems kind of arbitrary.                                                                                                                                                                                                                                                                                                                                                                                                                                                                                                                                                                                                                                                                                                                                                                                                                                                                                                                                                   \n",
       "18  :: Wallamoose was changing the cited material to say things the original source did not say. In response to his objections, I modified the article as we went along. I was not just reverting him. I repeatedly asked him to use the talk page. I've been trying to add to the article for a long time.  It's so thin on content. This is wrong.                                                                                                                                                                                                                                                                                                                                                                                                                                                                                                                                                                                                                                                                                                                                                                    \n",
       "19  |blocked]] from editing Wikipedia.   |                                                                                                                                                                                                                                                                                                                                                                                                                                                                                                                                                                                                                                                                                                                                                                                                                                                                                                                                                                                                                                                                              \n",
       "20  ==Indefinitely blocked== \\n I have indefinitely blocked this account.                                                                                                                                                                                                                                                                                                                                                                                                                                                                                                                                                                                                                                                                                                                                                                                                                                                                                                                                                                                                                                               \n",
       "21  == Arabs are committing genocide in Iraq, but no protests in Europe. == \\n\\n May Europe also burn in hell.                                                                                                                                                                                                                                                                                                                                                                                                                                                                                                                                                                                                                                                                                                                                                                                                                                                                                                                                                                                                          \n",
       "22  Please stop. If you continue to vandalize Wikipedia, as you did to Homosexuality, you will be blocked from editing.                                                                                                                                                                                                                                                                                                                                                                                                                                                                                                                                                                                                                                                                                                                                                                                                                                                                                                                                                                                                 \n",
       "23  == Energy  == \\n\\n I have edited the introduction, because previously it said that passive transport does not use any kind of energy. This is not true. Passive transport relies on the kinetic energy of the substance that is being transported. This kinetic energy is what causes it to move around and (by random chance) cross the membrane. The difference is that active transport actually uses the cell's energy (ATP or electrochemical gradient) to pump the substance across the membrane.                                                                                                                                                                                                                                                                                                                                                                                                                                                                                                                                                                                                             \n",
       "24  :yeah, thanks for reviving the tradition of pissing all over articles because you want to live out your ethnic essentialism. Why let mere facts get into the way of enjoying that.                                                                                                                                                                                                                                                                                                                                                                                                                                                                                                                                                                                                                                                                                                                                                                                                                                                                                                                                  \n",
       "25  MLM Software,NBFC software,Non Banking Financial Company,NBFC software company,NBFC software in india,software for banking,Gold loan software.MLM Software  \\n\\n '''SEO Services \\n Search Engine Optimization \\n www.liveindiatech.com \\n\\n According to a recenBold textt survey people have moved away from searching print media for their needs. They use search engines to find the products and services. The first step to have a successful presence over the internet is creating your own website but that is not enough. When someone searches for the products/services that you offer your name needs to be listed high in the search engine.  \\n\\n Live India Tech guarantees you search engine optimization using which your organizations name will feature in the top ten listing in all the search engines. This will ensure that the traffic to your site will increase exponentially aiding you in the sales of more products and services.  \\n\\n We have invested enough resources to develop an SEO system that is far superior to anything else in the market. \\n\\n www.liveindiatech.com   \n",
       "26  @RedSlash, cut it short. If you have sources stating the RoK is sovereign post them. Otherwise please aknowledge WP is not the place to make OR.                                                                                                                                                                                                                                                                                                                                                                                                                                                                                                                                                                                                                                                                                                                                                                                                                                                                                                                                                                    \n",
       "27  ==================== \\n Deception is the way of the Ninja..... \\n\\n Hence, Frank Dux is an amazing Ninja                                                                                                                                                                                                                                                                                                                                                                                                                                                                                                                                                                                                                                                                                                                                                                                                                                                                                                                                                                                                            \n",
       "28  . \\n\\n           Jews are not a race because you can only get it from your mother. Your own mention of Ethiopian Jews not testing \\n           as Jews proves it is not, as well as the fact that we accept converts                                                                                                                                                                                                                                                                                                                                                                                                                                                                                                                                                                                                                                                                                                                                                                                                                                                                                                \n",
       "29  :::If Ollie or others think that one list of the oldest people we know about is too long, the easy answer is to raise the cutoff age. 110 is purely a round number and a full 12 years shorter then the record. We can make it the top 1000 or top 500 or everyone above 115 - tell us what the maximum list size is and we can set a threshold.                                                                                                                                                                                                                                                                                                                                                                                                                                                                                                                                                                                                                                                                                                                                                                    \n",
       "\n",
       "       toxic  severe_toxic   obscene    threat    insult  identity_hate  \n",
       "0   0.000752  0.000041      0.000384  0.000074  0.000280  0.000086       \n",
       "1   0.000035  0.000002      0.000133  0.000002  0.000029  0.000012       \n",
       "2   0.000157  0.000002      0.000101  0.000002  0.000043  0.000007       \n",
       "3   0.001052  0.000016      0.000288  0.000017  0.000385  0.000063       \n",
       "4   0.466336  0.004310      0.139967  0.000765  0.105867  0.005094       \n",
       "5   0.000128  0.000004      0.000134  0.000004  0.000080  0.000004       \n",
       "6   0.341932  0.000501      0.210300  0.000052  0.036544  0.000700       \n",
       "7   0.000782  0.000007      0.000345  0.000003  0.000333  0.000024       \n",
       "8   0.037141  0.002151      0.019343  0.000621  0.014469  0.003317       \n",
       "9   0.000252  0.000004      0.000128  0.000006  0.000087  0.000011       \n",
       "10  0.409328  0.004804      0.069218  0.001734  0.162523  0.003708       \n",
       "11  0.023042  0.000031      0.005000  0.000010  0.001994  0.000172       \n",
       "12  0.999413  0.373550      0.996424  0.021103  0.964637  0.080086       \n",
       "13  0.000085  0.000003      0.000046  0.000016  0.000038  0.000012       \n",
       "14  0.058947  0.009658      0.047613  0.002635  0.049835  0.018651       \n",
       "15  0.000088  0.000002      0.000047  0.000002  0.000035  0.000005       \n",
       "16  0.971493  0.113499      0.747895  0.018089  0.819792  0.039581       \n",
       "17  0.993011  0.060716      0.965429  0.005888  0.522864  0.027231       \n",
       "18  0.003930  0.000065      0.001094  0.000430  0.001088  0.000078       \n",
       "19  0.009025  0.000275      0.003024  0.000338  0.001891  0.000986       \n",
       "20  0.329405  0.007355      0.047116  0.001191  0.172896  0.026872       \n",
       "21  0.000094  0.000002      0.000052  0.000004  0.000055  0.000005       \n",
       "22  0.828053  0.005406      0.651834  0.000405  0.273603  0.003786       \n",
       "23  0.000129  0.000003      0.000067  0.000006  0.000041  0.000009       \n",
       "24  0.403701  0.003129      0.064111  0.000513  0.059782  0.003107       \n",
       "25  0.000370  0.000007      0.000111  0.000050  0.000374  0.000081       \n",
       "26  0.004446  0.000021      0.002055  0.000013  0.001253  0.000381       \n",
       "27  0.000226  0.000005      0.000129  0.000004  0.000062  0.000009       \n",
       "28  0.014443  0.000113      0.008954  0.000040  0.004291  0.000098       \n",
       "29  0.960267  0.023768      0.688381  0.119503  0.410933  0.016031       "
      ]
     },
     "execution_count": 133,
     "metadata": {},
     "output_type": "execute_result"
    }
   ],
   "source": [
    "subm_df = pd.read_csv(\"data/test.csv\")\n",
    "\n",
    "for i, col in enumerate([\"toxic\", \"severe_toxic\", \"obscene\", \"threat\", \"insult\", \"identity_hate\"]):\n",
    "    subm_df[col] = final_preds[:, i]\n",
    "\n",
    "subm_df.head(30)"
   ]
  },
  {
   "cell_type": "code",
   "execution_count": 134,
   "metadata": {},
   "outputs": [],
   "source": [
    "# if you want to write the submission file to disk, uncomment and run the below code\n",
    "subm_df.drop(\"comment_text\", axis=1).to_csv(f'{PATH}/submissions/subm1.csv', index=False)"
   ]
  },
  {
   "cell_type": "code",
   "execution_count": null,
   "metadata": {},
   "outputs": [],
   "source": []
  }
 ],
 "metadata": {
  "kernelspec": {
   "display_name": "Python 3",
   "language": "python",
   "name": "python3"
  },
  "language_info": {
   "codemirror_mode": {
    "name": "ipython",
    "version": 3
   },
   "file_extension": ".py",
   "mimetype": "text/x-python",
   "name": "python",
   "nbconvert_exporter": "python",
   "pygments_lexer": "ipython3",
   "version": "3.6.4"
  }
 },
 "nbformat": 4,
 "nbformat_minor": 2
}
